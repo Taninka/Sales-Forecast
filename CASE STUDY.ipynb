{
 "cells": [
  {
   "cell_type": "code",
   "execution_count": 91,
   "metadata": {
    "id": "6e41d674-f553-4b61-9d34-6d17ab6cf5f8",
    "tags": []
   },
   "outputs": [],
   "source": [
    "import pandas as pd\n",
    "import matplotlib.pyplot as plt\n",
    "import seaborn as sns\n",
    "from plotly import __version__\n",
    "from plotly.offline import download_plotlyjs, init_notebook_mode, plot, iplot\n",
    "%matplotlib inline"
   ]
  },
  {
   "cell_type": "code",
   "execution_count": 92,
   "metadata": {
    "id": "3f53cb1a-f3d9-4afd-9cfe-173fe7561550",
    "tags": []
   },
   "outputs": [
    {
     "name": "stdout",
     "output_type": "stream",
     "text": [
      "Requirement already satisfied: cufflinks in /opt/conda/envs/Python-3.7-OpenCE/lib/python3.7/site-packages (0.17.3)\n",
      "Requirement already satisfied: numpy>=1.9.2 in /opt/conda/envs/Python-3.7-OpenCE/lib/python3.7/site-packages (from cufflinks) (1.19.2)\n",
      "Requirement already satisfied: setuptools>=34.4.1 in /opt/conda/envs/Python-3.7-OpenCE/lib/python3.7/site-packages (from cufflinks) (47.3.1.post20200622)\n",
      "Requirement already satisfied: ipywidgets>=7.0.0 in /opt/conda/envs/Python-3.7-OpenCE/lib/python3.7/site-packages (from cufflinks) (7.5.1)\n",
      "Requirement already satisfied: colorlover>=0.2.1 in /opt/conda/envs/Python-3.7-OpenCE/lib/python3.7/site-packages (from cufflinks) (0.3.0)\n",
      "Requirement already satisfied: plotly>=4.1.1 in /opt/conda/envs/Python-3.7-OpenCE/lib/python3.7/site-packages (from cufflinks) (4.8.2)\n",
      "Requirement already satisfied: ipython>=5.3.0 in /opt/conda/envs/Python-3.7-OpenCE/lib/python3.7/site-packages (from cufflinks) (7.15.0)\n",
      "Requirement already satisfied: pandas>=0.19.2 in /opt/conda/envs/Python-3.7-OpenCE/lib/python3.7/site-packages (from cufflinks) (1.0.5)\n",
      "Requirement already satisfied: six>=1.9.0 in /opt/conda/envs/Python-3.7-OpenCE/lib/python3.7/site-packages (from cufflinks) (1.15.0)\n",
      "Requirement already satisfied: widgetsnbextension~=3.5.0 in /opt/conda/envs/Python-3.7-OpenCE/lib/python3.7/site-packages (from ipywidgets>=7.0.0->cufflinks) (3.5.1)\n",
      "Requirement already satisfied: ipykernel>=4.5.1 in /opt/conda/envs/Python-3.7-OpenCE/lib/python3.7/site-packages (from ipywidgets>=7.0.0->cufflinks) (5.3.0)\n",
      "Requirement already satisfied: traitlets>=4.3.1 in /opt/conda/envs/Python-3.7-OpenCE/lib/python3.7/site-packages (from ipywidgets>=7.0.0->cufflinks) (4.3.3)\n",
      "Requirement already satisfied: nbformat>=4.2.0 in /opt/conda/envs/Python-3.7-OpenCE/lib/python3.7/site-packages (from ipywidgets>=7.0.0->cufflinks) (5.0.7)\n",
      "Requirement already satisfied: retrying>=1.3.3 in /opt/conda/envs/Python-3.7-OpenCE/lib/python3.7/site-packages (from plotly>=4.1.1->cufflinks) (1.3.3)\n",
      "Requirement already satisfied: pygments in /opt/conda/envs/Python-3.7-OpenCE/lib/python3.7/site-packages (from ipython>=5.3.0->cufflinks) (2.6.1)\n",
      "Requirement already satisfied: prompt-toolkit!=3.0.0,!=3.0.1,<3.1.0,>=2.0.0 in /opt/conda/envs/Python-3.7-OpenCE/lib/python3.7/site-packages (from ipython>=5.3.0->cufflinks) (3.0.5)\n",
      "Requirement already satisfied: jedi>=0.10 in /opt/conda/envs/Python-3.7-OpenCE/lib/python3.7/site-packages (from ipython>=5.3.0->cufflinks) (0.17.1)\n",
      "Requirement already satisfied: backcall in /opt/conda/envs/Python-3.7-OpenCE/lib/python3.7/site-packages (from ipython>=5.3.0->cufflinks) (0.2.0)\n",
      "Requirement already satisfied: pickleshare in /opt/conda/envs/Python-3.7-OpenCE/lib/python3.7/site-packages (from ipython>=5.3.0->cufflinks) (0.7.5)\n",
      "Requirement already satisfied: decorator in /opt/conda/envs/Python-3.7-OpenCE/lib/python3.7/site-packages (from ipython>=5.3.0->cufflinks) (4.4.2)\n",
      "Requirement already satisfied: pexpect; sys_platform != \"win32\" in /opt/conda/envs/Python-3.7-OpenCE/lib/python3.7/site-packages (from ipython>=5.3.0->cufflinks) (4.8.0)\n",
      "Requirement already satisfied: pytz>=2017.2 in /opt/conda/envs/Python-3.7-OpenCE/lib/python3.7/site-packages (from pandas>=0.19.2->cufflinks) (2020.1)\n",
      "Requirement already satisfied: python-dateutil>=2.6.1 in /opt/conda/envs/Python-3.7-OpenCE/lib/python3.7/site-packages (from pandas>=0.19.2->cufflinks) (2.8.1)\n",
      "Requirement already satisfied: notebook>=4.4.1 in /opt/conda/envs/Python-3.7-OpenCE/lib/python3.7/site-packages (from widgetsnbextension~=3.5.0->ipywidgets>=7.0.0->cufflinks) (6.0.3)\n",
      "Requirement already satisfied: jupyter-client in /opt/conda/envs/Python-3.7-OpenCE/lib/python3.7/site-packages (from ipykernel>=4.5.1->ipywidgets>=7.0.0->cufflinks) (6.1.3)\n",
      "Requirement already satisfied: tornado>=4.2 in /opt/conda/envs/Python-3.7-OpenCE/lib/python3.7/site-packages (from ipykernel>=4.5.1->ipywidgets>=7.0.0->cufflinks) (6.0.4)\n",
      "Requirement already satisfied: ipython-genutils in /opt/conda/envs/Python-3.7-OpenCE/lib/python3.7/site-packages (from traitlets>=4.3.1->ipywidgets>=7.0.0->cufflinks) (0.2.0)\n",
      "Requirement already satisfied: jsonschema!=2.5.0,>=2.4 in /opt/conda/envs/Python-3.7-OpenCE/lib/python3.7/site-packages (from nbformat>=4.2.0->ipywidgets>=7.0.0->cufflinks) (3.2.0)\n",
      "Requirement already satisfied: jupyter-core in /opt/conda/envs/Python-3.7-OpenCE/lib/python3.7/site-packages (from nbformat>=4.2.0->ipywidgets>=7.0.0->cufflinks) (4.6.3)\n",
      "Requirement already satisfied: wcwidth in /opt/conda/envs/Python-3.7-OpenCE/lib/python3.7/site-packages (from prompt-toolkit!=3.0.0,!=3.0.1,<3.1.0,>=2.0.0->ipython>=5.3.0->cufflinks) (0.2.4)\n",
      "Requirement already satisfied: parso<0.8.0,>=0.7.0 in /opt/conda/envs/Python-3.7-OpenCE/lib/python3.7/site-packages (from jedi>=0.10->ipython>=5.3.0->cufflinks) (0.7.0)\n",
      "Requirement already satisfied: ptyprocess>=0.5 in /opt/conda/envs/Python-3.7-OpenCE/lib/python3.7/site-packages (from pexpect; sys_platform != \"win32\"->ipython>=5.3.0->cufflinks) (0.6.0)\n",
      "Requirement already satisfied: Send2Trash in /opt/conda/envs/Python-3.7-OpenCE/lib/python3.7/site-packages (from notebook>=4.4.1->widgetsnbextension~=3.5.0->ipywidgets>=7.0.0->cufflinks) (1.5.0)\n",
      "Requirement already satisfied: jinja2 in /opt/conda/envs/Python-3.7-OpenCE/lib/python3.7/site-packages (from notebook>=4.4.1->widgetsnbextension~=3.5.0->ipywidgets>=7.0.0->cufflinks) (2.11.3)\n",
      "Requirement already satisfied: prometheus-client in /opt/conda/envs/Python-3.7-OpenCE/lib/python3.7/site-packages (from notebook>=4.4.1->widgetsnbextension~=3.5.0->ipywidgets>=7.0.0->cufflinks) (0.8.0)\n",
      "Requirement already satisfied: nbconvert in /opt/conda/envs/Python-3.7-OpenCE/lib/python3.7/site-packages (from notebook>=4.4.1->widgetsnbextension~=3.5.0->ipywidgets>=7.0.0->cufflinks) (5.6.1)\n",
      "Requirement already satisfied: terminado>=0.8.1 in /opt/conda/envs/Python-3.7-OpenCE/lib/python3.7/site-packages (from notebook>=4.4.1->widgetsnbextension~=3.5.0->ipywidgets>=7.0.0->cufflinks) (0.8.3)\n",
      "Requirement already satisfied: pyzmq>=17 in /opt/conda/envs/Python-3.7-OpenCE/lib/python3.7/site-packages (from notebook>=4.4.1->widgetsnbextension~=3.5.0->ipywidgets>=7.0.0->cufflinks) (19.0.1)\n",
      "Requirement already satisfied: pyrsistent>=0.14.0 in /opt/conda/envs/Python-3.7-OpenCE/lib/python3.7/site-packages (from jsonschema!=2.5.0,>=2.4->nbformat>=4.2.0->ipywidgets>=7.0.0->cufflinks) (0.16.0)\n",
      "Requirement already satisfied: attrs>=17.4.0 in /opt/conda/envs/Python-3.7-OpenCE/lib/python3.7/site-packages (from jsonschema!=2.5.0,>=2.4->nbformat>=4.2.0->ipywidgets>=7.0.0->cufflinks) (19.3.0)\n",
      "Requirement already satisfied: importlib-metadata; python_version < \"3.8\" in /opt/conda/envs/Python-3.7-OpenCE/lib/python3.7/site-packages (from jsonschema!=2.5.0,>=2.4->nbformat>=4.2.0->ipywidgets>=7.0.0->cufflinks) (1.6.1)\n",
      "Requirement already satisfied: MarkupSafe>=0.23 in /opt/conda/envs/Python-3.7-OpenCE/lib/python3.7/site-packages (from jinja2->notebook>=4.4.1->widgetsnbextension~=3.5.0->ipywidgets>=7.0.0->cufflinks) (1.1.1)\n",
      "Requirement already satisfied: mistune<2,>=0.8.1 in /opt/conda/envs/Python-3.7-OpenCE/lib/python3.7/site-packages (from nbconvert->notebook>=4.4.1->widgetsnbextension~=3.5.0->ipywidgets>=7.0.0->cufflinks) (0.8.4)\n",
      "Requirement already satisfied: testpath in /opt/conda/envs/Python-3.7-OpenCE/lib/python3.7/site-packages (from nbconvert->notebook>=4.4.1->widgetsnbextension~=3.5.0->ipywidgets>=7.0.0->cufflinks) (0.4.4)\n",
      "Requirement already satisfied: pandocfilters>=1.4.1 in /opt/conda/envs/Python-3.7-OpenCE/lib/python3.7/site-packages (from nbconvert->notebook>=4.4.1->widgetsnbextension~=3.5.0->ipywidgets>=7.0.0->cufflinks) (1.4.2)\n",
      "Requirement already satisfied: bleach in /opt/conda/envs/Python-3.7-OpenCE/lib/python3.7/site-packages (from nbconvert->notebook>=4.4.1->widgetsnbextension~=3.5.0->ipywidgets>=7.0.0->cufflinks) (3.1.5)\n",
      "Requirement already satisfied: defusedxml in /opt/conda/envs/Python-3.7-OpenCE/lib/python3.7/site-packages (from nbconvert->notebook>=4.4.1->widgetsnbextension~=3.5.0->ipywidgets>=7.0.0->cufflinks) (0.6.0)\n",
      "Requirement already satisfied: entrypoints>=0.2.2 in /opt/conda/envs/Python-3.7-OpenCE/lib/python3.7/site-packages (from nbconvert->notebook>=4.4.1->widgetsnbextension~=3.5.0->ipywidgets>=7.0.0->cufflinks) (0.3)\n",
      "Requirement already satisfied: zipp>=0.5 in /opt/conda/envs/Python-3.7-OpenCE/lib/python3.7/site-packages (from importlib-metadata; python_version < \"3.8\"->jsonschema!=2.5.0,>=2.4->nbformat>=4.2.0->ipywidgets>=7.0.0->cufflinks) (3.1.0)\n",
      "Requirement already satisfied: webencodings in /opt/conda/envs/Python-3.7-OpenCE/lib/python3.7/site-packages (from bleach->nbconvert->notebook>=4.4.1->widgetsnbextension~=3.5.0->ipywidgets>=7.0.0->cufflinks) (0.5.1)\n",
      "Requirement already satisfied: packaging in /opt/conda/envs/Python-3.7-OpenCE/lib/python3.7/site-packages (from bleach->nbconvert->notebook>=4.4.1->widgetsnbextension~=3.5.0->ipywidgets>=7.0.0->cufflinks) (20.4)\n",
      "Requirement already satisfied: pyparsing>=2.0.2 in /opt/conda/envs/Python-3.7-OpenCE/lib/python3.7/site-packages (from packaging->bleach->nbconvert->notebook>=4.4.1->widgetsnbextension~=3.5.0->ipywidgets>=7.0.0->cufflinks) (2.4.7)\n"
     ]
    }
   ],
   "source": [
    "!pip install cufflinks"
   ]
  },
  {
   "cell_type": "code",
   "execution_count": 93,
   "metadata": {
    "id": "97627260-af4a-432e-8b1a-82395223db38",
    "tags": []
   },
   "outputs": [
    {
     "data": {
      "text/html": [
       "        <script type=\"text/javascript\">\n",
       "        window.PlotlyConfig = {MathJaxConfig: 'local'};\n",
       "        if (window.MathJax) {MathJax.Hub.Config({SVG: {font: \"STIX-Web\"}});}\n",
       "        if (typeof require !== 'undefined') {\n",
       "        require.undef(\"plotly\");\n",
       "        requirejs.config({\n",
       "            paths: {\n",
       "                'plotly': ['https://cdn.plot.ly/plotly-latest.min']\n",
       "            }\n",
       "        });\n",
       "        require(['plotly'], function(Plotly) {\n",
       "            window._Plotly = Plotly;\n",
       "        });\n",
       "        }\n",
       "        </script>\n",
       "        "
      ]
     },
     "metadata": {},
     "output_type": "display_data"
    }
   ],
   "source": [
    "import cufflinks as cf\n",
    "cf.go_offline()\n",
    "cf.set_config_file(offline=False, world_readable=True)"
   ]
  },
  {
   "cell_type": "code",
   "execution_count": 94,
   "metadata": {
    "id": "ad9ce6a2-abc3-4757-8537-557d42d29b87",
    "tags": []
   },
   "outputs": [],
   "source": [
    "from bokeh.plotting import figure, output_file, show"
   ]
  },
  {
   "cell_type": "markdown",
   "metadata": {
    "id": "bb565766-c14b-480f-bb8b-64b2822af1ab"
   },
   "source": [
    "# SALES"
   ]
  },
  {
   "cell_type": "code",
   "execution_count": 95,
   "metadata": {
    "id": "7eb8dc95-5e75-4ee5-a24f-c5d61585fcec",
    "tags": []
   },
   "outputs": [
    {
     "data": {
      "text/html": [
       "<div>\n",
       "<style scoped>\n",
       "    .dataframe tbody tr th:only-of-type {\n",
       "        vertical-align: middle;\n",
       "    }\n",
       "\n",
       "    .dataframe tbody tr th {\n",
       "        vertical-align: top;\n",
       "    }\n",
       "\n",
       "    .dataframe thead th {\n",
       "        text-align: right;\n",
       "    }\n",
       "</style>\n",
       "<table border=\"1\" class=\"dataframe\">\n",
       "  <thead>\n",
       "    <tr style=\"text-align: right;\">\n",
       "      <th></th>\n",
       "      <th>day_of_week</th>\n",
       "      <th>date</th>\n",
       "      <th>Sales</th>\n",
       "      <th>customers_count</th>\n",
       "      <th>store_open</th>\n",
       "      <th>promo</th>\n",
       "      <th>statutory_holiday</th>\n",
       "      <th>school_holiday</th>\n",
       "    </tr>\n",
       "    <tr>\n",
       "      <th>store</th>\n",
       "      <th></th>\n",
       "      <th></th>\n",
       "      <th></th>\n",
       "      <th></th>\n",
       "      <th></th>\n",
       "      <th></th>\n",
       "      <th></th>\n",
       "      <th></th>\n",
       "    </tr>\n",
       "  </thead>\n",
       "  <tbody>\n",
       "    <tr>\n",
       "      <th>1</th>\n",
       "      <td>5</td>\n",
       "      <td>2015-07-31</td>\n",
       "      <td>5263</td>\n",
       "      <td>555</td>\n",
       "      <td>1</td>\n",
       "      <td>1</td>\n",
       "      <td>0</td>\n",
       "      <td>1</td>\n",
       "    </tr>\n",
       "    <tr>\n",
       "      <th>2</th>\n",
       "      <td>5</td>\n",
       "      <td>2015-07-31</td>\n",
       "      <td>6064</td>\n",
       "      <td>625</td>\n",
       "      <td>1</td>\n",
       "      <td>1</td>\n",
       "      <td>0</td>\n",
       "      <td>1</td>\n",
       "    </tr>\n",
       "    <tr>\n",
       "      <th>3</th>\n",
       "      <td>5</td>\n",
       "      <td>2015-07-31</td>\n",
       "      <td>8314</td>\n",
       "      <td>821</td>\n",
       "      <td>1</td>\n",
       "      <td>1</td>\n",
       "      <td>0</td>\n",
       "      <td>1</td>\n",
       "    </tr>\n",
       "    <tr>\n",
       "      <th>4</th>\n",
       "      <td>5</td>\n",
       "      <td>2015-07-31</td>\n",
       "      <td>13995</td>\n",
       "      <td>1498</td>\n",
       "      <td>1</td>\n",
       "      <td>1</td>\n",
       "      <td>0</td>\n",
       "      <td>1</td>\n",
       "    </tr>\n",
       "    <tr>\n",
       "      <th>5</th>\n",
       "      <td>5</td>\n",
       "      <td>2015-07-31</td>\n",
       "      <td>4822</td>\n",
       "      <td>559</td>\n",
       "      <td>1</td>\n",
       "      <td>1</td>\n",
       "      <td>0</td>\n",
       "      <td>1</td>\n",
       "    </tr>\n",
       "  </tbody>\n",
       "</table>\n",
       "</div>"
      ],
      "text/plain": [
       "       day_of_week        date  Sales  customers_count  store_open  promo  \\\n",
       "store                                                                       \n",
       "1                5  2015-07-31   5263              555           1      1   \n",
       "2                5  2015-07-31   6064              625           1      1   \n",
       "3                5  2015-07-31   8314              821           1      1   \n",
       "4                5  2015-07-31  13995             1498           1      1   \n",
       "5                5  2015-07-31   4822              559           1      1   \n",
       "\n",
       "      statutory_holiday  school_holiday  \n",
       "store                                    \n",
       "1                     0               1  \n",
       "2                     0               1  \n",
       "3                     0               1  \n",
       "4                     0               1  \n",
       "5                     0               1  "
      ]
     },
     "execution_count": 95,
     "metadata": {},
     "output_type": "execute_result"
    }
   ],
   "source": [
    "sales = pd.read_csv('sales.csv',sep=';',index_col=0)\n",
    "sales.head()"
   ]
  },
  {
   "cell_type": "markdown",
   "metadata": {
    "id": "021a561b-dfc9-4ea8-aaa4-b995408c83d7"
   },
   "source": [
    "# DATA ANALYSIS"
   ]
  },
  {
   "cell_type": "code",
   "execution_count": 96,
   "metadata": {
    "id": "b4d712ee-0e76-41d0-8e4f-5c4d1816d978",
    "tags": []
   },
   "outputs": [
    {
     "name": "stdout",
     "output_type": "stream",
     "text": [
      "<class 'pandas.core.frame.DataFrame'>\n",
      "Int64Index: 44870 entries, 1 to 49\n",
      "Data columns (total 8 columns):\n",
      " #   Column             Non-Null Count  Dtype \n",
      "---  ------             --------------  ----- \n",
      " 0   day_of_week        44870 non-null  int64 \n",
      " 1   date               44870 non-null  object\n",
      " 2   Sales              44870 non-null  int64 \n",
      " 3   customers_count    44870 non-null  int64 \n",
      " 4   store_open         44870 non-null  int64 \n",
      " 5   promo              44870 non-null  int64 \n",
      " 6   statutory_holiday  44870 non-null  object\n",
      " 7   school_holiday     44870 non-null  int64 \n",
      "dtypes: int64(6), object(2)\n",
      "memory usage: 3.1+ MB\n"
     ]
    }
   ],
   "source": [
    "sales.info() #NO Null values, however, there are some categorical variables that need to be converted"
   ]
  },
  {
   "cell_type": "code",
   "execution_count": 97,
   "metadata": {
    "id": "ece0237f-be5b-4b61-a3bc-e655d35f601d",
    "tags": []
   },
   "outputs": [],
   "source": [
    "#create day, month, year columns from from date column\n",
    "sales['date'] = pd.to_datetime(sales['date'], format='%Y-%m-%d')\n",
    "sales['month'] = pd.DatetimeIndex(sales['date']).month\n",
    "sales['year'] = pd.DatetimeIndex(sales['date']).year\n",
    "sales['day'] = pd.DatetimeIndex(sales['date']).day"
   ]
  },
  {
   "cell_type": "code",
   "execution_count": 98,
   "metadata": {
    "id": "a3cd0db1-4109-4e77-8607-8566e055a91c",
    "tags": []
   },
   "outputs": [],
   "source": [
    "#set PLOT style\n",
    "plt.style.use('default')\n",
    "plt.style.use('ggplot')\n"
   ]
  },
  {
   "cell_type": "code",
   "execution_count": 99,
   "metadata": {
    "id": "5a51ead0-18c7-4ac2-aae3-16e01033272b",
    "tags": []
   },
   "outputs": [
    {
     "data": {
      "application/vnd.plotly.v1+json": {
       "config": {
        "linkText": "Export to plot.ly",
        "plotlyServerURL": "https://plot.ly",
        "showLink": true
       },
       "data": [
        {
         "line": {
          "color": "rgba(255, 153, 51, 1.0)",
          "dash": "solid",
          "shape": "linear",
          "width": 1.3
         },
         "mode": "lines",
         "name": "Sales",
         "text": "",
         "type": "scatter",
         "x": [
          "2013-1",
          "2013-2",
          "2013-3",
          "2013-4",
          "2013-5",
          "2013-6",
          "2013-7",
          "2013-8",
          "2013-9",
          "2013-10",
          "2013-11",
          "2013-12",
          "2014-1",
          "2014-2",
          "2014-3",
          "2014-4",
          "2014-5",
          "2014-6",
          "2014-7",
          "2014-8",
          "2014-9",
          "2014-10",
          "2014-11",
          "2014-12",
          "2015-1",
          "2015-2",
          "2015-3",
          "2015-4",
          "2015-5",
          "2015-6",
          "2015-7"
         ],
         "y": [
          5025.205398288347,
          5273.700437317784,
          5593.689927583937,
          5296.195918367347,
          5126.458196181698,
          5159.8360544217685,
          5811.858459512838,
          5441.009216589861,
          5077.465306122449,
          5158.194865042791,
          5586.804761904762,
          6396.845951283739,
          5103.8492429229755,
          5416.859329446064,
          5311.867017774852,
          5461.377551020408,
          5308.211323238973,
          5382.32925170068,
          5779.0952380952385,
          5449.314132104455,
          5689.47380952381,
          5425.078341013825,
          5971.946825396825,
          6721.599078341013,
          5478.383805134958,
          5460.491982507288,
          5692.622119815668,
          5650.63537414966,
          5212.9690585911785,
          5953.7156462585035,
          5833.387096774193
         ]
        }
       ],
       "layout": {
        "legend": {
         "bgcolor": "#F5F6F9",
         "font": {
          "color": "#4D5663"
         }
        },
        "paper_bgcolor": "#F5F6F9",
        "plot_bgcolor": "#F5F6F9",
        "template": {
         "data": {
          "bar": [
           {
            "error_x": {
             "color": "#2a3f5f"
            },
            "error_y": {
             "color": "#2a3f5f"
            },
            "marker": {
             "line": {
              "color": "#E5ECF6",
              "width": 0.5
             }
            },
            "type": "bar"
           }
          ],
          "barpolar": [
           {
            "marker": {
             "line": {
              "color": "#E5ECF6",
              "width": 0.5
             }
            },
            "type": "barpolar"
           }
          ],
          "carpet": [
           {
            "aaxis": {
             "endlinecolor": "#2a3f5f",
             "gridcolor": "white",
             "linecolor": "white",
             "minorgridcolor": "white",
             "startlinecolor": "#2a3f5f"
            },
            "baxis": {
             "endlinecolor": "#2a3f5f",
             "gridcolor": "white",
             "linecolor": "white",
             "minorgridcolor": "white",
             "startlinecolor": "#2a3f5f"
            },
            "type": "carpet"
           }
          ],
          "choropleth": [
           {
            "colorbar": {
             "outlinewidth": 0,
             "ticks": ""
            },
            "type": "choropleth"
           }
          ],
          "contour": [
           {
            "colorbar": {
             "outlinewidth": 0,
             "ticks": ""
            },
            "colorscale": [
             [
              0,
              "#0d0887"
             ],
             [
              0.1111111111111111,
              "#46039f"
             ],
             [
              0.2222222222222222,
              "#7201a8"
             ],
             [
              0.3333333333333333,
              "#9c179e"
             ],
             [
              0.4444444444444444,
              "#bd3786"
             ],
             [
              0.5555555555555556,
              "#d8576b"
             ],
             [
              0.6666666666666666,
              "#ed7953"
             ],
             [
              0.7777777777777778,
              "#fb9f3a"
             ],
             [
              0.8888888888888888,
              "#fdca26"
             ],
             [
              1,
              "#f0f921"
             ]
            ],
            "type": "contour"
           }
          ],
          "contourcarpet": [
           {
            "colorbar": {
             "outlinewidth": 0,
             "ticks": ""
            },
            "type": "contourcarpet"
           }
          ],
          "heatmap": [
           {
            "colorbar": {
             "outlinewidth": 0,
             "ticks": ""
            },
            "colorscale": [
             [
              0,
              "#0d0887"
             ],
             [
              0.1111111111111111,
              "#46039f"
             ],
             [
              0.2222222222222222,
              "#7201a8"
             ],
             [
              0.3333333333333333,
              "#9c179e"
             ],
             [
              0.4444444444444444,
              "#bd3786"
             ],
             [
              0.5555555555555556,
              "#d8576b"
             ],
             [
              0.6666666666666666,
              "#ed7953"
             ],
             [
              0.7777777777777778,
              "#fb9f3a"
             ],
             [
              0.8888888888888888,
              "#fdca26"
             ],
             [
              1,
              "#f0f921"
             ]
            ],
            "type": "heatmap"
           }
          ],
          "heatmapgl": [
           {
            "colorbar": {
             "outlinewidth": 0,
             "ticks": ""
            },
            "colorscale": [
             [
              0,
              "#0d0887"
             ],
             [
              0.1111111111111111,
              "#46039f"
             ],
             [
              0.2222222222222222,
              "#7201a8"
             ],
             [
              0.3333333333333333,
              "#9c179e"
             ],
             [
              0.4444444444444444,
              "#bd3786"
             ],
             [
              0.5555555555555556,
              "#d8576b"
             ],
             [
              0.6666666666666666,
              "#ed7953"
             ],
             [
              0.7777777777777778,
              "#fb9f3a"
             ],
             [
              0.8888888888888888,
              "#fdca26"
             ],
             [
              1,
              "#f0f921"
             ]
            ],
            "type": "heatmapgl"
           }
          ],
          "histogram": [
           {
            "marker": {
             "colorbar": {
              "outlinewidth": 0,
              "ticks": ""
             }
            },
            "type": "histogram"
           }
          ],
          "histogram2d": [
           {
            "colorbar": {
             "outlinewidth": 0,
             "ticks": ""
            },
            "colorscale": [
             [
              0,
              "#0d0887"
             ],
             [
              0.1111111111111111,
              "#46039f"
             ],
             [
              0.2222222222222222,
              "#7201a8"
             ],
             [
              0.3333333333333333,
              "#9c179e"
             ],
             [
              0.4444444444444444,
              "#bd3786"
             ],
             [
              0.5555555555555556,
              "#d8576b"
             ],
             [
              0.6666666666666666,
              "#ed7953"
             ],
             [
              0.7777777777777778,
              "#fb9f3a"
             ],
             [
              0.8888888888888888,
              "#fdca26"
             ],
             [
              1,
              "#f0f921"
             ]
            ],
            "type": "histogram2d"
           }
          ],
          "histogram2dcontour": [
           {
            "colorbar": {
             "outlinewidth": 0,
             "ticks": ""
            },
            "colorscale": [
             [
              0,
              "#0d0887"
             ],
             [
              0.1111111111111111,
              "#46039f"
             ],
             [
              0.2222222222222222,
              "#7201a8"
             ],
             [
              0.3333333333333333,
              "#9c179e"
             ],
             [
              0.4444444444444444,
              "#bd3786"
             ],
             [
              0.5555555555555556,
              "#d8576b"
             ],
             [
              0.6666666666666666,
              "#ed7953"
             ],
             [
              0.7777777777777778,
              "#fb9f3a"
             ],
             [
              0.8888888888888888,
              "#fdca26"
             ],
             [
              1,
              "#f0f921"
             ]
            ],
            "type": "histogram2dcontour"
           }
          ],
          "mesh3d": [
           {
            "colorbar": {
             "outlinewidth": 0,
             "ticks": ""
            },
            "type": "mesh3d"
           }
          ],
          "parcoords": [
           {
            "line": {
             "colorbar": {
              "outlinewidth": 0,
              "ticks": ""
             }
            },
            "type": "parcoords"
           }
          ],
          "pie": [
           {
            "automargin": true,
            "type": "pie"
           }
          ],
          "scatter": [
           {
            "marker": {
             "colorbar": {
              "outlinewidth": 0,
              "ticks": ""
             }
            },
            "type": "scatter"
           }
          ],
          "scatter3d": [
           {
            "line": {
             "colorbar": {
              "outlinewidth": 0,
              "ticks": ""
             }
            },
            "marker": {
             "colorbar": {
              "outlinewidth": 0,
              "ticks": ""
             }
            },
            "type": "scatter3d"
           }
          ],
          "scattercarpet": [
           {
            "marker": {
             "colorbar": {
              "outlinewidth": 0,
              "ticks": ""
             }
            },
            "type": "scattercarpet"
           }
          ],
          "scattergeo": [
           {
            "marker": {
             "colorbar": {
              "outlinewidth": 0,
              "ticks": ""
             }
            },
            "type": "scattergeo"
           }
          ],
          "scattergl": [
           {
            "marker": {
             "colorbar": {
              "outlinewidth": 0,
              "ticks": ""
             }
            },
            "type": "scattergl"
           }
          ],
          "scattermapbox": [
           {
            "marker": {
             "colorbar": {
              "outlinewidth": 0,
              "ticks": ""
             }
            },
            "type": "scattermapbox"
           }
          ],
          "scatterpolar": [
           {
            "marker": {
             "colorbar": {
              "outlinewidth": 0,
              "ticks": ""
             }
            },
            "type": "scatterpolar"
           }
          ],
          "scatterpolargl": [
           {
            "marker": {
             "colorbar": {
              "outlinewidth": 0,
              "ticks": ""
             }
            },
            "type": "scatterpolargl"
           }
          ],
          "scatterternary": [
           {
            "marker": {
             "colorbar": {
              "outlinewidth": 0,
              "ticks": ""
             }
            },
            "type": "scatterternary"
           }
          ],
          "surface": [
           {
            "colorbar": {
             "outlinewidth": 0,
             "ticks": ""
            },
            "colorscale": [
             [
              0,
              "#0d0887"
             ],
             [
              0.1111111111111111,
              "#46039f"
             ],
             [
              0.2222222222222222,
              "#7201a8"
             ],
             [
              0.3333333333333333,
              "#9c179e"
             ],
             [
              0.4444444444444444,
              "#bd3786"
             ],
             [
              0.5555555555555556,
              "#d8576b"
             ],
             [
              0.6666666666666666,
              "#ed7953"
             ],
             [
              0.7777777777777778,
              "#fb9f3a"
             ],
             [
              0.8888888888888888,
              "#fdca26"
             ],
             [
              1,
              "#f0f921"
             ]
            ],
            "type": "surface"
           }
          ],
          "table": [
           {
            "cells": {
             "fill": {
              "color": "#EBF0F8"
             },
             "line": {
              "color": "white"
             }
            },
            "header": {
             "fill": {
              "color": "#C8D4E3"
             },
             "line": {
              "color": "white"
             }
            },
            "type": "table"
           }
          ]
         },
         "layout": {
          "annotationdefaults": {
           "arrowcolor": "#2a3f5f",
           "arrowhead": 0,
           "arrowwidth": 1
          },
          "coloraxis": {
           "colorbar": {
            "outlinewidth": 0,
            "ticks": ""
           }
          },
          "colorscale": {
           "diverging": [
            [
             0,
             "#8e0152"
            ],
            [
             0.1,
             "#c51b7d"
            ],
            [
             0.2,
             "#de77ae"
            ],
            [
             0.3,
             "#f1b6da"
            ],
            [
             0.4,
             "#fde0ef"
            ],
            [
             0.5,
             "#f7f7f7"
            ],
            [
             0.6,
             "#e6f5d0"
            ],
            [
             0.7,
             "#b8e186"
            ],
            [
             0.8,
             "#7fbc41"
            ],
            [
             0.9,
             "#4d9221"
            ],
            [
             1,
             "#276419"
            ]
           ],
           "sequential": [
            [
             0,
             "#0d0887"
            ],
            [
             0.1111111111111111,
             "#46039f"
            ],
            [
             0.2222222222222222,
             "#7201a8"
            ],
            [
             0.3333333333333333,
             "#9c179e"
            ],
            [
             0.4444444444444444,
             "#bd3786"
            ],
            [
             0.5555555555555556,
             "#d8576b"
            ],
            [
             0.6666666666666666,
             "#ed7953"
            ],
            [
             0.7777777777777778,
             "#fb9f3a"
            ],
            [
             0.8888888888888888,
             "#fdca26"
            ],
            [
             1,
             "#f0f921"
            ]
           ],
           "sequentialminus": [
            [
             0,
             "#0d0887"
            ],
            [
             0.1111111111111111,
             "#46039f"
            ],
            [
             0.2222222222222222,
             "#7201a8"
            ],
            [
             0.3333333333333333,
             "#9c179e"
            ],
            [
             0.4444444444444444,
             "#bd3786"
            ],
            [
             0.5555555555555556,
             "#d8576b"
            ],
            [
             0.6666666666666666,
             "#ed7953"
            ],
            [
             0.7777777777777778,
             "#fb9f3a"
            ],
            [
             0.8888888888888888,
             "#fdca26"
            ],
            [
             1,
             "#f0f921"
            ]
           ]
          },
          "colorway": [
           "#636efa",
           "#EF553B",
           "#00cc96",
           "#ab63fa",
           "#FFA15A",
           "#19d3f3",
           "#FF6692",
           "#B6E880",
           "#FF97FF",
           "#FECB52"
          ],
          "font": {
           "color": "#2a3f5f"
          },
          "geo": {
           "bgcolor": "white",
           "lakecolor": "white",
           "landcolor": "#E5ECF6",
           "showlakes": true,
           "showland": true,
           "subunitcolor": "white"
          },
          "hoverlabel": {
           "align": "left"
          },
          "hovermode": "closest",
          "mapbox": {
           "style": "light"
          },
          "paper_bgcolor": "white",
          "plot_bgcolor": "#E5ECF6",
          "polar": {
           "angularaxis": {
            "gridcolor": "white",
            "linecolor": "white",
            "ticks": ""
           },
           "bgcolor": "#E5ECF6",
           "radialaxis": {
            "gridcolor": "white",
            "linecolor": "white",
            "ticks": ""
           }
          },
          "scene": {
           "xaxis": {
            "backgroundcolor": "#E5ECF6",
            "gridcolor": "white",
            "gridwidth": 2,
            "linecolor": "white",
            "showbackground": true,
            "ticks": "",
            "zerolinecolor": "white"
           },
           "yaxis": {
            "backgroundcolor": "#E5ECF6",
            "gridcolor": "white",
            "gridwidth": 2,
            "linecolor": "white",
            "showbackground": true,
            "ticks": "",
            "zerolinecolor": "white"
           },
           "zaxis": {
            "backgroundcolor": "#E5ECF6",
            "gridcolor": "white",
            "gridwidth": 2,
            "linecolor": "white",
            "showbackground": true,
            "ticks": "",
            "zerolinecolor": "white"
           }
          },
          "shapedefaults": {
           "line": {
            "color": "#2a3f5f"
           }
          },
          "ternary": {
           "aaxis": {
            "gridcolor": "white",
            "linecolor": "white",
            "ticks": ""
           },
           "baxis": {
            "gridcolor": "white",
            "linecolor": "white",
            "ticks": ""
           },
           "bgcolor": "#E5ECF6",
           "caxis": {
            "gridcolor": "white",
            "linecolor": "white",
            "ticks": ""
           }
          },
          "title": {
           "x": 0.05
          },
          "xaxis": {
           "automargin": true,
           "gridcolor": "white",
           "linecolor": "white",
           "ticks": "",
           "title": {
            "standoff": 15
           },
           "zerolinecolor": "white",
           "zerolinewidth": 2
          },
          "yaxis": {
           "automargin": true,
           "gridcolor": "white",
           "linecolor": "white",
           "ticks": "",
           "title": {
            "standoff": 15
           },
           "zerolinecolor": "white",
           "zerolinewidth": 2
          }
         }
        },
        "title": {
         "font": {
          "color": "#4D5663"
         }
        },
        "xaxis": {
         "gridcolor": "#E1E5ED",
         "showgrid": true,
         "tickfont": {
          "color": "#4D5663"
         },
         "title": {
          "font": {
           "color": "#4D5663"
          },
          "text": ""
         },
         "zerolinecolor": "#E1E5ED"
        },
        "yaxis": {
         "gridcolor": "#E1E5ED",
         "showgrid": true,
         "tickfont": {
          "color": "#4D5663"
         },
         "title": {
          "font": {
           "color": "#4D5663"
          },
          "text": ""
         },
         "zerolinecolor": "#E1E5ED"
        }
       }
      },
      "text/html": [
       "<div>\n",
       "        \n",
       "        \n",
       "            <div id=\"908e377c-d2b3-4ad5-af3d-aaf7df9a4fea\" class=\"plotly-graph-div\" style=\"height:525px; width:100%;\"></div>\n",
       "            <script type=\"text/javascript\">\n",
       "                require([\"plotly\"], function(Plotly) {\n",
       "                    window.PLOTLYENV=window.PLOTLYENV || {};\n",
       "                    window.PLOTLYENV.BASE_URL='https://plot.ly';\n",
       "                    \n",
       "                if (document.getElementById(\"908e377c-d2b3-4ad5-af3d-aaf7df9a4fea\")) {\n",
       "                    Plotly.newPlot(\n",
       "                        '908e377c-d2b3-4ad5-af3d-aaf7df9a4fea',\n",
       "                        [{\"line\": {\"color\": \"rgba(255, 153, 51, 1.0)\", \"dash\": \"solid\", \"shape\": \"linear\", \"width\": 1.3}, \"mode\": \"lines\", \"name\": \"Sales\", \"text\": \"\", \"type\": \"scatter\", \"x\": [\"2013-1\", \"2013-2\", \"2013-3\", \"2013-4\", \"2013-5\", \"2013-6\", \"2013-7\", \"2013-8\", \"2013-9\", \"2013-10\", \"2013-11\", \"2013-12\", \"2014-1\", \"2014-2\", \"2014-3\", \"2014-4\", \"2014-5\", \"2014-6\", \"2014-7\", \"2014-8\", \"2014-9\", \"2014-10\", \"2014-11\", \"2014-12\", \"2015-1\", \"2015-2\", \"2015-3\", \"2015-4\", \"2015-5\", \"2015-6\", \"2015-7\"], \"y\": [5025.205398288347, 5273.700437317784, 5593.689927583937, 5296.195918367347, 5126.458196181698, 5159.8360544217685, 5811.858459512838, 5441.009216589861, 5077.465306122449, 5158.194865042791, 5586.804761904762, 6396.845951283739, 5103.8492429229755, 5416.859329446064, 5311.867017774852, 5461.377551020408, 5308.211323238973, 5382.32925170068, 5779.0952380952385, 5449.314132104455, 5689.47380952381, 5425.078341013825, 5971.946825396825, 6721.599078341013, 5478.383805134958, 5460.491982507288, 5692.622119815668, 5650.63537414966, 5212.9690585911785, 5953.7156462585035, 5833.387096774193]}],\n",
       "                        {\"legend\": {\"bgcolor\": \"#F5F6F9\", \"font\": {\"color\": \"#4D5663\"}}, \"paper_bgcolor\": \"#F5F6F9\", \"plot_bgcolor\": \"#F5F6F9\", \"template\": {\"data\": {\"bar\": [{\"error_x\": {\"color\": \"#2a3f5f\"}, \"error_y\": {\"color\": \"#2a3f5f\"}, \"marker\": {\"line\": {\"color\": \"#E5ECF6\", \"width\": 0.5}}, \"type\": \"bar\"}], \"barpolar\": [{\"marker\": {\"line\": {\"color\": \"#E5ECF6\", \"width\": 0.5}}, \"type\": \"barpolar\"}], \"carpet\": [{\"aaxis\": {\"endlinecolor\": \"#2a3f5f\", \"gridcolor\": \"white\", \"linecolor\": \"white\", \"minorgridcolor\": \"white\", \"startlinecolor\": \"#2a3f5f\"}, \"baxis\": {\"endlinecolor\": \"#2a3f5f\", \"gridcolor\": \"white\", \"linecolor\": \"white\", \"minorgridcolor\": \"white\", \"startlinecolor\": \"#2a3f5f\"}, \"type\": \"carpet\"}], \"choropleth\": [{\"colorbar\": {\"outlinewidth\": 0, \"ticks\": \"\"}, \"type\": \"choropleth\"}], \"contour\": [{\"colorbar\": {\"outlinewidth\": 0, \"ticks\": \"\"}, \"colorscale\": [[0.0, \"#0d0887\"], [0.1111111111111111, \"#46039f\"], [0.2222222222222222, \"#7201a8\"], [0.3333333333333333, \"#9c179e\"], [0.4444444444444444, \"#bd3786\"], [0.5555555555555556, \"#d8576b\"], [0.6666666666666666, \"#ed7953\"], [0.7777777777777778, \"#fb9f3a\"], [0.8888888888888888, \"#fdca26\"], [1.0, \"#f0f921\"]], \"type\": \"contour\"}], \"contourcarpet\": [{\"colorbar\": {\"outlinewidth\": 0, \"ticks\": \"\"}, \"type\": \"contourcarpet\"}], \"heatmap\": [{\"colorbar\": {\"outlinewidth\": 0, \"ticks\": \"\"}, \"colorscale\": [[0.0, \"#0d0887\"], [0.1111111111111111, \"#46039f\"], [0.2222222222222222, \"#7201a8\"], [0.3333333333333333, \"#9c179e\"], [0.4444444444444444, \"#bd3786\"], [0.5555555555555556, \"#d8576b\"], [0.6666666666666666, \"#ed7953\"], [0.7777777777777778, \"#fb9f3a\"], [0.8888888888888888, \"#fdca26\"], [1.0, \"#f0f921\"]], \"type\": \"heatmap\"}], \"heatmapgl\": [{\"colorbar\": {\"outlinewidth\": 0, \"ticks\": \"\"}, \"colorscale\": [[0.0, \"#0d0887\"], [0.1111111111111111, \"#46039f\"], [0.2222222222222222, \"#7201a8\"], [0.3333333333333333, \"#9c179e\"], [0.4444444444444444, \"#bd3786\"], [0.5555555555555556, \"#d8576b\"], [0.6666666666666666, \"#ed7953\"], [0.7777777777777778, \"#fb9f3a\"], [0.8888888888888888, \"#fdca26\"], [1.0, \"#f0f921\"]], \"type\": \"heatmapgl\"}], \"histogram\": [{\"marker\": {\"colorbar\": {\"outlinewidth\": 0, \"ticks\": \"\"}}, \"type\": \"histogram\"}], \"histogram2d\": [{\"colorbar\": {\"outlinewidth\": 0, \"ticks\": \"\"}, \"colorscale\": [[0.0, \"#0d0887\"], [0.1111111111111111, \"#46039f\"], [0.2222222222222222, \"#7201a8\"], [0.3333333333333333, \"#9c179e\"], [0.4444444444444444, \"#bd3786\"], [0.5555555555555556, \"#d8576b\"], [0.6666666666666666, \"#ed7953\"], [0.7777777777777778, \"#fb9f3a\"], [0.8888888888888888, \"#fdca26\"], [1.0, \"#f0f921\"]], \"type\": \"histogram2d\"}], \"histogram2dcontour\": [{\"colorbar\": {\"outlinewidth\": 0, \"ticks\": \"\"}, \"colorscale\": [[0.0, \"#0d0887\"], [0.1111111111111111, \"#46039f\"], [0.2222222222222222, \"#7201a8\"], [0.3333333333333333, \"#9c179e\"], [0.4444444444444444, \"#bd3786\"], [0.5555555555555556, \"#d8576b\"], [0.6666666666666666, \"#ed7953\"], [0.7777777777777778, \"#fb9f3a\"], [0.8888888888888888, \"#fdca26\"], [1.0, \"#f0f921\"]], \"type\": \"histogram2dcontour\"}], \"mesh3d\": [{\"colorbar\": {\"outlinewidth\": 0, \"ticks\": \"\"}, \"type\": \"mesh3d\"}], \"parcoords\": [{\"line\": {\"colorbar\": {\"outlinewidth\": 0, \"ticks\": \"\"}}, \"type\": \"parcoords\"}], \"pie\": [{\"automargin\": true, \"type\": \"pie\"}], \"scatter\": [{\"marker\": {\"colorbar\": {\"outlinewidth\": 0, \"ticks\": \"\"}}, \"type\": \"scatter\"}], \"scatter3d\": [{\"line\": {\"colorbar\": {\"outlinewidth\": 0, \"ticks\": \"\"}}, \"marker\": {\"colorbar\": {\"outlinewidth\": 0, \"ticks\": \"\"}}, \"type\": \"scatter3d\"}], \"scattercarpet\": [{\"marker\": {\"colorbar\": {\"outlinewidth\": 0, \"ticks\": \"\"}}, \"type\": \"scattercarpet\"}], \"scattergeo\": [{\"marker\": {\"colorbar\": {\"outlinewidth\": 0, \"ticks\": \"\"}}, \"type\": \"scattergeo\"}], \"scattergl\": [{\"marker\": {\"colorbar\": {\"outlinewidth\": 0, \"ticks\": \"\"}}, \"type\": \"scattergl\"}], \"scattermapbox\": [{\"marker\": {\"colorbar\": {\"outlinewidth\": 0, \"ticks\": \"\"}}, \"type\": \"scattermapbox\"}], \"scatterpolar\": [{\"marker\": {\"colorbar\": {\"outlinewidth\": 0, \"ticks\": \"\"}}, \"type\": \"scatterpolar\"}], \"scatterpolargl\": [{\"marker\": {\"colorbar\": {\"outlinewidth\": 0, \"ticks\": \"\"}}, \"type\": \"scatterpolargl\"}], \"scatterternary\": [{\"marker\": {\"colorbar\": {\"outlinewidth\": 0, \"ticks\": \"\"}}, \"type\": \"scatterternary\"}], \"surface\": [{\"colorbar\": {\"outlinewidth\": 0, \"ticks\": \"\"}, \"colorscale\": [[0.0, \"#0d0887\"], [0.1111111111111111, \"#46039f\"], [0.2222222222222222, \"#7201a8\"], [0.3333333333333333, \"#9c179e\"], [0.4444444444444444, \"#bd3786\"], [0.5555555555555556, \"#d8576b\"], [0.6666666666666666, \"#ed7953\"], [0.7777777777777778, \"#fb9f3a\"], [0.8888888888888888, \"#fdca26\"], [1.0, \"#f0f921\"]], \"type\": \"surface\"}], \"table\": [{\"cells\": {\"fill\": {\"color\": \"#EBF0F8\"}, \"line\": {\"color\": \"white\"}}, \"header\": {\"fill\": {\"color\": \"#C8D4E3\"}, \"line\": {\"color\": \"white\"}}, \"type\": \"table\"}]}, \"layout\": {\"annotationdefaults\": {\"arrowcolor\": \"#2a3f5f\", \"arrowhead\": 0, \"arrowwidth\": 1}, \"coloraxis\": {\"colorbar\": {\"outlinewidth\": 0, \"ticks\": \"\"}}, \"colorscale\": {\"diverging\": [[0, \"#8e0152\"], [0.1, \"#c51b7d\"], [0.2, \"#de77ae\"], [0.3, \"#f1b6da\"], [0.4, \"#fde0ef\"], [0.5, \"#f7f7f7\"], [0.6, \"#e6f5d0\"], [0.7, \"#b8e186\"], [0.8, \"#7fbc41\"], [0.9, \"#4d9221\"], [1, \"#276419\"]], \"sequential\": [[0.0, \"#0d0887\"], [0.1111111111111111, \"#46039f\"], [0.2222222222222222, \"#7201a8\"], [0.3333333333333333, \"#9c179e\"], [0.4444444444444444, \"#bd3786\"], [0.5555555555555556, \"#d8576b\"], [0.6666666666666666, \"#ed7953\"], [0.7777777777777778, \"#fb9f3a\"], [0.8888888888888888, \"#fdca26\"], [1.0, \"#f0f921\"]], \"sequentialminus\": [[0.0, \"#0d0887\"], [0.1111111111111111, \"#46039f\"], [0.2222222222222222, \"#7201a8\"], [0.3333333333333333, \"#9c179e\"], [0.4444444444444444, \"#bd3786\"], [0.5555555555555556, \"#d8576b\"], [0.6666666666666666, \"#ed7953\"], [0.7777777777777778, \"#fb9f3a\"], [0.8888888888888888, \"#fdca26\"], [1.0, \"#f0f921\"]]}, \"colorway\": [\"#636efa\", \"#EF553B\", \"#00cc96\", \"#ab63fa\", \"#FFA15A\", \"#19d3f3\", \"#FF6692\", \"#B6E880\", \"#FF97FF\", \"#FECB52\"], \"font\": {\"color\": \"#2a3f5f\"}, \"geo\": {\"bgcolor\": \"white\", \"lakecolor\": \"white\", \"landcolor\": \"#E5ECF6\", \"showlakes\": true, \"showland\": true, \"subunitcolor\": \"white\"}, \"hoverlabel\": {\"align\": \"left\"}, \"hovermode\": \"closest\", \"mapbox\": {\"style\": \"light\"}, \"paper_bgcolor\": \"white\", \"plot_bgcolor\": \"#E5ECF6\", \"polar\": {\"angularaxis\": {\"gridcolor\": \"white\", \"linecolor\": \"white\", \"ticks\": \"\"}, \"bgcolor\": \"#E5ECF6\", \"radialaxis\": {\"gridcolor\": \"white\", \"linecolor\": \"white\", \"ticks\": \"\"}}, \"scene\": {\"xaxis\": {\"backgroundcolor\": \"#E5ECF6\", \"gridcolor\": \"white\", \"gridwidth\": 2, \"linecolor\": \"white\", \"showbackground\": true, \"ticks\": \"\", \"zerolinecolor\": \"white\"}, \"yaxis\": {\"backgroundcolor\": \"#E5ECF6\", \"gridcolor\": \"white\", \"gridwidth\": 2, \"linecolor\": \"white\", \"showbackground\": true, \"ticks\": \"\", \"zerolinecolor\": \"white\"}, \"zaxis\": {\"backgroundcolor\": \"#E5ECF6\", \"gridcolor\": \"white\", \"gridwidth\": 2, \"linecolor\": \"white\", \"showbackground\": true, \"ticks\": \"\", \"zerolinecolor\": \"white\"}}, \"shapedefaults\": {\"line\": {\"color\": \"#2a3f5f\"}}, \"ternary\": {\"aaxis\": {\"gridcolor\": \"white\", \"linecolor\": \"white\", \"ticks\": \"\"}, \"baxis\": {\"gridcolor\": \"white\", \"linecolor\": \"white\", \"ticks\": \"\"}, \"bgcolor\": \"#E5ECF6\", \"caxis\": {\"gridcolor\": \"white\", \"linecolor\": \"white\", \"ticks\": \"\"}}, \"title\": {\"x\": 0.05}, \"xaxis\": {\"automargin\": true, \"gridcolor\": \"white\", \"linecolor\": \"white\", \"ticks\": \"\", \"title\": {\"standoff\": 15}, \"zerolinecolor\": \"white\", \"zerolinewidth\": 2}, \"yaxis\": {\"automargin\": true, \"gridcolor\": \"white\", \"linecolor\": \"white\", \"ticks\": \"\", \"title\": {\"standoff\": 15}, \"zerolinecolor\": \"white\", \"zerolinewidth\": 2}}}, \"title\": {\"font\": {\"color\": \"#4D5663\"}}, \"xaxis\": {\"gridcolor\": \"#E1E5ED\", \"showgrid\": true, \"tickfont\": {\"color\": \"#4D5663\"}, \"title\": {\"font\": {\"color\": \"#4D5663\"}, \"text\": \"\"}, \"zerolinecolor\": \"#E1E5ED\"}, \"yaxis\": {\"gridcolor\": \"#E1E5ED\", \"showgrid\": true, \"tickfont\": {\"color\": \"#4D5663\"}, \"title\": {\"font\": {\"color\": \"#4D5663\"}, \"text\": \"\"}, \"zerolinecolor\": \"#E1E5ED\"}},\n",
       "                        {\"showLink\": true, \"linkText\": \"Export to plot.ly\", \"plotlyServerURL\": \"https://plot.ly\", \"responsive\": true}\n",
       "                    ).then(function(){\n",
       "                            \n",
       "var gd = document.getElementById('908e377c-d2b3-4ad5-af3d-aaf7df9a4fea');\n",
       "var x = new MutationObserver(function (mutations, observer) {{\n",
       "        var display = window.getComputedStyle(gd).display;\n",
       "        if (!display || display === 'none') {{\n",
       "            console.log([gd, 'removed!']);\n",
       "            Plotly.purge(gd);\n",
       "            observer.disconnect();\n",
       "        }}\n",
       "}});\n",
       "\n",
       "// Listen for the removal of the full notebook cells\n",
       "var notebookContainer = gd.closest('#notebook-container');\n",
       "if (notebookContainer) {{\n",
       "    x.observe(notebookContainer, {childList: true});\n",
       "}}\n",
       "\n",
       "// Listen for the clearing of the current output cell\n",
       "var outputEl = gd.closest('.output');\n",
       "if (outputEl) {{\n",
       "    x.observe(outputEl, {childList: true});\n",
       "}}\n",
       "\n",
       "                        })\n",
       "                };\n",
       "                });\n",
       "            </script>\n",
       "        </div>"
      ]
     },
     "metadata": {},
     "output_type": "display_data"
    }
   ],
   "source": [
    "#number of sales by month\n",
    "sales_mnth_avg=sales.groupby(['year','month'],as_index=False)['Sales'].mean()#.plot(title='Monthly Sales')\n",
    "cols=[\"year\",\"month\"]\n",
    "sales_mnth_avg['date'] = sales_mnth_avg[cols].apply(lambda x: '-'.join(x.values.astype(str)), axis=\"columns\")\n",
    "sales_mnth_avg.iplot(x='date', y='Sales')\n",
    "\n",
    "#there are peaks in July and December "
   ]
  },
  {
   "cell_type": "code",
   "execution_count": 100,
   "metadata": {
    "id": "92395b1c-88bf-4241-aed7-1f092f75f653",
    "tags": []
   },
   "outputs": [
    {
     "data": {
      "application/vnd.plotly.v1+json": {
       "config": {
        "linkText": "Export to plot.ly",
        "plotlyServerURL": "https://plot.ly",
        "showLink": true
       },
       "data": [
        {
         "line": {
          "color": "rgba(255, 153, 51, 1.0)",
          "dash": "solid",
          "shape": "linear",
          "width": 1.3
         },
         "mode": "lines",
         "name": "Sales",
         "text": "",
         "type": "scatter",
         "x": [
          1,
          2,
          3,
          4,
          5,
          6,
          7,
          8,
          9,
          10,
          11,
          12,
          13,
          14,
          15,
          16,
          17,
          18,
          19,
          20,
          21,
          22,
          23,
          24,
          25,
          26,
          27,
          28,
          29,
          30,
          31
         ],
         "y": [
          4346.190927555856,
          6662.012186865268,
          5560.052132701422,
          6574.693974272173,
          6097.2681110358835,
          5691.471902505078,
          5743.232904536222,
          5412.293838862559,
          4987.060934326337,
          5148.373053486797,
          5205.407582938388,
          4928.47528774543,
          5439.3121191604605,
          5100.41096817874,
          5605.817874069059,
          6124.0778605280975,
          5886.155044008125,
          6147.154366960054,
          5588.095463777929,
          5584.383886255924,
          5159.981042654028,
          5219.3073798239675,
          5393.4048747461065,
          4722.76980365606,
          4579.533513879485,
          4589.376438727149,
          5531.32904536222,
          5594.928232904536,
          5660.300751879699,
          7095.812781954887,
          6017.026932084309
         ]
        }
       ],
       "layout": {
        "legend": {
         "bgcolor": "#F5F6F9",
         "font": {
          "color": "#4D5663"
         }
        },
        "paper_bgcolor": "#F5F6F9",
        "plot_bgcolor": "#F5F6F9",
        "template": {
         "data": {
          "bar": [
           {
            "error_x": {
             "color": "#2a3f5f"
            },
            "error_y": {
             "color": "#2a3f5f"
            },
            "marker": {
             "line": {
              "color": "#E5ECF6",
              "width": 0.5
             }
            },
            "type": "bar"
           }
          ],
          "barpolar": [
           {
            "marker": {
             "line": {
              "color": "#E5ECF6",
              "width": 0.5
             }
            },
            "type": "barpolar"
           }
          ],
          "carpet": [
           {
            "aaxis": {
             "endlinecolor": "#2a3f5f",
             "gridcolor": "white",
             "linecolor": "white",
             "minorgridcolor": "white",
             "startlinecolor": "#2a3f5f"
            },
            "baxis": {
             "endlinecolor": "#2a3f5f",
             "gridcolor": "white",
             "linecolor": "white",
             "minorgridcolor": "white",
             "startlinecolor": "#2a3f5f"
            },
            "type": "carpet"
           }
          ],
          "choropleth": [
           {
            "colorbar": {
             "outlinewidth": 0,
             "ticks": ""
            },
            "type": "choropleth"
           }
          ],
          "contour": [
           {
            "colorbar": {
             "outlinewidth": 0,
             "ticks": ""
            },
            "colorscale": [
             [
              0,
              "#0d0887"
             ],
             [
              0.1111111111111111,
              "#46039f"
             ],
             [
              0.2222222222222222,
              "#7201a8"
             ],
             [
              0.3333333333333333,
              "#9c179e"
             ],
             [
              0.4444444444444444,
              "#bd3786"
             ],
             [
              0.5555555555555556,
              "#d8576b"
             ],
             [
              0.6666666666666666,
              "#ed7953"
             ],
             [
              0.7777777777777778,
              "#fb9f3a"
             ],
             [
              0.8888888888888888,
              "#fdca26"
             ],
             [
              1,
              "#f0f921"
             ]
            ],
            "type": "contour"
           }
          ],
          "contourcarpet": [
           {
            "colorbar": {
             "outlinewidth": 0,
             "ticks": ""
            },
            "type": "contourcarpet"
           }
          ],
          "heatmap": [
           {
            "colorbar": {
             "outlinewidth": 0,
             "ticks": ""
            },
            "colorscale": [
             [
              0,
              "#0d0887"
             ],
             [
              0.1111111111111111,
              "#46039f"
             ],
             [
              0.2222222222222222,
              "#7201a8"
             ],
             [
              0.3333333333333333,
              "#9c179e"
             ],
             [
              0.4444444444444444,
              "#bd3786"
             ],
             [
              0.5555555555555556,
              "#d8576b"
             ],
             [
              0.6666666666666666,
              "#ed7953"
             ],
             [
              0.7777777777777778,
              "#fb9f3a"
             ],
             [
              0.8888888888888888,
              "#fdca26"
             ],
             [
              1,
              "#f0f921"
             ]
            ],
            "type": "heatmap"
           }
          ],
          "heatmapgl": [
           {
            "colorbar": {
             "outlinewidth": 0,
             "ticks": ""
            },
            "colorscale": [
             [
              0,
              "#0d0887"
             ],
             [
              0.1111111111111111,
              "#46039f"
             ],
             [
              0.2222222222222222,
              "#7201a8"
             ],
             [
              0.3333333333333333,
              "#9c179e"
             ],
             [
              0.4444444444444444,
              "#bd3786"
             ],
             [
              0.5555555555555556,
              "#d8576b"
             ],
             [
              0.6666666666666666,
              "#ed7953"
             ],
             [
              0.7777777777777778,
              "#fb9f3a"
             ],
             [
              0.8888888888888888,
              "#fdca26"
             ],
             [
              1,
              "#f0f921"
             ]
            ],
            "type": "heatmapgl"
           }
          ],
          "histogram": [
           {
            "marker": {
             "colorbar": {
              "outlinewidth": 0,
              "ticks": ""
             }
            },
            "type": "histogram"
           }
          ],
          "histogram2d": [
           {
            "colorbar": {
             "outlinewidth": 0,
             "ticks": ""
            },
            "colorscale": [
             [
              0,
              "#0d0887"
             ],
             [
              0.1111111111111111,
              "#46039f"
             ],
             [
              0.2222222222222222,
              "#7201a8"
             ],
             [
              0.3333333333333333,
              "#9c179e"
             ],
             [
              0.4444444444444444,
              "#bd3786"
             ],
             [
              0.5555555555555556,
              "#d8576b"
             ],
             [
              0.6666666666666666,
              "#ed7953"
             ],
             [
              0.7777777777777778,
              "#fb9f3a"
             ],
             [
              0.8888888888888888,
              "#fdca26"
             ],
             [
              1,
              "#f0f921"
             ]
            ],
            "type": "histogram2d"
           }
          ],
          "histogram2dcontour": [
           {
            "colorbar": {
             "outlinewidth": 0,
             "ticks": ""
            },
            "colorscale": [
             [
              0,
              "#0d0887"
             ],
             [
              0.1111111111111111,
              "#46039f"
             ],
             [
              0.2222222222222222,
              "#7201a8"
             ],
             [
              0.3333333333333333,
              "#9c179e"
             ],
             [
              0.4444444444444444,
              "#bd3786"
             ],
             [
              0.5555555555555556,
              "#d8576b"
             ],
             [
              0.6666666666666666,
              "#ed7953"
             ],
             [
              0.7777777777777778,
              "#fb9f3a"
             ],
             [
              0.8888888888888888,
              "#fdca26"
             ],
             [
              1,
              "#f0f921"
             ]
            ],
            "type": "histogram2dcontour"
           }
          ],
          "mesh3d": [
           {
            "colorbar": {
             "outlinewidth": 0,
             "ticks": ""
            },
            "type": "mesh3d"
           }
          ],
          "parcoords": [
           {
            "line": {
             "colorbar": {
              "outlinewidth": 0,
              "ticks": ""
             }
            },
            "type": "parcoords"
           }
          ],
          "pie": [
           {
            "automargin": true,
            "type": "pie"
           }
          ],
          "scatter": [
           {
            "marker": {
             "colorbar": {
              "outlinewidth": 0,
              "ticks": ""
             }
            },
            "type": "scatter"
           }
          ],
          "scatter3d": [
           {
            "line": {
             "colorbar": {
              "outlinewidth": 0,
              "ticks": ""
             }
            },
            "marker": {
             "colorbar": {
              "outlinewidth": 0,
              "ticks": ""
             }
            },
            "type": "scatter3d"
           }
          ],
          "scattercarpet": [
           {
            "marker": {
             "colorbar": {
              "outlinewidth": 0,
              "ticks": ""
             }
            },
            "type": "scattercarpet"
           }
          ],
          "scattergeo": [
           {
            "marker": {
             "colorbar": {
              "outlinewidth": 0,
              "ticks": ""
             }
            },
            "type": "scattergeo"
           }
          ],
          "scattergl": [
           {
            "marker": {
             "colorbar": {
              "outlinewidth": 0,
              "ticks": ""
             }
            },
            "type": "scattergl"
           }
          ],
          "scattermapbox": [
           {
            "marker": {
             "colorbar": {
              "outlinewidth": 0,
              "ticks": ""
             }
            },
            "type": "scattermapbox"
           }
          ],
          "scatterpolar": [
           {
            "marker": {
             "colorbar": {
              "outlinewidth": 0,
              "ticks": ""
             }
            },
            "type": "scatterpolar"
           }
          ],
          "scatterpolargl": [
           {
            "marker": {
             "colorbar": {
              "outlinewidth": 0,
              "ticks": ""
             }
            },
            "type": "scatterpolargl"
           }
          ],
          "scatterternary": [
           {
            "marker": {
             "colorbar": {
              "outlinewidth": 0,
              "ticks": ""
             }
            },
            "type": "scatterternary"
           }
          ],
          "surface": [
           {
            "colorbar": {
             "outlinewidth": 0,
             "ticks": ""
            },
            "colorscale": [
             [
              0,
              "#0d0887"
             ],
             [
              0.1111111111111111,
              "#46039f"
             ],
             [
              0.2222222222222222,
              "#7201a8"
             ],
             [
              0.3333333333333333,
              "#9c179e"
             ],
             [
              0.4444444444444444,
              "#bd3786"
             ],
             [
              0.5555555555555556,
              "#d8576b"
             ],
             [
              0.6666666666666666,
              "#ed7953"
             ],
             [
              0.7777777777777778,
              "#fb9f3a"
             ],
             [
              0.8888888888888888,
              "#fdca26"
             ],
             [
              1,
              "#f0f921"
             ]
            ],
            "type": "surface"
           }
          ],
          "table": [
           {
            "cells": {
             "fill": {
              "color": "#EBF0F8"
             },
             "line": {
              "color": "white"
             }
            },
            "header": {
             "fill": {
              "color": "#C8D4E3"
             },
             "line": {
              "color": "white"
             }
            },
            "type": "table"
           }
          ]
         },
         "layout": {
          "annotationdefaults": {
           "arrowcolor": "#2a3f5f",
           "arrowhead": 0,
           "arrowwidth": 1
          },
          "coloraxis": {
           "colorbar": {
            "outlinewidth": 0,
            "ticks": ""
           }
          },
          "colorscale": {
           "diverging": [
            [
             0,
             "#8e0152"
            ],
            [
             0.1,
             "#c51b7d"
            ],
            [
             0.2,
             "#de77ae"
            ],
            [
             0.3,
             "#f1b6da"
            ],
            [
             0.4,
             "#fde0ef"
            ],
            [
             0.5,
             "#f7f7f7"
            ],
            [
             0.6,
             "#e6f5d0"
            ],
            [
             0.7,
             "#b8e186"
            ],
            [
             0.8,
             "#7fbc41"
            ],
            [
             0.9,
             "#4d9221"
            ],
            [
             1,
             "#276419"
            ]
           ],
           "sequential": [
            [
             0,
             "#0d0887"
            ],
            [
             0.1111111111111111,
             "#46039f"
            ],
            [
             0.2222222222222222,
             "#7201a8"
            ],
            [
             0.3333333333333333,
             "#9c179e"
            ],
            [
             0.4444444444444444,
             "#bd3786"
            ],
            [
             0.5555555555555556,
             "#d8576b"
            ],
            [
             0.6666666666666666,
             "#ed7953"
            ],
            [
             0.7777777777777778,
             "#fb9f3a"
            ],
            [
             0.8888888888888888,
             "#fdca26"
            ],
            [
             1,
             "#f0f921"
            ]
           ],
           "sequentialminus": [
            [
             0,
             "#0d0887"
            ],
            [
             0.1111111111111111,
             "#46039f"
            ],
            [
             0.2222222222222222,
             "#7201a8"
            ],
            [
             0.3333333333333333,
             "#9c179e"
            ],
            [
             0.4444444444444444,
             "#bd3786"
            ],
            [
             0.5555555555555556,
             "#d8576b"
            ],
            [
             0.6666666666666666,
             "#ed7953"
            ],
            [
             0.7777777777777778,
             "#fb9f3a"
            ],
            [
             0.8888888888888888,
             "#fdca26"
            ],
            [
             1,
             "#f0f921"
            ]
           ]
          },
          "colorway": [
           "#636efa",
           "#EF553B",
           "#00cc96",
           "#ab63fa",
           "#FFA15A",
           "#19d3f3",
           "#FF6692",
           "#B6E880",
           "#FF97FF",
           "#FECB52"
          ],
          "font": {
           "color": "#2a3f5f"
          },
          "geo": {
           "bgcolor": "white",
           "lakecolor": "white",
           "landcolor": "#E5ECF6",
           "showlakes": true,
           "showland": true,
           "subunitcolor": "white"
          },
          "hoverlabel": {
           "align": "left"
          },
          "hovermode": "closest",
          "mapbox": {
           "style": "light"
          },
          "paper_bgcolor": "white",
          "plot_bgcolor": "#E5ECF6",
          "polar": {
           "angularaxis": {
            "gridcolor": "white",
            "linecolor": "white",
            "ticks": ""
           },
           "bgcolor": "#E5ECF6",
           "radialaxis": {
            "gridcolor": "white",
            "linecolor": "white",
            "ticks": ""
           }
          },
          "scene": {
           "xaxis": {
            "backgroundcolor": "#E5ECF6",
            "gridcolor": "white",
            "gridwidth": 2,
            "linecolor": "white",
            "showbackground": true,
            "ticks": "",
            "zerolinecolor": "white"
           },
           "yaxis": {
            "backgroundcolor": "#E5ECF6",
            "gridcolor": "white",
            "gridwidth": 2,
            "linecolor": "white",
            "showbackground": true,
            "ticks": "",
            "zerolinecolor": "white"
           },
           "zaxis": {
            "backgroundcolor": "#E5ECF6",
            "gridcolor": "white",
            "gridwidth": 2,
            "linecolor": "white",
            "showbackground": true,
            "ticks": "",
            "zerolinecolor": "white"
           }
          },
          "shapedefaults": {
           "line": {
            "color": "#2a3f5f"
           }
          },
          "ternary": {
           "aaxis": {
            "gridcolor": "white",
            "linecolor": "white",
            "ticks": ""
           },
           "baxis": {
            "gridcolor": "white",
            "linecolor": "white",
            "ticks": ""
           },
           "bgcolor": "#E5ECF6",
           "caxis": {
            "gridcolor": "white",
            "linecolor": "white",
            "ticks": ""
           }
          },
          "title": {
           "x": 0.05
          },
          "xaxis": {
           "automargin": true,
           "gridcolor": "white",
           "linecolor": "white",
           "ticks": "",
           "title": {
            "standoff": 15
           },
           "zerolinecolor": "white",
           "zerolinewidth": 2
          },
          "yaxis": {
           "automargin": true,
           "gridcolor": "white",
           "linecolor": "white",
           "ticks": "",
           "title": {
            "standoff": 15
           },
           "zerolinecolor": "white",
           "zerolinewidth": 2
          }
         }
        },
        "title": {
         "font": {
          "color": "#4D5663"
         },
         "text": "Average Sales in a day"
        },
        "xaxis": {
         "gridcolor": "#E1E5ED",
         "showgrid": true,
         "tickfont": {
          "color": "#4D5663"
         },
         "title": {
          "font": {
           "color": "#4D5663"
          },
          "text": ""
         },
         "zerolinecolor": "#E1E5ED"
        },
        "yaxis": {
         "gridcolor": "#E1E5ED",
         "showgrid": true,
         "tickfont": {
          "color": "#4D5663"
         },
         "title": {
          "font": {
           "color": "#4D5663"
          },
          "text": ""
         },
         "zerolinecolor": "#E1E5ED"
        }
       }
      },
      "text/html": [
       "<div>\n",
       "        \n",
       "        \n",
       "            <div id=\"5098dc35-5f23-49f5-911b-c784d0b5eb3d\" class=\"plotly-graph-div\" style=\"height:525px; width:100%;\"></div>\n",
       "            <script type=\"text/javascript\">\n",
       "                require([\"plotly\"], function(Plotly) {\n",
       "                    window.PLOTLYENV=window.PLOTLYENV || {};\n",
       "                    window.PLOTLYENV.BASE_URL='https://plot.ly';\n",
       "                    \n",
       "                if (document.getElementById(\"5098dc35-5f23-49f5-911b-c784d0b5eb3d\")) {\n",
       "                    Plotly.newPlot(\n",
       "                        '5098dc35-5f23-49f5-911b-c784d0b5eb3d',\n",
       "                        [{\"line\": {\"color\": \"rgba(255, 153, 51, 1.0)\", \"dash\": \"solid\", \"shape\": \"linear\", \"width\": 1.3}, \"mode\": \"lines\", \"name\": \"Sales\", \"text\": \"\", \"type\": \"scatter\", \"x\": [1, 2, 3, 4, 5, 6, 7, 8, 9, 10, 11, 12, 13, 14, 15, 16, 17, 18, 19, 20, 21, 22, 23, 24, 25, 26, 27, 28, 29, 30, 31], \"y\": [4346.190927555856, 6662.012186865268, 5560.052132701422, 6574.693974272173, 6097.2681110358835, 5691.471902505078, 5743.232904536222, 5412.293838862559, 4987.060934326337, 5148.373053486797, 5205.407582938388, 4928.47528774543, 5439.3121191604605, 5100.41096817874, 5605.817874069059, 6124.0778605280975, 5886.155044008125, 6147.154366960054, 5588.095463777929, 5584.383886255924, 5159.981042654028, 5219.3073798239675, 5393.4048747461065, 4722.76980365606, 4579.533513879485, 4589.376438727149, 5531.32904536222, 5594.928232904536, 5660.300751879699, 7095.812781954887, 6017.026932084309]}],\n",
       "                        {\"legend\": {\"bgcolor\": \"#F5F6F9\", \"font\": {\"color\": \"#4D5663\"}}, \"paper_bgcolor\": \"#F5F6F9\", \"plot_bgcolor\": \"#F5F6F9\", \"template\": {\"data\": {\"bar\": [{\"error_x\": {\"color\": \"#2a3f5f\"}, \"error_y\": {\"color\": \"#2a3f5f\"}, \"marker\": {\"line\": {\"color\": \"#E5ECF6\", \"width\": 0.5}}, \"type\": \"bar\"}], \"barpolar\": [{\"marker\": {\"line\": {\"color\": \"#E5ECF6\", \"width\": 0.5}}, \"type\": \"barpolar\"}], \"carpet\": [{\"aaxis\": {\"endlinecolor\": \"#2a3f5f\", \"gridcolor\": \"white\", \"linecolor\": \"white\", \"minorgridcolor\": \"white\", \"startlinecolor\": \"#2a3f5f\"}, \"baxis\": {\"endlinecolor\": \"#2a3f5f\", \"gridcolor\": \"white\", \"linecolor\": \"white\", \"minorgridcolor\": \"white\", \"startlinecolor\": \"#2a3f5f\"}, \"type\": \"carpet\"}], \"choropleth\": [{\"colorbar\": {\"outlinewidth\": 0, \"ticks\": \"\"}, \"type\": \"choropleth\"}], \"contour\": [{\"colorbar\": {\"outlinewidth\": 0, \"ticks\": \"\"}, \"colorscale\": [[0.0, \"#0d0887\"], [0.1111111111111111, \"#46039f\"], [0.2222222222222222, \"#7201a8\"], [0.3333333333333333, \"#9c179e\"], [0.4444444444444444, \"#bd3786\"], [0.5555555555555556, \"#d8576b\"], [0.6666666666666666, \"#ed7953\"], [0.7777777777777778, \"#fb9f3a\"], [0.8888888888888888, \"#fdca26\"], [1.0, \"#f0f921\"]], \"type\": \"contour\"}], \"contourcarpet\": [{\"colorbar\": {\"outlinewidth\": 0, \"ticks\": \"\"}, \"type\": \"contourcarpet\"}], \"heatmap\": [{\"colorbar\": {\"outlinewidth\": 0, \"ticks\": \"\"}, \"colorscale\": [[0.0, \"#0d0887\"], [0.1111111111111111, \"#46039f\"], [0.2222222222222222, \"#7201a8\"], [0.3333333333333333, \"#9c179e\"], [0.4444444444444444, \"#bd3786\"], [0.5555555555555556, \"#d8576b\"], [0.6666666666666666, \"#ed7953\"], [0.7777777777777778, \"#fb9f3a\"], [0.8888888888888888, \"#fdca26\"], [1.0, \"#f0f921\"]], \"type\": \"heatmap\"}], \"heatmapgl\": [{\"colorbar\": {\"outlinewidth\": 0, \"ticks\": \"\"}, \"colorscale\": [[0.0, \"#0d0887\"], [0.1111111111111111, \"#46039f\"], [0.2222222222222222, \"#7201a8\"], [0.3333333333333333, \"#9c179e\"], [0.4444444444444444, \"#bd3786\"], [0.5555555555555556, \"#d8576b\"], [0.6666666666666666, \"#ed7953\"], [0.7777777777777778, \"#fb9f3a\"], [0.8888888888888888, \"#fdca26\"], [1.0, \"#f0f921\"]], \"type\": \"heatmapgl\"}], \"histogram\": [{\"marker\": {\"colorbar\": {\"outlinewidth\": 0, \"ticks\": \"\"}}, \"type\": \"histogram\"}], \"histogram2d\": [{\"colorbar\": {\"outlinewidth\": 0, \"ticks\": \"\"}, \"colorscale\": [[0.0, \"#0d0887\"], [0.1111111111111111, \"#46039f\"], [0.2222222222222222, \"#7201a8\"], [0.3333333333333333, \"#9c179e\"], [0.4444444444444444, \"#bd3786\"], [0.5555555555555556, \"#d8576b\"], [0.6666666666666666, \"#ed7953\"], [0.7777777777777778, \"#fb9f3a\"], [0.8888888888888888, \"#fdca26\"], [1.0, \"#f0f921\"]], \"type\": \"histogram2d\"}], \"histogram2dcontour\": [{\"colorbar\": {\"outlinewidth\": 0, \"ticks\": \"\"}, \"colorscale\": [[0.0, \"#0d0887\"], [0.1111111111111111, \"#46039f\"], [0.2222222222222222, \"#7201a8\"], [0.3333333333333333, \"#9c179e\"], [0.4444444444444444, \"#bd3786\"], [0.5555555555555556, \"#d8576b\"], [0.6666666666666666, \"#ed7953\"], [0.7777777777777778, \"#fb9f3a\"], [0.8888888888888888, \"#fdca26\"], [1.0, \"#f0f921\"]], \"type\": \"histogram2dcontour\"}], \"mesh3d\": [{\"colorbar\": {\"outlinewidth\": 0, \"ticks\": \"\"}, \"type\": \"mesh3d\"}], \"parcoords\": [{\"line\": {\"colorbar\": {\"outlinewidth\": 0, \"ticks\": \"\"}}, \"type\": \"parcoords\"}], \"pie\": [{\"automargin\": true, \"type\": \"pie\"}], \"scatter\": [{\"marker\": {\"colorbar\": {\"outlinewidth\": 0, \"ticks\": \"\"}}, \"type\": \"scatter\"}], \"scatter3d\": [{\"line\": {\"colorbar\": {\"outlinewidth\": 0, \"ticks\": \"\"}}, \"marker\": {\"colorbar\": {\"outlinewidth\": 0, \"ticks\": \"\"}}, \"type\": \"scatter3d\"}], \"scattercarpet\": [{\"marker\": {\"colorbar\": {\"outlinewidth\": 0, \"ticks\": \"\"}}, \"type\": \"scattercarpet\"}], \"scattergeo\": [{\"marker\": {\"colorbar\": {\"outlinewidth\": 0, \"ticks\": \"\"}}, \"type\": \"scattergeo\"}], \"scattergl\": [{\"marker\": {\"colorbar\": {\"outlinewidth\": 0, \"ticks\": \"\"}}, \"type\": \"scattergl\"}], \"scattermapbox\": [{\"marker\": {\"colorbar\": {\"outlinewidth\": 0, \"ticks\": \"\"}}, \"type\": \"scattermapbox\"}], \"scatterpolar\": [{\"marker\": {\"colorbar\": {\"outlinewidth\": 0, \"ticks\": \"\"}}, \"type\": \"scatterpolar\"}], \"scatterpolargl\": [{\"marker\": {\"colorbar\": {\"outlinewidth\": 0, \"ticks\": \"\"}}, \"type\": \"scatterpolargl\"}], \"scatterternary\": [{\"marker\": {\"colorbar\": {\"outlinewidth\": 0, \"ticks\": \"\"}}, \"type\": \"scatterternary\"}], \"surface\": [{\"colorbar\": {\"outlinewidth\": 0, \"ticks\": \"\"}, \"colorscale\": [[0.0, \"#0d0887\"], [0.1111111111111111, \"#46039f\"], [0.2222222222222222, \"#7201a8\"], [0.3333333333333333, \"#9c179e\"], [0.4444444444444444, \"#bd3786\"], [0.5555555555555556, \"#d8576b\"], [0.6666666666666666, \"#ed7953\"], [0.7777777777777778, \"#fb9f3a\"], [0.8888888888888888, \"#fdca26\"], [1.0, \"#f0f921\"]], \"type\": \"surface\"}], \"table\": [{\"cells\": {\"fill\": {\"color\": \"#EBF0F8\"}, \"line\": {\"color\": \"white\"}}, \"header\": {\"fill\": {\"color\": \"#C8D4E3\"}, \"line\": {\"color\": \"white\"}}, \"type\": \"table\"}]}, \"layout\": {\"annotationdefaults\": {\"arrowcolor\": \"#2a3f5f\", \"arrowhead\": 0, \"arrowwidth\": 1}, \"coloraxis\": {\"colorbar\": {\"outlinewidth\": 0, \"ticks\": \"\"}}, \"colorscale\": {\"diverging\": [[0, \"#8e0152\"], [0.1, \"#c51b7d\"], [0.2, \"#de77ae\"], [0.3, \"#f1b6da\"], [0.4, \"#fde0ef\"], [0.5, \"#f7f7f7\"], [0.6, \"#e6f5d0\"], [0.7, \"#b8e186\"], [0.8, \"#7fbc41\"], [0.9, \"#4d9221\"], [1, \"#276419\"]], \"sequential\": [[0.0, \"#0d0887\"], [0.1111111111111111, \"#46039f\"], [0.2222222222222222, \"#7201a8\"], [0.3333333333333333, \"#9c179e\"], [0.4444444444444444, \"#bd3786\"], [0.5555555555555556, \"#d8576b\"], [0.6666666666666666, \"#ed7953\"], [0.7777777777777778, \"#fb9f3a\"], [0.8888888888888888, \"#fdca26\"], [1.0, \"#f0f921\"]], \"sequentialminus\": [[0.0, \"#0d0887\"], [0.1111111111111111, \"#46039f\"], [0.2222222222222222, \"#7201a8\"], [0.3333333333333333, \"#9c179e\"], [0.4444444444444444, \"#bd3786\"], [0.5555555555555556, \"#d8576b\"], [0.6666666666666666, \"#ed7953\"], [0.7777777777777778, \"#fb9f3a\"], [0.8888888888888888, \"#fdca26\"], [1.0, \"#f0f921\"]]}, \"colorway\": [\"#636efa\", \"#EF553B\", \"#00cc96\", \"#ab63fa\", \"#FFA15A\", \"#19d3f3\", \"#FF6692\", \"#B6E880\", \"#FF97FF\", \"#FECB52\"], \"font\": {\"color\": \"#2a3f5f\"}, \"geo\": {\"bgcolor\": \"white\", \"lakecolor\": \"white\", \"landcolor\": \"#E5ECF6\", \"showlakes\": true, \"showland\": true, \"subunitcolor\": \"white\"}, \"hoverlabel\": {\"align\": \"left\"}, \"hovermode\": \"closest\", \"mapbox\": {\"style\": \"light\"}, \"paper_bgcolor\": \"white\", \"plot_bgcolor\": \"#E5ECF6\", \"polar\": {\"angularaxis\": {\"gridcolor\": \"white\", \"linecolor\": \"white\", \"ticks\": \"\"}, \"bgcolor\": \"#E5ECF6\", \"radialaxis\": {\"gridcolor\": \"white\", \"linecolor\": \"white\", \"ticks\": \"\"}}, \"scene\": {\"xaxis\": {\"backgroundcolor\": \"#E5ECF6\", \"gridcolor\": \"white\", \"gridwidth\": 2, \"linecolor\": \"white\", \"showbackground\": true, \"ticks\": \"\", \"zerolinecolor\": \"white\"}, \"yaxis\": {\"backgroundcolor\": \"#E5ECF6\", \"gridcolor\": \"white\", \"gridwidth\": 2, \"linecolor\": \"white\", \"showbackground\": true, \"ticks\": \"\", \"zerolinecolor\": \"white\"}, \"zaxis\": {\"backgroundcolor\": \"#E5ECF6\", \"gridcolor\": \"white\", \"gridwidth\": 2, \"linecolor\": \"white\", \"showbackground\": true, \"ticks\": \"\", \"zerolinecolor\": \"white\"}}, \"shapedefaults\": {\"line\": {\"color\": \"#2a3f5f\"}}, \"ternary\": {\"aaxis\": {\"gridcolor\": \"white\", \"linecolor\": \"white\", \"ticks\": \"\"}, \"baxis\": {\"gridcolor\": \"white\", \"linecolor\": \"white\", \"ticks\": \"\"}, \"bgcolor\": \"#E5ECF6\", \"caxis\": {\"gridcolor\": \"white\", \"linecolor\": \"white\", \"ticks\": \"\"}}, \"title\": {\"x\": 0.05}, \"xaxis\": {\"automargin\": true, \"gridcolor\": \"white\", \"linecolor\": \"white\", \"ticks\": \"\", \"title\": {\"standoff\": 15}, \"zerolinecolor\": \"white\", \"zerolinewidth\": 2}, \"yaxis\": {\"automargin\": true, \"gridcolor\": \"white\", \"linecolor\": \"white\", \"ticks\": \"\", \"title\": {\"standoff\": 15}, \"zerolinecolor\": \"white\", \"zerolinewidth\": 2}}}, \"title\": {\"font\": {\"color\": \"#4D5663\"}, \"text\": \"Average Sales in a day\"}, \"xaxis\": {\"gridcolor\": \"#E1E5ED\", \"showgrid\": true, \"tickfont\": {\"color\": \"#4D5663\"}, \"title\": {\"font\": {\"color\": \"#4D5663\"}, \"text\": \"\"}, \"zerolinecolor\": \"#E1E5ED\"}, \"yaxis\": {\"gridcolor\": \"#E1E5ED\", \"showgrid\": true, \"tickfont\": {\"color\": \"#4D5663\"}, \"title\": {\"font\": {\"color\": \"#4D5663\"}, \"text\": \"\"}, \"zerolinecolor\": \"#E1E5ED\"}},\n",
       "                        {\"showLink\": true, \"linkText\": \"Export to plot.ly\", \"plotlyServerURL\": \"https://plot.ly\", \"responsive\": true}\n",
       "                    ).then(function(){\n",
       "                            \n",
       "var gd = document.getElementById('5098dc35-5f23-49f5-911b-c784d0b5eb3d');\n",
       "var x = new MutationObserver(function (mutations, observer) {{\n",
       "        var display = window.getComputedStyle(gd).display;\n",
       "        if (!display || display === 'none') {{\n",
       "            console.log([gd, 'removed!']);\n",
       "            Plotly.purge(gd);\n",
       "            observer.disconnect();\n",
       "        }}\n",
       "}});\n",
       "\n",
       "// Listen for the removal of the full notebook cells\n",
       "var notebookContainer = gd.closest('#notebook-container');\n",
       "if (notebookContainer) {{\n",
       "    x.observe(notebookContainer, {childList: true});\n",
       "}}\n",
       "\n",
       "// Listen for the clearing of the current output cell\n",
       "var outputEl = gd.closest('.output');\n",
       "if (outputEl) {{\n",
       "    x.observe(outputEl, {childList: true});\n",
       "}}\n",
       "\n",
       "                        })\n",
       "                };\n",
       "                });\n",
       "            </script>\n",
       "        </div>"
      ]
     },
     "metadata": {},
     "output_type": "display_data"
    }
   ],
   "source": [
    "#distribution of daily sales per month\n",
    "sales_daily_dist=sales.groupby('day')['Sales'].mean().iplot(title='Average Sales in a day')\n",
    "\n",
    "#peaks at the beggining and end of the month, small peak in the middle"
   ]
  },
  {
   "cell_type": "code",
   "execution_count": 101,
   "metadata": {
    "id": "4a4dcce3-e66d-4efa-81ef-2950f4ce8b5c",
    "tags": []
   },
   "outputs": [
    {
     "data": {
      "application/vnd.plotly.v1+json": {
       "config": {
        "linkText": "Export to plot.ly",
        "plotlyServerURL": "https://plot.ly",
        "showLink": true
       },
       "data": [
        {
         "line": {
          "color": "rgba(255, 153, 51, 1.0)",
          "dash": "solid",
          "shape": "linear",
          "width": 1.3
         },
         "mode": "lines",
         "name": "Sales",
         "text": "",
         "type": "scatter",
         "x": [
          1,
          2,
          3,
          4,
          5,
          6,
          7
         ],
         "y": [
          7562.923245614035,
          6789.322128851541,
          6368.586523498288,
          6015.419089071973,
          6403.271413026581,
          5451.730889724311,
          0
         ]
        }
       ],
       "layout": {
        "legend": {
         "bgcolor": "#F5F6F9",
         "font": {
          "color": "#4D5663"
         }
        },
        "paper_bgcolor": "#F5F6F9",
        "plot_bgcolor": "#F5F6F9",
        "template": {
         "data": {
          "bar": [
           {
            "error_x": {
             "color": "#2a3f5f"
            },
            "error_y": {
             "color": "#2a3f5f"
            },
            "marker": {
             "line": {
              "color": "#E5ECF6",
              "width": 0.5
             }
            },
            "type": "bar"
           }
          ],
          "barpolar": [
           {
            "marker": {
             "line": {
              "color": "#E5ECF6",
              "width": 0.5
             }
            },
            "type": "barpolar"
           }
          ],
          "carpet": [
           {
            "aaxis": {
             "endlinecolor": "#2a3f5f",
             "gridcolor": "white",
             "linecolor": "white",
             "minorgridcolor": "white",
             "startlinecolor": "#2a3f5f"
            },
            "baxis": {
             "endlinecolor": "#2a3f5f",
             "gridcolor": "white",
             "linecolor": "white",
             "minorgridcolor": "white",
             "startlinecolor": "#2a3f5f"
            },
            "type": "carpet"
           }
          ],
          "choropleth": [
           {
            "colorbar": {
             "outlinewidth": 0,
             "ticks": ""
            },
            "type": "choropleth"
           }
          ],
          "contour": [
           {
            "colorbar": {
             "outlinewidth": 0,
             "ticks": ""
            },
            "colorscale": [
             [
              0,
              "#0d0887"
             ],
             [
              0.1111111111111111,
              "#46039f"
             ],
             [
              0.2222222222222222,
              "#7201a8"
             ],
             [
              0.3333333333333333,
              "#9c179e"
             ],
             [
              0.4444444444444444,
              "#bd3786"
             ],
             [
              0.5555555555555556,
              "#d8576b"
             ],
             [
              0.6666666666666666,
              "#ed7953"
             ],
             [
              0.7777777777777778,
              "#fb9f3a"
             ],
             [
              0.8888888888888888,
              "#fdca26"
             ],
             [
              1,
              "#f0f921"
             ]
            ],
            "type": "contour"
           }
          ],
          "contourcarpet": [
           {
            "colorbar": {
             "outlinewidth": 0,
             "ticks": ""
            },
            "type": "contourcarpet"
           }
          ],
          "heatmap": [
           {
            "colorbar": {
             "outlinewidth": 0,
             "ticks": ""
            },
            "colorscale": [
             [
              0,
              "#0d0887"
             ],
             [
              0.1111111111111111,
              "#46039f"
             ],
             [
              0.2222222222222222,
              "#7201a8"
             ],
             [
              0.3333333333333333,
              "#9c179e"
             ],
             [
              0.4444444444444444,
              "#bd3786"
             ],
             [
              0.5555555555555556,
              "#d8576b"
             ],
             [
              0.6666666666666666,
              "#ed7953"
             ],
             [
              0.7777777777777778,
              "#fb9f3a"
             ],
             [
              0.8888888888888888,
              "#fdca26"
             ],
             [
              1,
              "#f0f921"
             ]
            ],
            "type": "heatmap"
           }
          ],
          "heatmapgl": [
           {
            "colorbar": {
             "outlinewidth": 0,
             "ticks": ""
            },
            "colorscale": [
             [
              0,
              "#0d0887"
             ],
             [
              0.1111111111111111,
              "#46039f"
             ],
             [
              0.2222222222222222,
              "#7201a8"
             ],
             [
              0.3333333333333333,
              "#9c179e"
             ],
             [
              0.4444444444444444,
              "#bd3786"
             ],
             [
              0.5555555555555556,
              "#d8576b"
             ],
             [
              0.6666666666666666,
              "#ed7953"
             ],
             [
              0.7777777777777778,
              "#fb9f3a"
             ],
             [
              0.8888888888888888,
              "#fdca26"
             ],
             [
              1,
              "#f0f921"
             ]
            ],
            "type": "heatmapgl"
           }
          ],
          "histogram": [
           {
            "marker": {
             "colorbar": {
              "outlinewidth": 0,
              "ticks": ""
             }
            },
            "type": "histogram"
           }
          ],
          "histogram2d": [
           {
            "colorbar": {
             "outlinewidth": 0,
             "ticks": ""
            },
            "colorscale": [
             [
              0,
              "#0d0887"
             ],
             [
              0.1111111111111111,
              "#46039f"
             ],
             [
              0.2222222222222222,
              "#7201a8"
             ],
             [
              0.3333333333333333,
              "#9c179e"
             ],
             [
              0.4444444444444444,
              "#bd3786"
             ],
             [
              0.5555555555555556,
              "#d8576b"
             ],
             [
              0.6666666666666666,
              "#ed7953"
             ],
             [
              0.7777777777777778,
              "#fb9f3a"
             ],
             [
              0.8888888888888888,
              "#fdca26"
             ],
             [
              1,
              "#f0f921"
             ]
            ],
            "type": "histogram2d"
           }
          ],
          "histogram2dcontour": [
           {
            "colorbar": {
             "outlinewidth": 0,
             "ticks": ""
            },
            "colorscale": [
             [
              0,
              "#0d0887"
             ],
             [
              0.1111111111111111,
              "#46039f"
             ],
             [
              0.2222222222222222,
              "#7201a8"
             ],
             [
              0.3333333333333333,
              "#9c179e"
             ],
             [
              0.4444444444444444,
              "#bd3786"
             ],
             [
              0.5555555555555556,
              "#d8576b"
             ],
             [
              0.6666666666666666,
              "#ed7953"
             ],
             [
              0.7777777777777778,
              "#fb9f3a"
             ],
             [
              0.8888888888888888,
              "#fdca26"
             ],
             [
              1,
              "#f0f921"
             ]
            ],
            "type": "histogram2dcontour"
           }
          ],
          "mesh3d": [
           {
            "colorbar": {
             "outlinewidth": 0,
             "ticks": ""
            },
            "type": "mesh3d"
           }
          ],
          "parcoords": [
           {
            "line": {
             "colorbar": {
              "outlinewidth": 0,
              "ticks": ""
             }
            },
            "type": "parcoords"
           }
          ],
          "pie": [
           {
            "automargin": true,
            "type": "pie"
           }
          ],
          "scatter": [
           {
            "marker": {
             "colorbar": {
              "outlinewidth": 0,
              "ticks": ""
             }
            },
            "type": "scatter"
           }
          ],
          "scatter3d": [
           {
            "line": {
             "colorbar": {
              "outlinewidth": 0,
              "ticks": ""
             }
            },
            "marker": {
             "colorbar": {
              "outlinewidth": 0,
              "ticks": ""
             }
            },
            "type": "scatter3d"
           }
          ],
          "scattercarpet": [
           {
            "marker": {
             "colorbar": {
              "outlinewidth": 0,
              "ticks": ""
             }
            },
            "type": "scattercarpet"
           }
          ],
          "scattergeo": [
           {
            "marker": {
             "colorbar": {
              "outlinewidth": 0,
              "ticks": ""
             }
            },
            "type": "scattergeo"
           }
          ],
          "scattergl": [
           {
            "marker": {
             "colorbar": {
              "outlinewidth": 0,
              "ticks": ""
             }
            },
            "type": "scattergl"
           }
          ],
          "scattermapbox": [
           {
            "marker": {
             "colorbar": {
              "outlinewidth": 0,
              "ticks": ""
             }
            },
            "type": "scattermapbox"
           }
          ],
          "scatterpolar": [
           {
            "marker": {
             "colorbar": {
              "outlinewidth": 0,
              "ticks": ""
             }
            },
            "type": "scatterpolar"
           }
          ],
          "scatterpolargl": [
           {
            "marker": {
             "colorbar": {
              "outlinewidth": 0,
              "ticks": ""
             }
            },
            "type": "scatterpolargl"
           }
          ],
          "scatterternary": [
           {
            "marker": {
             "colorbar": {
              "outlinewidth": 0,
              "ticks": ""
             }
            },
            "type": "scatterternary"
           }
          ],
          "surface": [
           {
            "colorbar": {
             "outlinewidth": 0,
             "ticks": ""
            },
            "colorscale": [
             [
              0,
              "#0d0887"
             ],
             [
              0.1111111111111111,
              "#46039f"
             ],
             [
              0.2222222222222222,
              "#7201a8"
             ],
             [
              0.3333333333333333,
              "#9c179e"
             ],
             [
              0.4444444444444444,
              "#bd3786"
             ],
             [
              0.5555555555555556,
              "#d8576b"
             ],
             [
              0.6666666666666666,
              "#ed7953"
             ],
             [
              0.7777777777777778,
              "#fb9f3a"
             ],
             [
              0.8888888888888888,
              "#fdca26"
             ],
             [
              1,
              "#f0f921"
             ]
            ],
            "type": "surface"
           }
          ],
          "table": [
           {
            "cells": {
             "fill": {
              "color": "#EBF0F8"
             },
             "line": {
              "color": "white"
             }
            },
            "header": {
             "fill": {
              "color": "#C8D4E3"
             },
             "line": {
              "color": "white"
             }
            },
            "type": "table"
           }
          ]
         },
         "layout": {
          "annotationdefaults": {
           "arrowcolor": "#2a3f5f",
           "arrowhead": 0,
           "arrowwidth": 1
          },
          "coloraxis": {
           "colorbar": {
            "outlinewidth": 0,
            "ticks": ""
           }
          },
          "colorscale": {
           "diverging": [
            [
             0,
             "#8e0152"
            ],
            [
             0.1,
             "#c51b7d"
            ],
            [
             0.2,
             "#de77ae"
            ],
            [
             0.3,
             "#f1b6da"
            ],
            [
             0.4,
             "#fde0ef"
            ],
            [
             0.5,
             "#f7f7f7"
            ],
            [
             0.6,
             "#e6f5d0"
            ],
            [
             0.7,
             "#b8e186"
            ],
            [
             0.8,
             "#7fbc41"
            ],
            [
             0.9,
             "#4d9221"
            ],
            [
             1,
             "#276419"
            ]
           ],
           "sequential": [
            [
             0,
             "#0d0887"
            ],
            [
             0.1111111111111111,
             "#46039f"
            ],
            [
             0.2222222222222222,
             "#7201a8"
            ],
            [
             0.3333333333333333,
             "#9c179e"
            ],
            [
             0.4444444444444444,
             "#bd3786"
            ],
            [
             0.5555555555555556,
             "#d8576b"
            ],
            [
             0.6666666666666666,
             "#ed7953"
            ],
            [
             0.7777777777777778,
             "#fb9f3a"
            ],
            [
             0.8888888888888888,
             "#fdca26"
            ],
            [
             1,
             "#f0f921"
            ]
           ],
           "sequentialminus": [
            [
             0,
             "#0d0887"
            ],
            [
             0.1111111111111111,
             "#46039f"
            ],
            [
             0.2222222222222222,
             "#7201a8"
            ],
            [
             0.3333333333333333,
             "#9c179e"
            ],
            [
             0.4444444444444444,
             "#bd3786"
            ],
            [
             0.5555555555555556,
             "#d8576b"
            ],
            [
             0.6666666666666666,
             "#ed7953"
            ],
            [
             0.7777777777777778,
             "#fb9f3a"
            ],
            [
             0.8888888888888888,
             "#fdca26"
            ],
            [
             1,
             "#f0f921"
            ]
           ]
          },
          "colorway": [
           "#636efa",
           "#EF553B",
           "#00cc96",
           "#ab63fa",
           "#FFA15A",
           "#19d3f3",
           "#FF6692",
           "#B6E880",
           "#FF97FF",
           "#FECB52"
          ],
          "font": {
           "color": "#2a3f5f"
          },
          "geo": {
           "bgcolor": "white",
           "lakecolor": "white",
           "landcolor": "#E5ECF6",
           "showlakes": true,
           "showland": true,
           "subunitcolor": "white"
          },
          "hoverlabel": {
           "align": "left"
          },
          "hovermode": "closest",
          "mapbox": {
           "style": "light"
          },
          "paper_bgcolor": "white",
          "plot_bgcolor": "#E5ECF6",
          "polar": {
           "angularaxis": {
            "gridcolor": "white",
            "linecolor": "white",
            "ticks": ""
           },
           "bgcolor": "#E5ECF6",
           "radialaxis": {
            "gridcolor": "white",
            "linecolor": "white",
            "ticks": ""
           }
          },
          "scene": {
           "xaxis": {
            "backgroundcolor": "#E5ECF6",
            "gridcolor": "white",
            "gridwidth": 2,
            "linecolor": "white",
            "showbackground": true,
            "ticks": "",
            "zerolinecolor": "white"
           },
           "yaxis": {
            "backgroundcolor": "#E5ECF6",
            "gridcolor": "white",
            "gridwidth": 2,
            "linecolor": "white",
            "showbackground": true,
            "ticks": "",
            "zerolinecolor": "white"
           },
           "zaxis": {
            "backgroundcolor": "#E5ECF6",
            "gridcolor": "white",
            "gridwidth": 2,
            "linecolor": "white",
            "showbackground": true,
            "ticks": "",
            "zerolinecolor": "white"
           }
          },
          "shapedefaults": {
           "line": {
            "color": "#2a3f5f"
           }
          },
          "ternary": {
           "aaxis": {
            "gridcolor": "white",
            "linecolor": "white",
            "ticks": ""
           },
           "baxis": {
            "gridcolor": "white",
            "linecolor": "white",
            "ticks": ""
           },
           "bgcolor": "#E5ECF6",
           "caxis": {
            "gridcolor": "white",
            "linecolor": "white",
            "ticks": ""
           }
          },
          "title": {
           "x": 0.05
          },
          "xaxis": {
           "automargin": true,
           "gridcolor": "white",
           "linecolor": "white",
           "ticks": "",
           "title": {
            "standoff": 15
           },
           "zerolinecolor": "white",
           "zerolinewidth": 2
          },
          "yaxis": {
           "automargin": true,
           "gridcolor": "white",
           "linecolor": "white",
           "ticks": "",
           "title": {
            "standoff": 15
           },
           "zerolinecolor": "white",
           "zerolinewidth": 2
          }
         }
        },
        "title": {
         "font": {
          "color": "#4D5663"
         },
         "text": "Average Sales in a day"
        },
        "xaxis": {
         "gridcolor": "#E1E5ED",
         "showgrid": true,
         "tickfont": {
          "color": "#4D5663"
         },
         "title": {
          "font": {
           "color": "#4D5663"
          },
          "text": ""
         },
         "zerolinecolor": "#E1E5ED"
        },
        "yaxis": {
         "gridcolor": "#E1E5ED",
         "showgrid": true,
         "tickfont": {
          "color": "#4D5663"
         },
         "title": {
          "font": {
           "color": "#4D5663"
          },
          "text": ""
         },
         "zerolinecolor": "#E1E5ED"
        }
       }
      },
      "text/html": [
       "<div>\n",
       "        \n",
       "        \n",
       "            <div id=\"b31e5608-dc5f-4744-b190-a79d0c59c0f4\" class=\"plotly-graph-div\" style=\"height:525px; width:100%;\"></div>\n",
       "            <script type=\"text/javascript\">\n",
       "                require([\"plotly\"], function(Plotly) {\n",
       "                    window.PLOTLYENV=window.PLOTLYENV || {};\n",
       "                    window.PLOTLYENV.BASE_URL='https://plot.ly';\n",
       "                    \n",
       "                if (document.getElementById(\"b31e5608-dc5f-4744-b190-a79d0c59c0f4\")) {\n",
       "                    Plotly.newPlot(\n",
       "                        'b31e5608-dc5f-4744-b190-a79d0c59c0f4',\n",
       "                        [{\"line\": {\"color\": \"rgba(255, 153, 51, 1.0)\", \"dash\": \"solid\", \"shape\": \"linear\", \"width\": 1.3}, \"mode\": \"lines\", \"name\": \"Sales\", \"text\": \"\", \"type\": \"scatter\", \"x\": [1, 2, 3, 4, 5, 6, 7], \"y\": [7562.923245614035, 6789.322128851541, 6368.586523498288, 6015.419089071973, 6403.271413026581, 5451.730889724311, 0.0]}],\n",
       "                        {\"legend\": {\"bgcolor\": \"#F5F6F9\", \"font\": {\"color\": \"#4D5663\"}}, \"paper_bgcolor\": \"#F5F6F9\", \"plot_bgcolor\": \"#F5F6F9\", \"template\": {\"data\": {\"bar\": [{\"error_x\": {\"color\": \"#2a3f5f\"}, \"error_y\": {\"color\": \"#2a3f5f\"}, \"marker\": {\"line\": {\"color\": \"#E5ECF6\", \"width\": 0.5}}, \"type\": \"bar\"}], \"barpolar\": [{\"marker\": {\"line\": {\"color\": \"#E5ECF6\", \"width\": 0.5}}, \"type\": \"barpolar\"}], \"carpet\": [{\"aaxis\": {\"endlinecolor\": \"#2a3f5f\", \"gridcolor\": \"white\", \"linecolor\": \"white\", \"minorgridcolor\": \"white\", \"startlinecolor\": \"#2a3f5f\"}, \"baxis\": {\"endlinecolor\": \"#2a3f5f\", \"gridcolor\": \"white\", \"linecolor\": \"white\", \"minorgridcolor\": \"white\", \"startlinecolor\": \"#2a3f5f\"}, \"type\": \"carpet\"}], \"choropleth\": [{\"colorbar\": {\"outlinewidth\": 0, \"ticks\": \"\"}, \"type\": \"choropleth\"}], \"contour\": [{\"colorbar\": {\"outlinewidth\": 0, \"ticks\": \"\"}, \"colorscale\": [[0.0, \"#0d0887\"], [0.1111111111111111, \"#46039f\"], [0.2222222222222222, \"#7201a8\"], [0.3333333333333333, \"#9c179e\"], [0.4444444444444444, \"#bd3786\"], [0.5555555555555556, \"#d8576b\"], [0.6666666666666666, \"#ed7953\"], [0.7777777777777778, \"#fb9f3a\"], [0.8888888888888888, \"#fdca26\"], [1.0, \"#f0f921\"]], \"type\": \"contour\"}], \"contourcarpet\": [{\"colorbar\": {\"outlinewidth\": 0, \"ticks\": \"\"}, \"type\": \"contourcarpet\"}], \"heatmap\": [{\"colorbar\": {\"outlinewidth\": 0, \"ticks\": \"\"}, \"colorscale\": [[0.0, \"#0d0887\"], [0.1111111111111111, \"#46039f\"], [0.2222222222222222, \"#7201a8\"], [0.3333333333333333, \"#9c179e\"], [0.4444444444444444, \"#bd3786\"], [0.5555555555555556, \"#d8576b\"], [0.6666666666666666, \"#ed7953\"], [0.7777777777777778, \"#fb9f3a\"], [0.8888888888888888, \"#fdca26\"], [1.0, \"#f0f921\"]], \"type\": \"heatmap\"}], \"heatmapgl\": [{\"colorbar\": {\"outlinewidth\": 0, \"ticks\": \"\"}, \"colorscale\": [[0.0, \"#0d0887\"], [0.1111111111111111, \"#46039f\"], [0.2222222222222222, \"#7201a8\"], [0.3333333333333333, \"#9c179e\"], [0.4444444444444444, \"#bd3786\"], [0.5555555555555556, \"#d8576b\"], [0.6666666666666666, \"#ed7953\"], [0.7777777777777778, \"#fb9f3a\"], [0.8888888888888888, \"#fdca26\"], [1.0, \"#f0f921\"]], \"type\": \"heatmapgl\"}], \"histogram\": [{\"marker\": {\"colorbar\": {\"outlinewidth\": 0, \"ticks\": \"\"}}, \"type\": \"histogram\"}], \"histogram2d\": [{\"colorbar\": {\"outlinewidth\": 0, \"ticks\": \"\"}, \"colorscale\": [[0.0, \"#0d0887\"], [0.1111111111111111, \"#46039f\"], [0.2222222222222222, \"#7201a8\"], [0.3333333333333333, \"#9c179e\"], [0.4444444444444444, \"#bd3786\"], [0.5555555555555556, \"#d8576b\"], [0.6666666666666666, \"#ed7953\"], [0.7777777777777778, \"#fb9f3a\"], [0.8888888888888888, \"#fdca26\"], [1.0, \"#f0f921\"]], \"type\": \"histogram2d\"}], \"histogram2dcontour\": [{\"colorbar\": {\"outlinewidth\": 0, \"ticks\": \"\"}, \"colorscale\": [[0.0, \"#0d0887\"], [0.1111111111111111, \"#46039f\"], [0.2222222222222222, \"#7201a8\"], [0.3333333333333333, \"#9c179e\"], [0.4444444444444444, \"#bd3786\"], [0.5555555555555556, \"#d8576b\"], [0.6666666666666666, \"#ed7953\"], [0.7777777777777778, \"#fb9f3a\"], [0.8888888888888888, \"#fdca26\"], [1.0, \"#f0f921\"]], \"type\": \"histogram2dcontour\"}], \"mesh3d\": [{\"colorbar\": {\"outlinewidth\": 0, \"ticks\": \"\"}, \"type\": \"mesh3d\"}], \"parcoords\": [{\"line\": {\"colorbar\": {\"outlinewidth\": 0, \"ticks\": \"\"}}, \"type\": \"parcoords\"}], \"pie\": [{\"automargin\": true, \"type\": \"pie\"}], \"scatter\": [{\"marker\": {\"colorbar\": {\"outlinewidth\": 0, \"ticks\": \"\"}}, \"type\": \"scatter\"}], \"scatter3d\": [{\"line\": {\"colorbar\": {\"outlinewidth\": 0, \"ticks\": \"\"}}, \"marker\": {\"colorbar\": {\"outlinewidth\": 0, \"ticks\": \"\"}}, \"type\": \"scatter3d\"}], \"scattercarpet\": [{\"marker\": {\"colorbar\": {\"outlinewidth\": 0, \"ticks\": \"\"}}, \"type\": \"scattercarpet\"}], \"scattergeo\": [{\"marker\": {\"colorbar\": {\"outlinewidth\": 0, \"ticks\": \"\"}}, \"type\": \"scattergeo\"}], \"scattergl\": [{\"marker\": {\"colorbar\": {\"outlinewidth\": 0, \"ticks\": \"\"}}, \"type\": \"scattergl\"}], \"scattermapbox\": [{\"marker\": {\"colorbar\": {\"outlinewidth\": 0, \"ticks\": \"\"}}, \"type\": \"scattermapbox\"}], \"scatterpolar\": [{\"marker\": {\"colorbar\": {\"outlinewidth\": 0, \"ticks\": \"\"}}, \"type\": \"scatterpolar\"}], \"scatterpolargl\": [{\"marker\": {\"colorbar\": {\"outlinewidth\": 0, \"ticks\": \"\"}}, \"type\": \"scatterpolargl\"}], \"scatterternary\": [{\"marker\": {\"colorbar\": {\"outlinewidth\": 0, \"ticks\": \"\"}}, \"type\": \"scatterternary\"}], \"surface\": [{\"colorbar\": {\"outlinewidth\": 0, \"ticks\": \"\"}, \"colorscale\": [[0.0, \"#0d0887\"], [0.1111111111111111, \"#46039f\"], [0.2222222222222222, \"#7201a8\"], [0.3333333333333333, \"#9c179e\"], [0.4444444444444444, \"#bd3786\"], [0.5555555555555556, \"#d8576b\"], [0.6666666666666666, \"#ed7953\"], [0.7777777777777778, \"#fb9f3a\"], [0.8888888888888888, \"#fdca26\"], [1.0, \"#f0f921\"]], \"type\": \"surface\"}], \"table\": [{\"cells\": {\"fill\": {\"color\": \"#EBF0F8\"}, \"line\": {\"color\": \"white\"}}, \"header\": {\"fill\": {\"color\": \"#C8D4E3\"}, \"line\": {\"color\": \"white\"}}, \"type\": \"table\"}]}, \"layout\": {\"annotationdefaults\": {\"arrowcolor\": \"#2a3f5f\", \"arrowhead\": 0, \"arrowwidth\": 1}, \"coloraxis\": {\"colorbar\": {\"outlinewidth\": 0, \"ticks\": \"\"}}, \"colorscale\": {\"diverging\": [[0, \"#8e0152\"], [0.1, \"#c51b7d\"], [0.2, \"#de77ae\"], [0.3, \"#f1b6da\"], [0.4, \"#fde0ef\"], [0.5, \"#f7f7f7\"], [0.6, \"#e6f5d0\"], [0.7, \"#b8e186\"], [0.8, \"#7fbc41\"], [0.9, \"#4d9221\"], [1, \"#276419\"]], \"sequential\": [[0.0, \"#0d0887\"], [0.1111111111111111, \"#46039f\"], [0.2222222222222222, \"#7201a8\"], [0.3333333333333333, \"#9c179e\"], [0.4444444444444444, \"#bd3786\"], [0.5555555555555556, \"#d8576b\"], [0.6666666666666666, \"#ed7953\"], [0.7777777777777778, \"#fb9f3a\"], [0.8888888888888888, \"#fdca26\"], [1.0, \"#f0f921\"]], \"sequentialminus\": [[0.0, \"#0d0887\"], [0.1111111111111111, \"#46039f\"], [0.2222222222222222, \"#7201a8\"], [0.3333333333333333, \"#9c179e\"], [0.4444444444444444, \"#bd3786\"], [0.5555555555555556, \"#d8576b\"], [0.6666666666666666, \"#ed7953\"], [0.7777777777777778, \"#fb9f3a\"], [0.8888888888888888, \"#fdca26\"], [1.0, \"#f0f921\"]]}, \"colorway\": [\"#636efa\", \"#EF553B\", \"#00cc96\", \"#ab63fa\", \"#FFA15A\", \"#19d3f3\", \"#FF6692\", \"#B6E880\", \"#FF97FF\", \"#FECB52\"], \"font\": {\"color\": \"#2a3f5f\"}, \"geo\": {\"bgcolor\": \"white\", \"lakecolor\": \"white\", \"landcolor\": \"#E5ECF6\", \"showlakes\": true, \"showland\": true, \"subunitcolor\": \"white\"}, \"hoverlabel\": {\"align\": \"left\"}, \"hovermode\": \"closest\", \"mapbox\": {\"style\": \"light\"}, \"paper_bgcolor\": \"white\", \"plot_bgcolor\": \"#E5ECF6\", \"polar\": {\"angularaxis\": {\"gridcolor\": \"white\", \"linecolor\": \"white\", \"ticks\": \"\"}, \"bgcolor\": \"#E5ECF6\", \"radialaxis\": {\"gridcolor\": \"white\", \"linecolor\": \"white\", \"ticks\": \"\"}}, \"scene\": {\"xaxis\": {\"backgroundcolor\": \"#E5ECF6\", \"gridcolor\": \"white\", \"gridwidth\": 2, \"linecolor\": \"white\", \"showbackground\": true, \"ticks\": \"\", \"zerolinecolor\": \"white\"}, \"yaxis\": {\"backgroundcolor\": \"#E5ECF6\", \"gridcolor\": \"white\", \"gridwidth\": 2, \"linecolor\": \"white\", \"showbackground\": true, \"ticks\": \"\", \"zerolinecolor\": \"white\"}, \"zaxis\": {\"backgroundcolor\": \"#E5ECF6\", \"gridcolor\": \"white\", \"gridwidth\": 2, \"linecolor\": \"white\", \"showbackground\": true, \"ticks\": \"\", \"zerolinecolor\": \"white\"}}, \"shapedefaults\": {\"line\": {\"color\": \"#2a3f5f\"}}, \"ternary\": {\"aaxis\": {\"gridcolor\": \"white\", \"linecolor\": \"white\", \"ticks\": \"\"}, \"baxis\": {\"gridcolor\": \"white\", \"linecolor\": \"white\", \"ticks\": \"\"}, \"bgcolor\": \"#E5ECF6\", \"caxis\": {\"gridcolor\": \"white\", \"linecolor\": \"white\", \"ticks\": \"\"}}, \"title\": {\"x\": 0.05}, \"xaxis\": {\"automargin\": true, \"gridcolor\": \"white\", \"linecolor\": \"white\", \"ticks\": \"\", \"title\": {\"standoff\": 15}, \"zerolinecolor\": \"white\", \"zerolinewidth\": 2}, \"yaxis\": {\"automargin\": true, \"gridcolor\": \"white\", \"linecolor\": \"white\", \"ticks\": \"\", \"title\": {\"standoff\": 15}, \"zerolinecolor\": \"white\", \"zerolinewidth\": 2}}}, \"title\": {\"font\": {\"color\": \"#4D5663\"}, \"text\": \"Average Sales in a day\"}, \"xaxis\": {\"gridcolor\": \"#E1E5ED\", \"showgrid\": true, \"tickfont\": {\"color\": \"#4D5663\"}, \"title\": {\"font\": {\"color\": \"#4D5663\"}, \"text\": \"\"}, \"zerolinecolor\": \"#E1E5ED\"}, \"yaxis\": {\"gridcolor\": \"#E1E5ED\", \"showgrid\": true, \"tickfont\": {\"color\": \"#4D5663\"}, \"title\": {\"font\": {\"color\": \"#4D5663\"}, \"text\": \"\"}, \"zerolinecolor\": \"#E1E5ED\"}},\n",
       "                        {\"showLink\": true, \"linkText\": \"Export to plot.ly\", \"plotlyServerURL\": \"https://plot.ly\", \"responsive\": true}\n",
       "                    ).then(function(){\n",
       "                            \n",
       "var gd = document.getElementById('b31e5608-dc5f-4744-b190-a79d0c59c0f4');\n",
       "var x = new MutationObserver(function (mutations, observer) {{\n",
       "        var display = window.getComputedStyle(gd).display;\n",
       "        if (!display || display === 'none') {{\n",
       "            console.log([gd, 'removed!']);\n",
       "            Plotly.purge(gd);\n",
       "            observer.disconnect();\n",
       "        }}\n",
       "}});\n",
       "\n",
       "// Listen for the removal of the full notebook cells\n",
       "var notebookContainer = gd.closest('#notebook-container');\n",
       "if (notebookContainer) {{\n",
       "    x.observe(notebookContainer, {childList: true});\n",
       "}}\n",
       "\n",
       "// Listen for the clearing of the current output cell\n",
       "var outputEl = gd.closest('.output');\n",
       "if (outputEl) {{\n",
       "    x.observe(outputEl, {childList: true});\n",
       "}}\n",
       "\n",
       "                        })\n",
       "                };\n",
       "                });\n",
       "            </script>\n",
       "        </div>"
      ]
     },
     "metadata": {},
     "output_type": "display_data"
    }
   ],
   "source": [
    "#sales by day of a week\n",
    "sales_daily_dist=sales.groupby('day_of_week')['Sales'].mean().iplot(title='Average Sales in a day')\n",
    "\n",
    "#Monday is the day with the heighest sale rate, then the rate decrease (small increase on Friday)\n",
    "#strong descent on Sunday cause the store is closed"
   ]
  },
  {
   "cell_type": "markdown",
   "metadata": {
    "id": "4952c1dd-d9fd-4297-8b66-5522ab5e2ac1"
   },
   "source": [
    "# STORES"
   ]
  },
  {
   "cell_type": "code",
   "execution_count": 102,
   "metadata": {
    "id": "e5d2099b-ea1b-4186-bf38-b892c67f2c11",
    "tags": []
   },
   "outputs": [
    {
     "data": {
      "text/html": [
       "<div>\n",
       "<style scoped>\n",
       "    .dataframe tbody tr th:only-of-type {\n",
       "        vertical-align: middle;\n",
       "    }\n",
       "\n",
       "    .dataframe tbody tr th {\n",
       "        vertical-align: top;\n",
       "    }\n",
       "\n",
       "    .dataframe thead th {\n",
       "        text-align: right;\n",
       "    }\n",
       "</style>\n",
       "<table border=\"1\" class=\"dataframe\">\n",
       "  <thead>\n",
       "    <tr style=\"text-align: right;\">\n",
       "      <th></th>\n",
       "      <th>store_type</th>\n",
       "      <th>assortment_type</th>\n",
       "      <th>competition_distance</th>\n",
       "      <th>promo2</th>\n",
       "      <th>promo2_since_week</th>\n",
       "      <th>Promo2_since_year</th>\n",
       "      <th>competition_open_since_month_year</th>\n",
       "    </tr>\n",
       "    <tr>\n",
       "      <th>store</th>\n",
       "      <th></th>\n",
       "      <th></th>\n",
       "      <th></th>\n",
       "      <th></th>\n",
       "      <th></th>\n",
       "      <th></th>\n",
       "      <th></th>\n",
       "    </tr>\n",
       "  </thead>\n",
       "  <tbody>\n",
       "    <tr>\n",
       "      <th>1</th>\n",
       "      <td>c</td>\n",
       "      <td>a</td>\n",
       "      <td>1270.0</td>\n",
       "      <td>0</td>\n",
       "      <td>NaN</td>\n",
       "      <td>NaN</td>\n",
       "      <td>9/2008</td>\n",
       "    </tr>\n",
       "    <tr>\n",
       "      <th>2</th>\n",
       "      <td>a</td>\n",
       "      <td>a</td>\n",
       "      <td>570.0</td>\n",
       "      <td>1</td>\n",
       "      <td>13.0</td>\n",
       "      <td>2010.0</td>\n",
       "      <td>11/2007</td>\n",
       "    </tr>\n",
       "    <tr>\n",
       "      <th>3</th>\n",
       "      <td>a</td>\n",
       "      <td>a</td>\n",
       "      <td>14130.0</td>\n",
       "      <td>1</td>\n",
       "      <td>14.0</td>\n",
       "      <td>2011.0</td>\n",
       "      <td>12/2006</td>\n",
       "    </tr>\n",
       "    <tr>\n",
       "      <th>4</th>\n",
       "      <td>c</td>\n",
       "      <td>c</td>\n",
       "      <td>620.0</td>\n",
       "      <td>0</td>\n",
       "      <td>NaN</td>\n",
       "      <td>NaN</td>\n",
       "      <td>9/2009</td>\n",
       "    </tr>\n",
       "    <tr>\n",
       "      <th>5</th>\n",
       "      <td>a</td>\n",
       "      <td>a</td>\n",
       "      <td>29910.0</td>\n",
       "      <td>0</td>\n",
       "      <td>NaN</td>\n",
       "      <td>NaN</td>\n",
       "      <td>4/2015</td>\n",
       "    </tr>\n",
       "  </tbody>\n",
       "</table>\n",
       "</div>"
      ],
      "text/plain": [
       "      store_type assortment_type  competition_distance  promo2  \\\n",
       "store                                                            \n",
       "1              c               a                1270.0       0   \n",
       "2              a               a                 570.0       1   \n",
       "3              a               a               14130.0       1   \n",
       "4              c               c                 620.0       0   \n",
       "5              a               a               29910.0       0   \n",
       "\n",
       "       promo2_since_week  Promo2_since_year competition_open_since_month_year  \n",
       "store                                                                          \n",
       "1                    NaN                NaN                            9/2008  \n",
       "2                   13.0             2010.0                           11/2007  \n",
       "3                   14.0             2011.0                           12/2006  \n",
       "4                    NaN                NaN                            9/2009  \n",
       "5                    NaN                NaN                            4/2015  "
      ]
     },
     "execution_count": 102,
     "metadata": {},
     "output_type": "execute_result"
    }
   ],
   "source": [
    "#DATA ANALYSIS OF STORES DATA\n",
    "stores = pd.read_csv('stores.csv',sep=';',index_col=0)\n",
    "stores.head()"
   ]
  },
  {
   "cell_type": "code",
   "execution_count": 103,
   "metadata": {
    "id": "c16d0cb4-e353-4342-a832-1c2fd9e9f6e1",
    "tags": []
   },
   "outputs": [
    {
     "name": "stdout",
     "output_type": "stream",
     "text": [
      "<class 'pandas.core.frame.DataFrame'>\n",
      "Int64Index: 49 entries, 1 to 49\n",
      "Data columns (total 7 columns):\n",
      " #   Column                             Non-Null Count  Dtype  \n",
      "---  ------                             --------------  -----  \n",
      " 0   store_type                         49 non-null     object \n",
      " 1   assortment_type                    49 non-null     object \n",
      " 2   competition_distance               49 non-null     float64\n",
      " 3   promo2                             49 non-null     int64  \n",
      " 4   promo2_since_week                  27 non-null     float64\n",
      " 5   Promo2_since_year                  27 non-null     float64\n",
      " 6   competition_open_since_month_year  37 non-null     object \n",
      "dtypes: float64(3), int64(1), object(3)\n",
      "memory usage: 3.1+ KB\n"
     ]
    }
   ],
   "source": [
    "stores.info() #null values for last three columns"
   ]
  },
  {
   "cell_type": "markdown",
   "metadata": {
    "id": "1222237a-3b34-49db-be19-9b6a32929931"
   },
   "source": [
    "# DATA CLEANING AND PREPARING"
   ]
  },
  {
   "cell_type": "code",
   "execution_count": 104,
   "metadata": {
    "id": "8b2ad77f-b45e-4f5d-9d09-2a55db9f9742",
    "tags": []
   },
   "outputs": [
    {
     "name": "stdout",
     "output_type": "stream",
     "text": [
      "['0' 'a' 'b' 'c']\n"
     ]
    }
   ],
   "source": [
    "#checking what kind of data are in state holiday column\n",
    "print(sales.statutory_holiday.unique())\n"
   ]
  },
  {
   "cell_type": "code",
   "execution_count": 105,
   "metadata": {
    "id": "e8dbb1bc-ead1-4e25-a5de-906a1525cba1",
    "tags": []
   },
   "outputs": [
    {
     "data": {
      "text/html": [
       "<div>\n",
       "<style scoped>\n",
       "    .dataframe tbody tr th:only-of-type {\n",
       "        vertical-align: middle;\n",
       "    }\n",
       "\n",
       "    .dataframe tbody tr th {\n",
       "        vertical-align: top;\n",
       "    }\n",
       "\n",
       "    .dataframe thead th {\n",
       "        text-align: right;\n",
       "    }\n",
       "</style>\n",
       "<table border=\"1\" class=\"dataframe\">\n",
       "  <thead>\n",
       "    <tr style=\"text-align: right;\">\n",
       "      <th></th>\n",
       "      <th>No Holiday</th>\n",
       "      <th>Public</th>\n",
       "      <th>Easter</th>\n",
       "      <th>Christmas</th>\n",
       "    </tr>\n",
       "    <tr>\n",
       "      <th>store</th>\n",
       "      <th></th>\n",
       "      <th></th>\n",
       "      <th></th>\n",
       "      <th></th>\n",
       "    </tr>\n",
       "  </thead>\n",
       "  <tbody>\n",
       "    <tr>\n",
       "      <th>1</th>\n",
       "      <td>1</td>\n",
       "      <td>0</td>\n",
       "      <td>0</td>\n",
       "      <td>0</td>\n",
       "    </tr>\n",
       "    <tr>\n",
       "      <th>2</th>\n",
       "      <td>1</td>\n",
       "      <td>0</td>\n",
       "      <td>0</td>\n",
       "      <td>0</td>\n",
       "    </tr>\n",
       "    <tr>\n",
       "      <th>3</th>\n",
       "      <td>1</td>\n",
       "      <td>0</td>\n",
       "      <td>0</td>\n",
       "      <td>0</td>\n",
       "    </tr>\n",
       "    <tr>\n",
       "      <th>4</th>\n",
       "      <td>1</td>\n",
       "      <td>0</td>\n",
       "      <td>0</td>\n",
       "      <td>0</td>\n",
       "    </tr>\n",
       "    <tr>\n",
       "      <th>5</th>\n",
       "      <td>1</td>\n",
       "      <td>0</td>\n",
       "      <td>0</td>\n",
       "      <td>0</td>\n",
       "    </tr>\n",
       "  </tbody>\n",
       "</table>\n",
       "</div>"
      ],
      "text/plain": [
       "       No Holiday  Public  Easter  Christmas\n",
       "store                                       \n",
       "1               1       0       0          0\n",
       "2               1       0       0          0\n",
       "3               1       0       0          0\n",
       "4               1       0       0          0\n",
       "5               1       0       0          0"
      ]
     },
     "execution_count": 105,
     "metadata": {},
     "output_type": "execute_result"
    }
   ],
   "source": [
    "#using pandas dummy variables we can convert categorical variable into dummy/indicator variables\n",
    "state_holiday=pd.get_dummies(sales['statutory_holiday']) \n",
    "state_holiday.rename({'0':'No Holiday','a':'Public', 'b': 'Easter','c':'Christmas'},axis=1,inplace=True)\n",
    "state_holiday[['No Holiday','Public','Easter','Christmas']] = state_holiday[['No Holiday','Public','Easter','Christmas']].astype(int, copy=False)\n",
    "state_holiday.head()"
   ]
  },
  {
   "cell_type": "code",
   "execution_count": 106,
   "metadata": {
    "id": "e233ccfa-426a-46ad-a128-228a4891f587",
    "tags": []
   },
   "outputs": [
    {
     "data": {
      "text/html": [
       "<div>\n",
       "<style scoped>\n",
       "    .dataframe tbody tr th:only-of-type {\n",
       "        vertical-align: middle;\n",
       "    }\n",
       "\n",
       "    .dataframe tbody tr th {\n",
       "        vertical-align: top;\n",
       "    }\n",
       "\n",
       "    .dataframe thead th {\n",
       "        text-align: right;\n",
       "    }\n",
       "</style>\n",
       "<table border=\"1\" class=\"dataframe\">\n",
       "  <thead>\n",
       "    <tr style=\"text-align: right;\">\n",
       "      <th></th>\n",
       "      <th>day_of_week</th>\n",
       "      <th>date</th>\n",
       "      <th>Sales</th>\n",
       "      <th>customers_count</th>\n",
       "      <th>store_open</th>\n",
       "      <th>promo</th>\n",
       "      <th>school_holiday</th>\n",
       "      <th>month</th>\n",
       "      <th>year</th>\n",
       "      <th>day</th>\n",
       "      <th>No Holiday</th>\n",
       "      <th>Public</th>\n",
       "      <th>Easter</th>\n",
       "      <th>Christmas</th>\n",
       "    </tr>\n",
       "    <tr>\n",
       "      <th>store</th>\n",
       "      <th></th>\n",
       "      <th></th>\n",
       "      <th></th>\n",
       "      <th></th>\n",
       "      <th></th>\n",
       "      <th></th>\n",
       "      <th></th>\n",
       "      <th></th>\n",
       "      <th></th>\n",
       "      <th></th>\n",
       "      <th></th>\n",
       "      <th></th>\n",
       "      <th></th>\n",
       "      <th></th>\n",
       "    </tr>\n",
       "  </thead>\n",
       "  <tbody>\n",
       "    <tr>\n",
       "      <th>1</th>\n",
       "      <td>5</td>\n",
       "      <td>2015-07-31</td>\n",
       "      <td>5263</td>\n",
       "      <td>555</td>\n",
       "      <td>1</td>\n",
       "      <td>1</td>\n",
       "      <td>1</td>\n",
       "      <td>7</td>\n",
       "      <td>2015</td>\n",
       "      <td>31</td>\n",
       "      <td>1</td>\n",
       "      <td>0</td>\n",
       "      <td>0</td>\n",
       "      <td>0</td>\n",
       "    </tr>\n",
       "    <tr>\n",
       "      <th>2</th>\n",
       "      <td>5</td>\n",
       "      <td>2015-07-31</td>\n",
       "      <td>6064</td>\n",
       "      <td>625</td>\n",
       "      <td>1</td>\n",
       "      <td>1</td>\n",
       "      <td>1</td>\n",
       "      <td>7</td>\n",
       "      <td>2015</td>\n",
       "      <td>31</td>\n",
       "      <td>1</td>\n",
       "      <td>0</td>\n",
       "      <td>0</td>\n",
       "      <td>0</td>\n",
       "    </tr>\n",
       "    <tr>\n",
       "      <th>3</th>\n",
       "      <td>5</td>\n",
       "      <td>2015-07-31</td>\n",
       "      <td>8314</td>\n",
       "      <td>821</td>\n",
       "      <td>1</td>\n",
       "      <td>1</td>\n",
       "      <td>1</td>\n",
       "      <td>7</td>\n",
       "      <td>2015</td>\n",
       "      <td>31</td>\n",
       "      <td>1</td>\n",
       "      <td>0</td>\n",
       "      <td>0</td>\n",
       "      <td>0</td>\n",
       "    </tr>\n",
       "    <tr>\n",
       "      <th>4</th>\n",
       "      <td>5</td>\n",
       "      <td>2015-07-31</td>\n",
       "      <td>13995</td>\n",
       "      <td>1498</td>\n",
       "      <td>1</td>\n",
       "      <td>1</td>\n",
       "      <td>1</td>\n",
       "      <td>7</td>\n",
       "      <td>2015</td>\n",
       "      <td>31</td>\n",
       "      <td>1</td>\n",
       "      <td>0</td>\n",
       "      <td>0</td>\n",
       "      <td>0</td>\n",
       "    </tr>\n",
       "    <tr>\n",
       "      <th>5</th>\n",
       "      <td>5</td>\n",
       "      <td>2015-07-31</td>\n",
       "      <td>4822</td>\n",
       "      <td>559</td>\n",
       "      <td>1</td>\n",
       "      <td>1</td>\n",
       "      <td>1</td>\n",
       "      <td>7</td>\n",
       "      <td>2015</td>\n",
       "      <td>31</td>\n",
       "      <td>1</td>\n",
       "      <td>0</td>\n",
       "      <td>0</td>\n",
       "      <td>0</td>\n",
       "    </tr>\n",
       "  </tbody>\n",
       "</table>\n",
       "</div>"
      ],
      "text/plain": [
       "       day_of_week       date  Sales  customers_count  store_open  promo  \\\n",
       "store                                                                      \n",
       "1                5 2015-07-31   5263              555           1      1   \n",
       "2                5 2015-07-31   6064              625           1      1   \n",
       "3                5 2015-07-31   8314              821           1      1   \n",
       "4                5 2015-07-31  13995             1498           1      1   \n",
       "5                5 2015-07-31   4822              559           1      1   \n",
       "\n",
       "       school_holiday  month  year  day  No Holiday  Public  Easter  Christmas  \n",
       "store                                                                           \n",
       "1                   1      7  2015   31           1       0       0          0  \n",
       "2                   1      7  2015   31           1       0       0          0  \n",
       "3                   1      7  2015   31           1       0       0          0  \n",
       "4                   1      7  2015   31           1       0       0          0  \n",
       "5                   1      7  2015   31           1       0       0          0  "
      ]
     },
     "execution_count": 106,
     "metadata": {},
     "output_type": "execute_result"
    }
   ],
   "source": [
    "#concat of dummy variables for state holiday and sales dataframe, dopping original column\n",
    "sales=pd.concat([sales,state_holiday],axis=1)\n",
    "sales.drop('statutory_holiday',axis=1,inplace=True)\n",
    "sales.head()"
   ]
  },
  {
   "cell_type": "markdown",
   "metadata": {
    "id": "e0d6ddda-16f9-4725-90dd-279a6a6320c7"
   },
   "source": [
    "# SALES + STORES"
   ]
  },
  {
   "cell_type": "code",
   "execution_count": 107,
   "metadata": {
    "id": "0787b3b9-2aae-4522-a788-8d88a77fb3d3",
    "tags": []
   },
   "outputs": [
    {
     "data": {
      "text/html": [
       "<div>\n",
       "<style scoped>\n",
       "    .dataframe tbody tr th:only-of-type {\n",
       "        vertical-align: middle;\n",
       "    }\n",
       "\n",
       "    .dataframe tbody tr th {\n",
       "        vertical-align: top;\n",
       "    }\n",
       "\n",
       "    .dataframe thead th {\n",
       "        text-align: right;\n",
       "    }\n",
       "</style>\n",
       "<table border=\"1\" class=\"dataframe\">\n",
       "  <thead>\n",
       "    <tr style=\"text-align: right;\">\n",
       "      <th></th>\n",
       "      <th>day_of_week</th>\n",
       "      <th>date</th>\n",
       "      <th>Sales</th>\n",
       "      <th>customers_count</th>\n",
       "      <th>store_open</th>\n",
       "      <th>promo</th>\n",
       "      <th>school_holiday</th>\n",
       "      <th>month</th>\n",
       "      <th>year</th>\n",
       "      <th>day</th>\n",
       "      <th>...</th>\n",
       "      <th>Public</th>\n",
       "      <th>Easter</th>\n",
       "      <th>Christmas</th>\n",
       "      <th>store_type</th>\n",
       "      <th>assortment_type</th>\n",
       "      <th>competition_distance</th>\n",
       "      <th>promo2</th>\n",
       "      <th>promo2_since_week</th>\n",
       "      <th>Promo2_since_year</th>\n",
       "      <th>competition_open_since_month_year</th>\n",
       "    </tr>\n",
       "    <tr>\n",
       "      <th>store</th>\n",
       "      <th></th>\n",
       "      <th></th>\n",
       "      <th></th>\n",
       "      <th></th>\n",
       "      <th></th>\n",
       "      <th></th>\n",
       "      <th></th>\n",
       "      <th></th>\n",
       "      <th></th>\n",
       "      <th></th>\n",
       "      <th></th>\n",
       "      <th></th>\n",
       "      <th></th>\n",
       "      <th></th>\n",
       "      <th></th>\n",
       "      <th></th>\n",
       "      <th></th>\n",
       "      <th></th>\n",
       "      <th></th>\n",
       "      <th></th>\n",
       "      <th></th>\n",
       "    </tr>\n",
       "  </thead>\n",
       "  <tbody>\n",
       "    <tr>\n",
       "      <th>1</th>\n",
       "      <td>5</td>\n",
       "      <td>2015-07-31</td>\n",
       "      <td>5263</td>\n",
       "      <td>555</td>\n",
       "      <td>1</td>\n",
       "      <td>1</td>\n",
       "      <td>1</td>\n",
       "      <td>7</td>\n",
       "      <td>2015</td>\n",
       "      <td>31</td>\n",
       "      <td>...</td>\n",
       "      <td>0</td>\n",
       "      <td>0</td>\n",
       "      <td>0</td>\n",
       "      <td>c</td>\n",
       "      <td>a</td>\n",
       "      <td>1270.0</td>\n",
       "      <td>0</td>\n",
       "      <td>NaN</td>\n",
       "      <td>NaN</td>\n",
       "      <td>9/2008</td>\n",
       "    </tr>\n",
       "    <tr>\n",
       "      <th>1</th>\n",
       "      <td>4</td>\n",
       "      <td>2015-07-30</td>\n",
       "      <td>5020</td>\n",
       "      <td>546</td>\n",
       "      <td>1</td>\n",
       "      <td>1</td>\n",
       "      <td>1</td>\n",
       "      <td>7</td>\n",
       "      <td>2015</td>\n",
       "      <td>30</td>\n",
       "      <td>...</td>\n",
       "      <td>0</td>\n",
       "      <td>0</td>\n",
       "      <td>0</td>\n",
       "      <td>c</td>\n",
       "      <td>a</td>\n",
       "      <td>1270.0</td>\n",
       "      <td>0</td>\n",
       "      <td>NaN</td>\n",
       "      <td>NaN</td>\n",
       "      <td>9/2008</td>\n",
       "    </tr>\n",
       "    <tr>\n",
       "      <th>1</th>\n",
       "      <td>3</td>\n",
       "      <td>2015-07-29</td>\n",
       "      <td>4782</td>\n",
       "      <td>523</td>\n",
       "      <td>1</td>\n",
       "      <td>1</td>\n",
       "      <td>1</td>\n",
       "      <td>7</td>\n",
       "      <td>2015</td>\n",
       "      <td>29</td>\n",
       "      <td>...</td>\n",
       "      <td>0</td>\n",
       "      <td>0</td>\n",
       "      <td>0</td>\n",
       "      <td>c</td>\n",
       "      <td>a</td>\n",
       "      <td>1270.0</td>\n",
       "      <td>0</td>\n",
       "      <td>NaN</td>\n",
       "      <td>NaN</td>\n",
       "      <td>9/2008</td>\n",
       "    </tr>\n",
       "    <tr>\n",
       "      <th>1</th>\n",
       "      <td>2</td>\n",
       "      <td>2015-07-28</td>\n",
       "      <td>5011</td>\n",
       "      <td>560</td>\n",
       "      <td>1</td>\n",
       "      <td>1</td>\n",
       "      <td>1</td>\n",
       "      <td>7</td>\n",
       "      <td>2015</td>\n",
       "      <td>28</td>\n",
       "      <td>...</td>\n",
       "      <td>0</td>\n",
       "      <td>0</td>\n",
       "      <td>0</td>\n",
       "      <td>c</td>\n",
       "      <td>a</td>\n",
       "      <td>1270.0</td>\n",
       "      <td>0</td>\n",
       "      <td>NaN</td>\n",
       "      <td>NaN</td>\n",
       "      <td>9/2008</td>\n",
       "    </tr>\n",
       "    <tr>\n",
       "      <th>1</th>\n",
       "      <td>1</td>\n",
       "      <td>2015-07-27</td>\n",
       "      <td>6102</td>\n",
       "      <td>612</td>\n",
       "      <td>1</td>\n",
       "      <td>1</td>\n",
       "      <td>1</td>\n",
       "      <td>7</td>\n",
       "      <td>2015</td>\n",
       "      <td>27</td>\n",
       "      <td>...</td>\n",
       "      <td>0</td>\n",
       "      <td>0</td>\n",
       "      <td>0</td>\n",
       "      <td>c</td>\n",
       "      <td>a</td>\n",
       "      <td>1270.0</td>\n",
       "      <td>0</td>\n",
       "      <td>NaN</td>\n",
       "      <td>NaN</td>\n",
       "      <td>9/2008</td>\n",
       "    </tr>\n",
       "  </tbody>\n",
       "</table>\n",
       "<p>5 rows × 21 columns</p>\n",
       "</div>"
      ],
      "text/plain": [
       "       day_of_week       date  Sales  customers_count  store_open  promo  \\\n",
       "store                                                                      \n",
       "1                5 2015-07-31   5263              555           1      1   \n",
       "1                4 2015-07-30   5020              546           1      1   \n",
       "1                3 2015-07-29   4782              523           1      1   \n",
       "1                2 2015-07-28   5011              560           1      1   \n",
       "1                1 2015-07-27   6102              612           1      1   \n",
       "\n",
       "       school_holiday  month  year  day  ...  Public  Easter  Christmas  \\\n",
       "store                                    ...                              \n",
       "1                   1      7  2015   31  ...       0       0          0   \n",
       "1                   1      7  2015   30  ...       0       0          0   \n",
       "1                   1      7  2015   29  ...       0       0          0   \n",
       "1                   1      7  2015   28  ...       0       0          0   \n",
       "1                   1      7  2015   27  ...       0       0          0   \n",
       "\n",
       "       store_type assortment_type competition_distance  promo2  \\\n",
       "store                                                            \n",
       "1               c               a               1270.0       0   \n",
       "1               c               a               1270.0       0   \n",
       "1               c               a               1270.0       0   \n",
       "1               c               a               1270.0       0   \n",
       "1               c               a               1270.0       0   \n",
       "\n",
       "       promo2_since_week  Promo2_since_year  competition_open_since_month_year  \n",
       "store                                                                           \n",
       "1                    NaN                NaN                             9/2008  \n",
       "1                    NaN                NaN                             9/2008  \n",
       "1                    NaN                NaN                             9/2008  \n",
       "1                    NaN                NaN                             9/2008  \n",
       "1                    NaN                NaN                             9/2008  \n",
       "\n",
       "[5 rows x 21 columns]"
      ]
     },
     "execution_count": 107,
     "metadata": {},
     "output_type": "execute_result"
    }
   ],
   "source": [
    "# join of sales and store data\n",
    "master_sales = sales.join(stores) \n",
    "master_sales.head()"
   ]
  },
  {
   "cell_type": "markdown",
   "metadata": {
    "id": "f2146fcd-3184-4c5d-9050-d68f03a3b527"
   },
   "source": [
    "ASSORTMENT TYPE"
   ]
  },
  {
   "cell_type": "code",
   "execution_count": 108,
   "metadata": {
    "id": "3f0165b0-b409-45f4-b6ad-09e3fb2f8b74",
    "tags": []
   },
   "outputs": [
    {
     "data": {
      "text/plain": [
       "array(['a', 'c'], dtype=object)"
      ]
     },
     "execution_count": 108,
     "metadata": {},
     "output_type": "execute_result"
    }
   ],
   "source": [
    "#checking distinct values in assortment type column, value 'b' is missing\n",
    "master_sales.assortment_type.unique() # a: basic, b: extra, c :extended"
   ]
  },
  {
   "cell_type": "code",
   "execution_count": 109,
   "metadata": {
    "id": "bea22449-4c8d-4bcd-b32c-767ca75eb6a5",
    "tags": []
   },
   "outputs": [
    {
     "data": {
      "text/html": [
       "<div>\n",
       "<style scoped>\n",
       "    .dataframe tbody tr th:only-of-type {\n",
       "        vertical-align: middle;\n",
       "    }\n",
       "\n",
       "    .dataframe tbody tr th {\n",
       "        vertical-align: top;\n",
       "    }\n",
       "\n",
       "    .dataframe thead th {\n",
       "        text-align: right;\n",
       "    }\n",
       "</style>\n",
       "<table border=\"1\" class=\"dataframe\">\n",
       "  <thead>\n",
       "    <tr style=\"text-align: right;\">\n",
       "      <th></th>\n",
       "      <th>extended_assortment</th>\n",
       "    </tr>\n",
       "    <tr>\n",
       "      <th>store</th>\n",
       "      <th></th>\n",
       "    </tr>\n",
       "  </thead>\n",
       "  <tbody>\n",
       "    <tr>\n",
       "      <th>1</th>\n",
       "      <td>0</td>\n",
       "    </tr>\n",
       "    <tr>\n",
       "      <th>1</th>\n",
       "      <td>0</td>\n",
       "    </tr>\n",
       "    <tr>\n",
       "      <th>1</th>\n",
       "      <td>0</td>\n",
       "    </tr>\n",
       "    <tr>\n",
       "      <th>1</th>\n",
       "      <td>0</td>\n",
       "    </tr>\n",
       "    <tr>\n",
       "      <th>1</th>\n",
       "      <td>0</td>\n",
       "    </tr>\n",
       "  </tbody>\n",
       "</table>\n",
       "</div>"
      ],
      "text/plain": [
       "       extended_assortment\n",
       "store                     \n",
       "1                        0\n",
       "1                        0\n",
       "1                        0\n",
       "1                        0\n",
       "1                        0"
      ]
     },
     "execution_count": 109,
     "metadata": {},
     "output_type": "execute_result"
    }
   ],
   "source": [
    "extended_assortment=pd.get_dummies(master_sales['assortment_type'],drop_first=True) #since there are only 2 values, a and c, it's enought to have one column\n",
    "extended_assortment.rename({'c':'extended_assortment'},axis=1,inplace=True)\n",
    "extended_assortment['extended_assortment'] = extended_assortment['extended_assortment'].astype(int, copy=False)\n",
    "extended_assortment.head()"
   ]
  },
  {
   "cell_type": "code",
   "execution_count": 110,
   "metadata": {
    "id": "ebc37912-3ce6-4dd8-b88f-25cf4883dead",
    "tags": []
   },
   "outputs": [
    {
     "data": {
      "text/html": [
       "<div>\n",
       "<style scoped>\n",
       "    .dataframe tbody tr th:only-of-type {\n",
       "        vertical-align: middle;\n",
       "    }\n",
       "\n",
       "    .dataframe tbody tr th {\n",
       "        vertical-align: top;\n",
       "    }\n",
       "\n",
       "    .dataframe thead th {\n",
       "        text-align: right;\n",
       "    }\n",
       "</style>\n",
       "<table border=\"1\" class=\"dataframe\">\n",
       "  <thead>\n",
       "    <tr style=\"text-align: right;\">\n",
       "      <th></th>\n",
       "      <th>day_of_week</th>\n",
       "      <th>date</th>\n",
       "      <th>Sales</th>\n",
       "      <th>customers_count</th>\n",
       "      <th>store_open</th>\n",
       "      <th>promo</th>\n",
       "      <th>school_holiday</th>\n",
       "      <th>month</th>\n",
       "      <th>year</th>\n",
       "      <th>day</th>\n",
       "      <th>...</th>\n",
       "      <th>Public</th>\n",
       "      <th>Easter</th>\n",
       "      <th>Christmas</th>\n",
       "      <th>store_type</th>\n",
       "      <th>competition_distance</th>\n",
       "      <th>promo2</th>\n",
       "      <th>promo2_since_week</th>\n",
       "      <th>Promo2_since_year</th>\n",
       "      <th>competition_open_since_month_year</th>\n",
       "      <th>extended_assortment</th>\n",
       "    </tr>\n",
       "    <tr>\n",
       "      <th>store</th>\n",
       "      <th></th>\n",
       "      <th></th>\n",
       "      <th></th>\n",
       "      <th></th>\n",
       "      <th></th>\n",
       "      <th></th>\n",
       "      <th></th>\n",
       "      <th></th>\n",
       "      <th></th>\n",
       "      <th></th>\n",
       "      <th></th>\n",
       "      <th></th>\n",
       "      <th></th>\n",
       "      <th></th>\n",
       "      <th></th>\n",
       "      <th></th>\n",
       "      <th></th>\n",
       "      <th></th>\n",
       "      <th></th>\n",
       "      <th></th>\n",
       "      <th></th>\n",
       "    </tr>\n",
       "  </thead>\n",
       "  <tbody>\n",
       "    <tr>\n",
       "      <th>1</th>\n",
       "      <td>5</td>\n",
       "      <td>2015-07-31</td>\n",
       "      <td>5263</td>\n",
       "      <td>555</td>\n",
       "      <td>1</td>\n",
       "      <td>1</td>\n",
       "      <td>1</td>\n",
       "      <td>7</td>\n",
       "      <td>2015</td>\n",
       "      <td>31</td>\n",
       "      <td>...</td>\n",
       "      <td>0</td>\n",
       "      <td>0</td>\n",
       "      <td>0</td>\n",
       "      <td>c</td>\n",
       "      <td>1270.0</td>\n",
       "      <td>0</td>\n",
       "      <td>NaN</td>\n",
       "      <td>NaN</td>\n",
       "      <td>9/2008</td>\n",
       "      <td>0</td>\n",
       "    </tr>\n",
       "    <tr>\n",
       "      <th>1</th>\n",
       "      <td>4</td>\n",
       "      <td>2015-07-30</td>\n",
       "      <td>5020</td>\n",
       "      <td>546</td>\n",
       "      <td>1</td>\n",
       "      <td>1</td>\n",
       "      <td>1</td>\n",
       "      <td>7</td>\n",
       "      <td>2015</td>\n",
       "      <td>30</td>\n",
       "      <td>...</td>\n",
       "      <td>0</td>\n",
       "      <td>0</td>\n",
       "      <td>0</td>\n",
       "      <td>c</td>\n",
       "      <td>1270.0</td>\n",
       "      <td>0</td>\n",
       "      <td>NaN</td>\n",
       "      <td>NaN</td>\n",
       "      <td>9/2008</td>\n",
       "      <td>0</td>\n",
       "    </tr>\n",
       "    <tr>\n",
       "      <th>1</th>\n",
       "      <td>3</td>\n",
       "      <td>2015-07-29</td>\n",
       "      <td>4782</td>\n",
       "      <td>523</td>\n",
       "      <td>1</td>\n",
       "      <td>1</td>\n",
       "      <td>1</td>\n",
       "      <td>7</td>\n",
       "      <td>2015</td>\n",
       "      <td>29</td>\n",
       "      <td>...</td>\n",
       "      <td>0</td>\n",
       "      <td>0</td>\n",
       "      <td>0</td>\n",
       "      <td>c</td>\n",
       "      <td>1270.0</td>\n",
       "      <td>0</td>\n",
       "      <td>NaN</td>\n",
       "      <td>NaN</td>\n",
       "      <td>9/2008</td>\n",
       "      <td>0</td>\n",
       "    </tr>\n",
       "    <tr>\n",
       "      <th>1</th>\n",
       "      <td>2</td>\n",
       "      <td>2015-07-28</td>\n",
       "      <td>5011</td>\n",
       "      <td>560</td>\n",
       "      <td>1</td>\n",
       "      <td>1</td>\n",
       "      <td>1</td>\n",
       "      <td>7</td>\n",
       "      <td>2015</td>\n",
       "      <td>28</td>\n",
       "      <td>...</td>\n",
       "      <td>0</td>\n",
       "      <td>0</td>\n",
       "      <td>0</td>\n",
       "      <td>c</td>\n",
       "      <td>1270.0</td>\n",
       "      <td>0</td>\n",
       "      <td>NaN</td>\n",
       "      <td>NaN</td>\n",
       "      <td>9/2008</td>\n",
       "      <td>0</td>\n",
       "    </tr>\n",
       "    <tr>\n",
       "      <th>1</th>\n",
       "      <td>1</td>\n",
       "      <td>2015-07-27</td>\n",
       "      <td>6102</td>\n",
       "      <td>612</td>\n",
       "      <td>1</td>\n",
       "      <td>1</td>\n",
       "      <td>1</td>\n",
       "      <td>7</td>\n",
       "      <td>2015</td>\n",
       "      <td>27</td>\n",
       "      <td>...</td>\n",
       "      <td>0</td>\n",
       "      <td>0</td>\n",
       "      <td>0</td>\n",
       "      <td>c</td>\n",
       "      <td>1270.0</td>\n",
       "      <td>0</td>\n",
       "      <td>NaN</td>\n",
       "      <td>NaN</td>\n",
       "      <td>9/2008</td>\n",
       "      <td>0</td>\n",
       "    </tr>\n",
       "  </tbody>\n",
       "</table>\n",
       "<p>5 rows × 21 columns</p>\n",
       "</div>"
      ],
      "text/plain": [
       "       day_of_week       date  Sales  customers_count  store_open  promo  \\\n",
       "store                                                                      \n",
       "1                5 2015-07-31   5263              555           1      1   \n",
       "1                4 2015-07-30   5020              546           1      1   \n",
       "1                3 2015-07-29   4782              523           1      1   \n",
       "1                2 2015-07-28   5011              560           1      1   \n",
       "1                1 2015-07-27   6102              612           1      1   \n",
       "\n",
       "       school_holiday  month  year  day  ...  Public  Easter  Christmas  \\\n",
       "store                                    ...                              \n",
       "1                   1      7  2015   31  ...       0       0          0   \n",
       "1                   1      7  2015   30  ...       0       0          0   \n",
       "1                   1      7  2015   29  ...       0       0          0   \n",
       "1                   1      7  2015   28  ...       0       0          0   \n",
       "1                   1      7  2015   27  ...       0       0          0   \n",
       "\n",
       "       store_type competition_distance  promo2  promo2_since_week  \\\n",
       "store                                                               \n",
       "1               c               1270.0       0                NaN   \n",
       "1               c               1270.0       0                NaN   \n",
       "1               c               1270.0       0                NaN   \n",
       "1               c               1270.0       0                NaN   \n",
       "1               c               1270.0       0                NaN   \n",
       "\n",
       "       Promo2_since_year  competition_open_since_month_year  \\\n",
       "store                                                         \n",
       "1                    NaN                             9/2008   \n",
       "1                    NaN                             9/2008   \n",
       "1                    NaN                             9/2008   \n",
       "1                    NaN                             9/2008   \n",
       "1                    NaN                             9/2008   \n",
       "\n",
       "      extended_assortment  \n",
       "store                      \n",
       "1                       0  \n",
       "1                       0  \n",
       "1                       0  \n",
       "1                       0  \n",
       "1                       0  \n",
       "\n",
       "[5 rows x 21 columns]"
      ]
     },
     "execution_count": 110,
     "metadata": {},
     "output_type": "execute_result"
    }
   ],
   "source": [
    "#concat of dummy data and master sales dataframe\n",
    "master_sales=pd.concat([master_sales,extended_assortment],axis=1)\n",
    "master_sales.drop('assortment_type',axis=1,inplace=True)\n",
    "master_sales.head()"
   ]
  },
  {
   "cell_type": "code",
   "execution_count": 111,
   "metadata": {
    "id": "55ab3cd7-0ea4-4894-acbd-191e7180c4ac",
    "tags": []
   },
   "outputs": [
    {
     "data": {
      "text/plain": [
       "array(['c', 'a', 'd'], dtype=object)"
      ]
     },
     "execution_count": 111,
     "metadata": {},
     "output_type": "execute_result"
    }
   ],
   "source": [
    "master_sales.store_type.unique() # no b type of store"
   ]
  },
  {
   "cell_type": "code",
   "execution_count": 112,
   "metadata": {
    "id": "851b2248-d4d4-4d6b-bba1-b3f2e269fb7e",
    "tags": []
   },
   "outputs": [
    {
     "data": {
      "text/html": [
       "<div>\n",
       "<style scoped>\n",
       "    .dataframe tbody tr th:only-of-type {\n",
       "        vertical-align: middle;\n",
       "    }\n",
       "\n",
       "    .dataframe tbody tr th {\n",
       "        vertical-align: top;\n",
       "    }\n",
       "\n",
       "    .dataframe thead th {\n",
       "        text-align: right;\n",
       "    }\n",
       "</style>\n",
       "<table border=\"1\" class=\"dataframe\">\n",
       "  <thead>\n",
       "    <tr style=\"text-align: right;\">\n",
       "      <th></th>\n",
       "      <th>store_a</th>\n",
       "      <th>store_c</th>\n",
       "      <th>store_d</th>\n",
       "    </tr>\n",
       "    <tr>\n",
       "      <th>store</th>\n",
       "      <th></th>\n",
       "      <th></th>\n",
       "      <th></th>\n",
       "    </tr>\n",
       "  </thead>\n",
       "  <tbody>\n",
       "    <tr>\n",
       "      <th>1</th>\n",
       "      <td>0</td>\n",
       "      <td>1</td>\n",
       "      <td>0</td>\n",
       "    </tr>\n",
       "    <tr>\n",
       "      <th>1</th>\n",
       "      <td>0</td>\n",
       "      <td>1</td>\n",
       "      <td>0</td>\n",
       "    </tr>\n",
       "    <tr>\n",
       "      <th>1</th>\n",
       "      <td>0</td>\n",
       "      <td>1</td>\n",
       "      <td>0</td>\n",
       "    </tr>\n",
       "    <tr>\n",
       "      <th>1</th>\n",
       "      <td>0</td>\n",
       "      <td>1</td>\n",
       "      <td>0</td>\n",
       "    </tr>\n",
       "    <tr>\n",
       "      <th>1</th>\n",
       "      <td>0</td>\n",
       "      <td>1</td>\n",
       "      <td>0</td>\n",
       "    </tr>\n",
       "  </tbody>\n",
       "</table>\n",
       "</div>"
      ],
      "text/plain": [
       "       store_a  store_c  store_d\n",
       "store                           \n",
       "1            0        1        0\n",
       "1            0        1        0\n",
       "1            0        1        0\n",
       "1            0        1        0\n",
       "1            0        1        0"
      ]
     },
     "execution_count": 112,
     "metadata": {},
     "output_type": "execute_result"
    }
   ],
   "source": [
    "#AGAIN DUMMY VARIABLES\n",
    "store_type=pd.get_dummies(master_sales['store_type']) \n",
    "store_type.rename({'a':'store_a','c':'store_c', 'd': 'store_d'},axis=1,inplace=True)\n",
    "store_type[['store_a','store_c','store_d']] = store_type[['store_a','store_c','store_d']].astype(int, copy=False)\n",
    "store_type.head()\n"
   ]
  },
  {
   "cell_type": "code",
   "execution_count": 113,
   "metadata": {
    "id": "a88db8b5-09e9-4e07-8228-85583c958bd9",
    "tags": []
   },
   "outputs": [],
   "source": [
    "#CONCAT\n",
    "master_sales=pd.concat([master_sales,store_type],axis=1)\n",
    "master_sales.drop('store_type',axis=1,inplace=True)\n"
   ]
  },
  {
   "cell_type": "markdown",
   "metadata": {
    "id": "fd110b2b-6f95-48b4-b7ef-a213be052497"
   },
   "source": [
    "## create new feature for Christmas "
   ]
  },
  {
   "cell_type": "markdown",
   "metadata": {
    "id": "fd6c365e-58dd-4e1b-83ec-abece1b177b5"
   },
   "source": [
    "Since feature Christmas is not that useful (shops are closed during) we create new feature :weeks before Christmas"
   ]
  },
  {
   "cell_type": "code",
   "execution_count": 114,
   "metadata": {
    "id": "b665e76e-3e98-422e-ad23-7c407506df10",
    "scrolled": true,
    "tags": []
   },
   "outputs": [
    {
     "data": {
      "application/vnd.plotly.v1+json": {
       "config": {
        "linkText": "Export to plot.ly",
        "plotlyServerURL": "https://plot.ly",
        "showLink": true
       },
       "data": [
        {
         "line": {
          "color": "rgba(255, 153, 51, 1.0)",
          "dash": "solid",
          "shape": "linear",
          "width": 1.3
         },
         "mode": "lines",
         "name": "Sales",
         "text": "",
         "type": "scatter",
         "x": [
          -51,
          -50,
          -49,
          -48,
          -47,
          -46,
          -45,
          -44,
          -43,
          -42,
          -41,
          -40,
          -39,
          -38,
          -37,
          -36,
          -35,
          -34,
          -33,
          -32,
          -31,
          -30,
          -29,
          -28,
          -27,
          -26,
          -25,
          -24,
          -23,
          -22,
          -21,
          -20,
          -19,
          -18,
          -17,
          -16,
          -15,
          -14,
          -13,
          -12,
          -11,
          -10,
          -9,
          -8,
          -7,
          -6,
          -5,
          -4,
          -3,
          -2,
          -1,
          0,
          1
         ],
         "y": [
          3363.0272108843537,
          6162.291545189504,
          4831.298347910592,
          5309.630709426628,
          5160.184645286686,
          6239.118561710398,
          4574.89407191448,
          5999.296404275996,
          4736.903790087464,
          6327.045675413023,
          4556.289601554908,
          6048.687074829932,
          5216.936831875608,
          5763.771622934888,
          4966.962099125364,
          5659.5150631681245,
          4684.43537414966,
          6012.015549076774,
          5845.10592808552,
          5025.734693877551,
          5334.443148688047,
          5034.522837706511,
          6310.895043731778,
          4565.418853255588,
          6077.451895043731,
          4756.873663751215,
          6725.493414387031,
          4836.860204081632,
          6361.7612244897955,
          4576.9510204081635,
          7112.230158730159,
          5400.698587127158,
          5502.339089481947,
          5210.252747252747,
          5593.634222919937,
          5420.9010989010985,
          5534.9937205651495,
          5071.74568288854,
          5161.1773940345365,
          5141.841444270016,
          6242.500784929356,
          4484.056514913657,
          5690.1852433281,
          4504.555729984301,
          6593.668759811617,
          5291.984301412873,
          5565.959183673469,
          6361.76295133438,
          7561.029827315541,
          5589.25431711146,
          9120.211930926216,
          4420.952904238618,
          6544.098214285715
         ]
        }
       ],
       "layout": {
        "legend": {
         "bgcolor": "#F5F6F9",
         "font": {
          "color": "#4D5663"
         }
        },
        "paper_bgcolor": "#F5F6F9",
        "plot_bgcolor": "#F5F6F9",
        "template": {
         "data": {
          "bar": [
           {
            "error_x": {
             "color": "#2a3f5f"
            },
            "error_y": {
             "color": "#2a3f5f"
            },
            "marker": {
             "line": {
              "color": "#E5ECF6",
              "width": 0.5
             }
            },
            "type": "bar"
           }
          ],
          "barpolar": [
           {
            "marker": {
             "line": {
              "color": "#E5ECF6",
              "width": 0.5
             }
            },
            "type": "barpolar"
           }
          ],
          "carpet": [
           {
            "aaxis": {
             "endlinecolor": "#2a3f5f",
             "gridcolor": "white",
             "linecolor": "white",
             "minorgridcolor": "white",
             "startlinecolor": "#2a3f5f"
            },
            "baxis": {
             "endlinecolor": "#2a3f5f",
             "gridcolor": "white",
             "linecolor": "white",
             "minorgridcolor": "white",
             "startlinecolor": "#2a3f5f"
            },
            "type": "carpet"
           }
          ],
          "choropleth": [
           {
            "colorbar": {
             "outlinewidth": 0,
             "ticks": ""
            },
            "type": "choropleth"
           }
          ],
          "contour": [
           {
            "colorbar": {
             "outlinewidth": 0,
             "ticks": ""
            },
            "colorscale": [
             [
              0,
              "#0d0887"
             ],
             [
              0.1111111111111111,
              "#46039f"
             ],
             [
              0.2222222222222222,
              "#7201a8"
             ],
             [
              0.3333333333333333,
              "#9c179e"
             ],
             [
              0.4444444444444444,
              "#bd3786"
             ],
             [
              0.5555555555555556,
              "#d8576b"
             ],
             [
              0.6666666666666666,
              "#ed7953"
             ],
             [
              0.7777777777777778,
              "#fb9f3a"
             ],
             [
              0.8888888888888888,
              "#fdca26"
             ],
             [
              1,
              "#f0f921"
             ]
            ],
            "type": "contour"
           }
          ],
          "contourcarpet": [
           {
            "colorbar": {
             "outlinewidth": 0,
             "ticks": ""
            },
            "type": "contourcarpet"
           }
          ],
          "heatmap": [
           {
            "colorbar": {
             "outlinewidth": 0,
             "ticks": ""
            },
            "colorscale": [
             [
              0,
              "#0d0887"
             ],
             [
              0.1111111111111111,
              "#46039f"
             ],
             [
              0.2222222222222222,
              "#7201a8"
             ],
             [
              0.3333333333333333,
              "#9c179e"
             ],
             [
              0.4444444444444444,
              "#bd3786"
             ],
             [
              0.5555555555555556,
              "#d8576b"
             ],
             [
              0.6666666666666666,
              "#ed7953"
             ],
             [
              0.7777777777777778,
              "#fb9f3a"
             ],
             [
              0.8888888888888888,
              "#fdca26"
             ],
             [
              1,
              "#f0f921"
             ]
            ],
            "type": "heatmap"
           }
          ],
          "heatmapgl": [
           {
            "colorbar": {
             "outlinewidth": 0,
             "ticks": ""
            },
            "colorscale": [
             [
              0,
              "#0d0887"
             ],
             [
              0.1111111111111111,
              "#46039f"
             ],
             [
              0.2222222222222222,
              "#7201a8"
             ],
             [
              0.3333333333333333,
              "#9c179e"
             ],
             [
              0.4444444444444444,
              "#bd3786"
             ],
             [
              0.5555555555555556,
              "#d8576b"
             ],
             [
              0.6666666666666666,
              "#ed7953"
             ],
             [
              0.7777777777777778,
              "#fb9f3a"
             ],
             [
              0.8888888888888888,
              "#fdca26"
             ],
             [
              1,
              "#f0f921"
             ]
            ],
            "type": "heatmapgl"
           }
          ],
          "histogram": [
           {
            "marker": {
             "colorbar": {
              "outlinewidth": 0,
              "ticks": ""
             }
            },
            "type": "histogram"
           }
          ],
          "histogram2d": [
           {
            "colorbar": {
             "outlinewidth": 0,
             "ticks": ""
            },
            "colorscale": [
             [
              0,
              "#0d0887"
             ],
             [
              0.1111111111111111,
              "#46039f"
             ],
             [
              0.2222222222222222,
              "#7201a8"
             ],
             [
              0.3333333333333333,
              "#9c179e"
             ],
             [
              0.4444444444444444,
              "#bd3786"
             ],
             [
              0.5555555555555556,
              "#d8576b"
             ],
             [
              0.6666666666666666,
              "#ed7953"
             ],
             [
              0.7777777777777778,
              "#fb9f3a"
             ],
             [
              0.8888888888888888,
              "#fdca26"
             ],
             [
              1,
              "#f0f921"
             ]
            ],
            "type": "histogram2d"
           }
          ],
          "histogram2dcontour": [
           {
            "colorbar": {
             "outlinewidth": 0,
             "ticks": ""
            },
            "colorscale": [
             [
              0,
              "#0d0887"
             ],
             [
              0.1111111111111111,
              "#46039f"
             ],
             [
              0.2222222222222222,
              "#7201a8"
             ],
             [
              0.3333333333333333,
              "#9c179e"
             ],
             [
              0.4444444444444444,
              "#bd3786"
             ],
             [
              0.5555555555555556,
              "#d8576b"
             ],
             [
              0.6666666666666666,
              "#ed7953"
             ],
             [
              0.7777777777777778,
              "#fb9f3a"
             ],
             [
              0.8888888888888888,
              "#fdca26"
             ],
             [
              1,
              "#f0f921"
             ]
            ],
            "type": "histogram2dcontour"
           }
          ],
          "mesh3d": [
           {
            "colorbar": {
             "outlinewidth": 0,
             "ticks": ""
            },
            "type": "mesh3d"
           }
          ],
          "parcoords": [
           {
            "line": {
             "colorbar": {
              "outlinewidth": 0,
              "ticks": ""
             }
            },
            "type": "parcoords"
           }
          ],
          "pie": [
           {
            "automargin": true,
            "type": "pie"
           }
          ],
          "scatter": [
           {
            "marker": {
             "colorbar": {
              "outlinewidth": 0,
              "ticks": ""
             }
            },
            "type": "scatter"
           }
          ],
          "scatter3d": [
           {
            "line": {
             "colorbar": {
              "outlinewidth": 0,
              "ticks": ""
             }
            },
            "marker": {
             "colorbar": {
              "outlinewidth": 0,
              "ticks": ""
             }
            },
            "type": "scatter3d"
           }
          ],
          "scattercarpet": [
           {
            "marker": {
             "colorbar": {
              "outlinewidth": 0,
              "ticks": ""
             }
            },
            "type": "scattercarpet"
           }
          ],
          "scattergeo": [
           {
            "marker": {
             "colorbar": {
              "outlinewidth": 0,
              "ticks": ""
             }
            },
            "type": "scattergeo"
           }
          ],
          "scattergl": [
           {
            "marker": {
             "colorbar": {
              "outlinewidth": 0,
              "ticks": ""
             }
            },
            "type": "scattergl"
           }
          ],
          "scattermapbox": [
           {
            "marker": {
             "colorbar": {
              "outlinewidth": 0,
              "ticks": ""
             }
            },
            "type": "scattermapbox"
           }
          ],
          "scatterpolar": [
           {
            "marker": {
             "colorbar": {
              "outlinewidth": 0,
              "ticks": ""
             }
            },
            "type": "scatterpolar"
           }
          ],
          "scatterpolargl": [
           {
            "marker": {
             "colorbar": {
              "outlinewidth": 0,
              "ticks": ""
             }
            },
            "type": "scatterpolargl"
           }
          ],
          "scatterternary": [
           {
            "marker": {
             "colorbar": {
              "outlinewidth": 0,
              "ticks": ""
             }
            },
            "type": "scatterternary"
           }
          ],
          "surface": [
           {
            "colorbar": {
             "outlinewidth": 0,
             "ticks": ""
            },
            "colorscale": [
             [
              0,
              "#0d0887"
             ],
             [
              0.1111111111111111,
              "#46039f"
             ],
             [
              0.2222222222222222,
              "#7201a8"
             ],
             [
              0.3333333333333333,
              "#9c179e"
             ],
             [
              0.4444444444444444,
              "#bd3786"
             ],
             [
              0.5555555555555556,
              "#d8576b"
             ],
             [
              0.6666666666666666,
              "#ed7953"
             ],
             [
              0.7777777777777778,
              "#fb9f3a"
             ],
             [
              0.8888888888888888,
              "#fdca26"
             ],
             [
              1,
              "#f0f921"
             ]
            ],
            "type": "surface"
           }
          ],
          "table": [
           {
            "cells": {
             "fill": {
              "color": "#EBF0F8"
             },
             "line": {
              "color": "white"
             }
            },
            "header": {
             "fill": {
              "color": "#C8D4E3"
             },
             "line": {
              "color": "white"
             }
            },
            "type": "table"
           }
          ]
         },
         "layout": {
          "annotationdefaults": {
           "arrowcolor": "#2a3f5f",
           "arrowhead": 0,
           "arrowwidth": 1
          },
          "coloraxis": {
           "colorbar": {
            "outlinewidth": 0,
            "ticks": ""
           }
          },
          "colorscale": {
           "diverging": [
            [
             0,
             "#8e0152"
            ],
            [
             0.1,
             "#c51b7d"
            ],
            [
             0.2,
             "#de77ae"
            ],
            [
             0.3,
             "#f1b6da"
            ],
            [
             0.4,
             "#fde0ef"
            ],
            [
             0.5,
             "#f7f7f7"
            ],
            [
             0.6,
             "#e6f5d0"
            ],
            [
             0.7,
             "#b8e186"
            ],
            [
             0.8,
             "#7fbc41"
            ],
            [
             0.9,
             "#4d9221"
            ],
            [
             1,
             "#276419"
            ]
           ],
           "sequential": [
            [
             0,
             "#0d0887"
            ],
            [
             0.1111111111111111,
             "#46039f"
            ],
            [
             0.2222222222222222,
             "#7201a8"
            ],
            [
             0.3333333333333333,
             "#9c179e"
            ],
            [
             0.4444444444444444,
             "#bd3786"
            ],
            [
             0.5555555555555556,
             "#d8576b"
            ],
            [
             0.6666666666666666,
             "#ed7953"
            ],
            [
             0.7777777777777778,
             "#fb9f3a"
            ],
            [
             0.8888888888888888,
             "#fdca26"
            ],
            [
             1,
             "#f0f921"
            ]
           ],
           "sequentialminus": [
            [
             0,
             "#0d0887"
            ],
            [
             0.1111111111111111,
             "#46039f"
            ],
            [
             0.2222222222222222,
             "#7201a8"
            ],
            [
             0.3333333333333333,
             "#9c179e"
            ],
            [
             0.4444444444444444,
             "#bd3786"
            ],
            [
             0.5555555555555556,
             "#d8576b"
            ],
            [
             0.6666666666666666,
             "#ed7953"
            ],
            [
             0.7777777777777778,
             "#fb9f3a"
            ],
            [
             0.8888888888888888,
             "#fdca26"
            ],
            [
             1,
             "#f0f921"
            ]
           ]
          },
          "colorway": [
           "#636efa",
           "#EF553B",
           "#00cc96",
           "#ab63fa",
           "#FFA15A",
           "#19d3f3",
           "#FF6692",
           "#B6E880",
           "#FF97FF",
           "#FECB52"
          ],
          "font": {
           "color": "#2a3f5f"
          },
          "geo": {
           "bgcolor": "white",
           "lakecolor": "white",
           "landcolor": "#E5ECF6",
           "showlakes": true,
           "showland": true,
           "subunitcolor": "white"
          },
          "hoverlabel": {
           "align": "left"
          },
          "hovermode": "closest",
          "mapbox": {
           "style": "light"
          },
          "paper_bgcolor": "white",
          "plot_bgcolor": "#E5ECF6",
          "polar": {
           "angularaxis": {
            "gridcolor": "white",
            "linecolor": "white",
            "ticks": ""
           },
           "bgcolor": "#E5ECF6",
           "radialaxis": {
            "gridcolor": "white",
            "linecolor": "white",
            "ticks": ""
           }
          },
          "scene": {
           "xaxis": {
            "backgroundcolor": "#E5ECF6",
            "gridcolor": "white",
            "gridwidth": 2,
            "linecolor": "white",
            "showbackground": true,
            "ticks": "",
            "zerolinecolor": "white"
           },
           "yaxis": {
            "backgroundcolor": "#E5ECF6",
            "gridcolor": "white",
            "gridwidth": 2,
            "linecolor": "white",
            "showbackground": true,
            "ticks": "",
            "zerolinecolor": "white"
           },
           "zaxis": {
            "backgroundcolor": "#E5ECF6",
            "gridcolor": "white",
            "gridwidth": 2,
            "linecolor": "white",
            "showbackground": true,
            "ticks": "",
            "zerolinecolor": "white"
           }
          },
          "shapedefaults": {
           "line": {
            "color": "#2a3f5f"
           }
          },
          "ternary": {
           "aaxis": {
            "gridcolor": "white",
            "linecolor": "white",
            "ticks": ""
           },
           "baxis": {
            "gridcolor": "white",
            "linecolor": "white",
            "ticks": ""
           },
           "bgcolor": "#E5ECF6",
           "caxis": {
            "gridcolor": "white",
            "linecolor": "white",
            "ticks": ""
           }
          },
          "title": {
           "x": 0.05
          },
          "xaxis": {
           "automargin": true,
           "gridcolor": "white",
           "linecolor": "white",
           "ticks": "",
           "title": {
            "standoff": 15
           },
           "zerolinecolor": "white",
           "zerolinewidth": 2
          },
          "yaxis": {
           "automargin": true,
           "gridcolor": "white",
           "linecolor": "white",
           "ticks": "",
           "title": {
            "standoff": 15
           },
           "zerolinecolor": "white",
           "zerolinewidth": 2
          }
         }
        },
        "title": {
         "font": {
          "color": "#4D5663"
         },
         "text": " Sales before (negative) and after (positive) Chrismat week "
        },
        "xaxis": {
         "gridcolor": "#E1E5ED",
         "showgrid": true,
         "tickfont": {
          "color": "#4D5663"
         },
         "title": {
          "font": {
           "color": "#4D5663"
          },
          "text": ""
         },
         "zerolinecolor": "#E1E5ED"
        },
        "yaxis": {
         "gridcolor": "#E1E5ED",
         "showgrid": true,
         "tickfont": {
          "color": "#4D5663"
         },
         "title": {
          "font": {
           "color": "#4D5663"
          },
          "text": ""
         },
         "zerolinecolor": "#E1E5ED"
        }
       }
      },
      "text/html": [
       "<div>\n",
       "        \n",
       "        \n",
       "            <div id=\"798e9960-14b6-4102-8d65-db94333ca623\" class=\"plotly-graph-div\" style=\"height:525px; width:100%;\"></div>\n",
       "            <script type=\"text/javascript\">\n",
       "                require([\"plotly\"], function(Plotly) {\n",
       "                    window.PLOTLYENV=window.PLOTLYENV || {};\n",
       "                    window.PLOTLYENV.BASE_URL='https://plot.ly';\n",
       "                    \n",
       "                if (document.getElementById(\"798e9960-14b6-4102-8d65-db94333ca623\")) {\n",
       "                    Plotly.newPlot(\n",
       "                        '798e9960-14b6-4102-8d65-db94333ca623',\n",
       "                        [{\"line\": {\"color\": \"rgba(255, 153, 51, 1.0)\", \"dash\": \"solid\", \"shape\": \"linear\", \"width\": 1.3}, \"mode\": \"lines\", \"name\": \"Sales\", \"text\": \"\", \"type\": \"scatter\", \"x\": [-51, -50, -49, -48, -47, -46, -45, -44, -43, -42, -41, -40, -39, -38, -37, -36, -35, -34, -33, -32, -31, -30, -29, -28, -27, -26, -25, -24, -23, -22, -21, -20, -19, -18, -17, -16, -15, -14, -13, -12, -11, -10, -9, -8, -7, -6, -5, -4, -3, -2, -1, 0, 1], \"y\": [3363.0272108843537, 6162.291545189504, 4831.298347910592, 5309.630709426628, 5160.184645286686, 6239.118561710398, 4574.89407191448, 5999.296404275996, 4736.903790087464, 6327.045675413023, 4556.289601554908, 6048.687074829932, 5216.936831875608, 5763.771622934888, 4966.962099125364, 5659.5150631681245, 4684.43537414966, 6012.015549076774, 5845.10592808552, 5025.734693877551, 5334.443148688047, 5034.522837706511, 6310.895043731778, 4565.418853255588, 6077.451895043731, 4756.873663751215, 6725.493414387031, 4836.860204081632, 6361.7612244897955, 4576.9510204081635, 7112.230158730159, 5400.698587127158, 5502.339089481947, 5210.252747252747, 5593.634222919937, 5420.9010989010985, 5534.9937205651495, 5071.74568288854, 5161.1773940345365, 5141.841444270016, 6242.500784929356, 4484.056514913657, 5690.1852433281, 4504.555729984301, 6593.668759811617, 5291.984301412873, 5565.959183673469, 6361.76295133438, 7561.029827315541, 5589.25431711146, 9120.211930926216, 4420.952904238618, 6544.098214285715]}],\n",
       "                        {\"legend\": {\"bgcolor\": \"#F5F6F9\", \"font\": {\"color\": \"#4D5663\"}}, \"paper_bgcolor\": \"#F5F6F9\", \"plot_bgcolor\": \"#F5F6F9\", \"template\": {\"data\": {\"bar\": [{\"error_x\": {\"color\": \"#2a3f5f\"}, \"error_y\": {\"color\": \"#2a3f5f\"}, \"marker\": {\"line\": {\"color\": \"#E5ECF6\", \"width\": 0.5}}, \"type\": \"bar\"}], \"barpolar\": [{\"marker\": {\"line\": {\"color\": \"#E5ECF6\", \"width\": 0.5}}, \"type\": \"barpolar\"}], \"carpet\": [{\"aaxis\": {\"endlinecolor\": \"#2a3f5f\", \"gridcolor\": \"white\", \"linecolor\": \"white\", \"minorgridcolor\": \"white\", \"startlinecolor\": \"#2a3f5f\"}, \"baxis\": {\"endlinecolor\": \"#2a3f5f\", \"gridcolor\": \"white\", \"linecolor\": \"white\", \"minorgridcolor\": \"white\", \"startlinecolor\": \"#2a3f5f\"}, \"type\": \"carpet\"}], \"choropleth\": [{\"colorbar\": {\"outlinewidth\": 0, \"ticks\": \"\"}, \"type\": \"choropleth\"}], \"contour\": [{\"colorbar\": {\"outlinewidth\": 0, \"ticks\": \"\"}, \"colorscale\": [[0.0, \"#0d0887\"], [0.1111111111111111, \"#46039f\"], [0.2222222222222222, \"#7201a8\"], [0.3333333333333333, \"#9c179e\"], [0.4444444444444444, \"#bd3786\"], [0.5555555555555556, \"#d8576b\"], [0.6666666666666666, \"#ed7953\"], [0.7777777777777778, \"#fb9f3a\"], [0.8888888888888888, \"#fdca26\"], [1.0, \"#f0f921\"]], \"type\": \"contour\"}], \"contourcarpet\": [{\"colorbar\": {\"outlinewidth\": 0, \"ticks\": \"\"}, \"type\": \"contourcarpet\"}], \"heatmap\": [{\"colorbar\": {\"outlinewidth\": 0, \"ticks\": \"\"}, \"colorscale\": [[0.0, \"#0d0887\"], [0.1111111111111111, \"#46039f\"], [0.2222222222222222, \"#7201a8\"], [0.3333333333333333, \"#9c179e\"], [0.4444444444444444, \"#bd3786\"], [0.5555555555555556, \"#d8576b\"], [0.6666666666666666, \"#ed7953\"], [0.7777777777777778, \"#fb9f3a\"], [0.8888888888888888, \"#fdca26\"], [1.0, \"#f0f921\"]], \"type\": \"heatmap\"}], \"heatmapgl\": [{\"colorbar\": {\"outlinewidth\": 0, \"ticks\": \"\"}, \"colorscale\": [[0.0, \"#0d0887\"], [0.1111111111111111, \"#46039f\"], [0.2222222222222222, \"#7201a8\"], [0.3333333333333333, \"#9c179e\"], [0.4444444444444444, \"#bd3786\"], [0.5555555555555556, \"#d8576b\"], [0.6666666666666666, \"#ed7953\"], [0.7777777777777778, \"#fb9f3a\"], [0.8888888888888888, \"#fdca26\"], [1.0, \"#f0f921\"]], \"type\": \"heatmapgl\"}], \"histogram\": [{\"marker\": {\"colorbar\": {\"outlinewidth\": 0, \"ticks\": \"\"}}, \"type\": \"histogram\"}], \"histogram2d\": [{\"colorbar\": {\"outlinewidth\": 0, \"ticks\": \"\"}, \"colorscale\": [[0.0, \"#0d0887\"], [0.1111111111111111, \"#46039f\"], [0.2222222222222222, \"#7201a8\"], [0.3333333333333333, \"#9c179e\"], [0.4444444444444444, \"#bd3786\"], [0.5555555555555556, \"#d8576b\"], [0.6666666666666666, \"#ed7953\"], [0.7777777777777778, \"#fb9f3a\"], [0.8888888888888888, \"#fdca26\"], [1.0, \"#f0f921\"]], \"type\": \"histogram2d\"}], \"histogram2dcontour\": [{\"colorbar\": {\"outlinewidth\": 0, \"ticks\": \"\"}, \"colorscale\": [[0.0, \"#0d0887\"], [0.1111111111111111, \"#46039f\"], [0.2222222222222222, \"#7201a8\"], [0.3333333333333333, \"#9c179e\"], [0.4444444444444444, \"#bd3786\"], [0.5555555555555556, \"#d8576b\"], [0.6666666666666666, \"#ed7953\"], [0.7777777777777778, \"#fb9f3a\"], [0.8888888888888888, \"#fdca26\"], [1.0, \"#f0f921\"]], \"type\": \"histogram2dcontour\"}], \"mesh3d\": [{\"colorbar\": {\"outlinewidth\": 0, \"ticks\": \"\"}, \"type\": \"mesh3d\"}], \"parcoords\": [{\"line\": {\"colorbar\": {\"outlinewidth\": 0, \"ticks\": \"\"}}, \"type\": \"parcoords\"}], \"pie\": [{\"automargin\": true, \"type\": \"pie\"}], \"scatter\": [{\"marker\": {\"colorbar\": {\"outlinewidth\": 0, \"ticks\": \"\"}}, \"type\": \"scatter\"}], \"scatter3d\": [{\"line\": {\"colorbar\": {\"outlinewidth\": 0, \"ticks\": \"\"}}, \"marker\": {\"colorbar\": {\"outlinewidth\": 0, \"ticks\": \"\"}}, \"type\": \"scatter3d\"}], \"scattercarpet\": [{\"marker\": {\"colorbar\": {\"outlinewidth\": 0, \"ticks\": \"\"}}, \"type\": \"scattercarpet\"}], \"scattergeo\": [{\"marker\": {\"colorbar\": {\"outlinewidth\": 0, \"ticks\": \"\"}}, \"type\": \"scattergeo\"}], \"scattergl\": [{\"marker\": {\"colorbar\": {\"outlinewidth\": 0, \"ticks\": \"\"}}, \"type\": \"scattergl\"}], \"scattermapbox\": [{\"marker\": {\"colorbar\": {\"outlinewidth\": 0, \"ticks\": \"\"}}, \"type\": \"scattermapbox\"}], \"scatterpolar\": [{\"marker\": {\"colorbar\": {\"outlinewidth\": 0, \"ticks\": \"\"}}, \"type\": \"scatterpolar\"}], \"scatterpolargl\": [{\"marker\": {\"colorbar\": {\"outlinewidth\": 0, \"ticks\": \"\"}}, \"type\": \"scatterpolargl\"}], \"scatterternary\": [{\"marker\": {\"colorbar\": {\"outlinewidth\": 0, \"ticks\": \"\"}}, \"type\": \"scatterternary\"}], \"surface\": [{\"colorbar\": {\"outlinewidth\": 0, \"ticks\": \"\"}, \"colorscale\": [[0.0, \"#0d0887\"], [0.1111111111111111, \"#46039f\"], [0.2222222222222222, \"#7201a8\"], [0.3333333333333333, \"#9c179e\"], [0.4444444444444444, \"#bd3786\"], [0.5555555555555556, \"#d8576b\"], [0.6666666666666666, \"#ed7953\"], [0.7777777777777778, \"#fb9f3a\"], [0.8888888888888888, \"#fdca26\"], [1.0, \"#f0f921\"]], \"type\": \"surface\"}], \"table\": [{\"cells\": {\"fill\": {\"color\": \"#EBF0F8\"}, \"line\": {\"color\": \"white\"}}, \"header\": {\"fill\": {\"color\": \"#C8D4E3\"}, \"line\": {\"color\": \"white\"}}, \"type\": \"table\"}]}, \"layout\": {\"annotationdefaults\": {\"arrowcolor\": \"#2a3f5f\", \"arrowhead\": 0, \"arrowwidth\": 1}, \"coloraxis\": {\"colorbar\": {\"outlinewidth\": 0, \"ticks\": \"\"}}, \"colorscale\": {\"diverging\": [[0, \"#8e0152\"], [0.1, \"#c51b7d\"], [0.2, \"#de77ae\"], [0.3, \"#f1b6da\"], [0.4, \"#fde0ef\"], [0.5, \"#f7f7f7\"], [0.6, \"#e6f5d0\"], [0.7, \"#b8e186\"], [0.8, \"#7fbc41\"], [0.9, \"#4d9221\"], [1, \"#276419\"]], \"sequential\": [[0.0, \"#0d0887\"], [0.1111111111111111, \"#46039f\"], [0.2222222222222222, \"#7201a8\"], [0.3333333333333333, \"#9c179e\"], [0.4444444444444444, \"#bd3786\"], [0.5555555555555556, \"#d8576b\"], [0.6666666666666666, \"#ed7953\"], [0.7777777777777778, \"#fb9f3a\"], [0.8888888888888888, \"#fdca26\"], [1.0, \"#f0f921\"]], \"sequentialminus\": [[0.0, \"#0d0887\"], [0.1111111111111111, \"#46039f\"], [0.2222222222222222, \"#7201a8\"], [0.3333333333333333, \"#9c179e\"], [0.4444444444444444, \"#bd3786\"], [0.5555555555555556, \"#d8576b\"], [0.6666666666666666, \"#ed7953\"], [0.7777777777777778, \"#fb9f3a\"], [0.8888888888888888, \"#fdca26\"], [1.0, \"#f0f921\"]]}, \"colorway\": [\"#636efa\", \"#EF553B\", \"#00cc96\", \"#ab63fa\", \"#FFA15A\", \"#19d3f3\", \"#FF6692\", \"#B6E880\", \"#FF97FF\", \"#FECB52\"], \"font\": {\"color\": \"#2a3f5f\"}, \"geo\": {\"bgcolor\": \"white\", \"lakecolor\": \"white\", \"landcolor\": \"#E5ECF6\", \"showlakes\": true, \"showland\": true, \"subunitcolor\": \"white\"}, \"hoverlabel\": {\"align\": \"left\"}, \"hovermode\": \"closest\", \"mapbox\": {\"style\": \"light\"}, \"paper_bgcolor\": \"white\", \"plot_bgcolor\": \"#E5ECF6\", \"polar\": {\"angularaxis\": {\"gridcolor\": \"white\", \"linecolor\": \"white\", \"ticks\": \"\"}, \"bgcolor\": \"#E5ECF6\", \"radialaxis\": {\"gridcolor\": \"white\", \"linecolor\": \"white\", \"ticks\": \"\"}}, \"scene\": {\"xaxis\": {\"backgroundcolor\": \"#E5ECF6\", \"gridcolor\": \"white\", \"gridwidth\": 2, \"linecolor\": \"white\", \"showbackground\": true, \"ticks\": \"\", \"zerolinecolor\": \"white\"}, \"yaxis\": {\"backgroundcolor\": \"#E5ECF6\", \"gridcolor\": \"white\", \"gridwidth\": 2, \"linecolor\": \"white\", \"showbackground\": true, \"ticks\": \"\", \"zerolinecolor\": \"white\"}, \"zaxis\": {\"backgroundcolor\": \"#E5ECF6\", \"gridcolor\": \"white\", \"gridwidth\": 2, \"linecolor\": \"white\", \"showbackground\": true, \"ticks\": \"\", \"zerolinecolor\": \"white\"}}, \"shapedefaults\": {\"line\": {\"color\": \"#2a3f5f\"}}, \"ternary\": {\"aaxis\": {\"gridcolor\": \"white\", \"linecolor\": \"white\", \"ticks\": \"\"}, \"baxis\": {\"gridcolor\": \"white\", \"linecolor\": \"white\", \"ticks\": \"\"}, \"bgcolor\": \"#E5ECF6\", \"caxis\": {\"gridcolor\": \"white\", \"linecolor\": \"white\", \"ticks\": \"\"}}, \"title\": {\"x\": 0.05}, \"xaxis\": {\"automargin\": true, \"gridcolor\": \"white\", \"linecolor\": \"white\", \"ticks\": \"\", \"title\": {\"standoff\": 15}, \"zerolinecolor\": \"white\", \"zerolinewidth\": 2}, \"yaxis\": {\"automargin\": true, \"gridcolor\": \"white\", \"linecolor\": \"white\", \"ticks\": \"\", \"title\": {\"standoff\": 15}, \"zerolinecolor\": \"white\", \"zerolinewidth\": 2}}}, \"title\": {\"font\": {\"color\": \"#4D5663\"}, \"text\": \" Sales before (negative) and after (positive) Chrismat week \"}, \"xaxis\": {\"gridcolor\": \"#E1E5ED\", \"showgrid\": true, \"tickfont\": {\"color\": \"#4D5663\"}, \"title\": {\"font\": {\"color\": \"#4D5663\"}, \"text\": \"\"}, \"zerolinecolor\": \"#E1E5ED\"}, \"yaxis\": {\"gridcolor\": \"#E1E5ED\", \"showgrid\": true, \"tickfont\": {\"color\": \"#4D5663\"}, \"title\": {\"font\": {\"color\": \"#4D5663\"}, \"text\": \"\"}, \"zerolinecolor\": \"#E1E5ED\"}},\n",
       "                        {\"showLink\": true, \"linkText\": \"Export to plot.ly\", \"plotlyServerURL\": \"https://plot.ly\", \"responsive\": true}\n",
       "                    ).then(function(){\n",
       "                            \n",
       "var gd = document.getElementById('798e9960-14b6-4102-8d65-db94333ca623');\n",
       "var x = new MutationObserver(function (mutations, observer) {{\n",
       "        var display = window.getComputedStyle(gd).display;\n",
       "        if (!display || display === 'none') {{\n",
       "            console.log([gd, 'removed!']);\n",
       "            Plotly.purge(gd);\n",
       "            observer.disconnect();\n",
       "        }}\n",
       "}});\n",
       "\n",
       "// Listen for the removal of the full notebook cells\n",
       "var notebookContainer = gd.closest('#notebook-container');\n",
       "if (notebookContainer) {{\n",
       "    x.observe(notebookContainer, {childList: true});\n",
       "}}\n",
       "\n",
       "// Listen for the clearing of the current output cell\n",
       "var outputEl = gd.closest('.output');\n",
       "if (outputEl) {{\n",
       "    x.observe(outputEl, {childList: true});\n",
       "}}\n",
       "\n",
       "                        })\n",
       "                };\n",
       "                });\n",
       "            </script>\n",
       "        </div>"
      ]
     },
     "metadata": {},
     "output_type": "display_data"
    }
   ],
   "source": [
    "master_sales['weeks_b_christ'] = master_sales['date'].dt.strftime('%W')\n",
    "#lets say number of christmas week is 51, then we susbtract that number form number of week so we get weeks before and week after\n",
    "master_sales['weeks_b_christ']=pd.to_numeric(master_sales['weeks_b_christ'])\n",
    "master_sales.head()\n",
    "\n",
    "master_sales['weeks_b_christ'] = master_sales['weeks_b_christ'] - 51\n",
    "\n",
    "weeksbeforcrhist=master_sales.groupby('weeks_b_christ')['Sales'].mean().iplot(title=' Sales before (negative) and after (positive) Chrismat week ')\n"
   ]
  },
  {
   "cell_type": "markdown",
   "metadata": {
    "id": "5ce88bcf-a60e-4d80-b5a5-dade3a5e0df0"
   },
   "source": [
    "We can the global maxima one week before Christmas"
   ]
  },
  {
   "cell_type": "code",
   "execution_count": 115,
   "metadata": {
    "id": "75e66863-1696-48dc-8f9c-a294f1f35370",
    "tags": []
   },
   "outputs": [
    {
     "name": "stdout",
     "output_type": "stream",
     "text": [
      "10568\n",
      "44870\n"
     ]
    }
   ],
   "source": [
    "#get info from competition_open_since_month_year column, month and year \n",
    "import datetime as datetime\n",
    "\n",
    "master_sales['competition_month'] = pd.to_datetime(master_sales['competition_open_since_month_year']).apply(lambda x: x.month)\n",
    "master_sales['competition_year'] = pd.to_datetime(master_sales['competition_open_since_month_year']).apply(lambda x: x.year)\n",
    "\n",
    "master_sales.drop('competition_open_since_month_year',axis=1,inplace=True)\n",
    "print(master_sales.competition_month.isna().sum())\n",
    "print(len(master_sales.competition_month))\n"
   ]
  },
  {
   "cell_type": "code",
   "execution_count": 116,
   "metadata": {
    "id": "4d6c23dd-c5f4-4d73-8ca2-9aeee5daa638",
    "tags": []
   },
   "outputs": [],
   "source": [
    "#remove date since it has no vlaue for modelling\n",
    "master_sales.drop('date',axis=1, inplace= True)"
   ]
  },
  {
   "cell_type": "code",
   "execution_count": 117,
   "metadata": {
    "id": "f717d3e6-0eb3-48fc-b9bb-9dc74133ec3a",
    "tags": []
   },
   "outputs": [
    {
     "data": {
      "text/html": [
       "<div>\n",
       "<style scoped>\n",
       "    .dataframe tbody tr th:only-of-type {\n",
       "        vertical-align: middle;\n",
       "    }\n",
       "\n",
       "    .dataframe tbody tr th {\n",
       "        vertical-align: top;\n",
       "    }\n",
       "\n",
       "    .dataframe thead th {\n",
       "        text-align: right;\n",
       "    }\n",
       "</style>\n",
       "<table border=\"1\" class=\"dataframe\">\n",
       "  <thead>\n",
       "    <tr style=\"text-align: right;\">\n",
       "      <th></th>\n",
       "      <th>day_of_week</th>\n",
       "      <th>Sales</th>\n",
       "      <th>customers_count</th>\n",
       "      <th>store_open</th>\n",
       "      <th>promo</th>\n",
       "      <th>school_holiday</th>\n",
       "      <th>month</th>\n",
       "      <th>year</th>\n",
       "      <th>day</th>\n",
       "      <th>No Holiday</th>\n",
       "      <th>...</th>\n",
       "      <th>promo2</th>\n",
       "      <th>promo2_since_week</th>\n",
       "      <th>Promo2_since_year</th>\n",
       "      <th>extended_assortment</th>\n",
       "      <th>store_a</th>\n",
       "      <th>store_c</th>\n",
       "      <th>store_d</th>\n",
       "      <th>weeks_b_christ</th>\n",
       "      <th>competition_month</th>\n",
       "      <th>competition_year</th>\n",
       "    </tr>\n",
       "    <tr>\n",
       "      <th>store</th>\n",
       "      <th></th>\n",
       "      <th></th>\n",
       "      <th></th>\n",
       "      <th></th>\n",
       "      <th></th>\n",
       "      <th></th>\n",
       "      <th></th>\n",
       "      <th></th>\n",
       "      <th></th>\n",
       "      <th></th>\n",
       "      <th></th>\n",
       "      <th></th>\n",
       "      <th></th>\n",
       "      <th></th>\n",
       "      <th></th>\n",
       "      <th></th>\n",
       "      <th></th>\n",
       "      <th></th>\n",
       "      <th></th>\n",
       "      <th></th>\n",
       "      <th></th>\n",
       "    </tr>\n",
       "  </thead>\n",
       "  <tbody>\n",
       "    <tr>\n",
       "      <th>1</th>\n",
       "      <td>5</td>\n",
       "      <td>5263</td>\n",
       "      <td>555</td>\n",
       "      <td>1</td>\n",
       "      <td>1</td>\n",
       "      <td>1</td>\n",
       "      <td>7</td>\n",
       "      <td>2015</td>\n",
       "      <td>31</td>\n",
       "      <td>1</td>\n",
       "      <td>...</td>\n",
       "      <td>0</td>\n",
       "      <td>NaN</td>\n",
       "      <td>NaN</td>\n",
       "      <td>0</td>\n",
       "      <td>0</td>\n",
       "      <td>1</td>\n",
       "      <td>0</td>\n",
       "      <td>-21</td>\n",
       "      <td>9.0</td>\n",
       "      <td>2008.0</td>\n",
       "    </tr>\n",
       "    <tr>\n",
       "      <th>1</th>\n",
       "      <td>4</td>\n",
       "      <td>5020</td>\n",
       "      <td>546</td>\n",
       "      <td>1</td>\n",
       "      <td>1</td>\n",
       "      <td>1</td>\n",
       "      <td>7</td>\n",
       "      <td>2015</td>\n",
       "      <td>30</td>\n",
       "      <td>1</td>\n",
       "      <td>...</td>\n",
       "      <td>0</td>\n",
       "      <td>NaN</td>\n",
       "      <td>NaN</td>\n",
       "      <td>0</td>\n",
       "      <td>0</td>\n",
       "      <td>1</td>\n",
       "      <td>0</td>\n",
       "      <td>-21</td>\n",
       "      <td>9.0</td>\n",
       "      <td>2008.0</td>\n",
       "    </tr>\n",
       "    <tr>\n",
       "      <th>1</th>\n",
       "      <td>3</td>\n",
       "      <td>4782</td>\n",
       "      <td>523</td>\n",
       "      <td>1</td>\n",
       "      <td>1</td>\n",
       "      <td>1</td>\n",
       "      <td>7</td>\n",
       "      <td>2015</td>\n",
       "      <td>29</td>\n",
       "      <td>1</td>\n",
       "      <td>...</td>\n",
       "      <td>0</td>\n",
       "      <td>NaN</td>\n",
       "      <td>NaN</td>\n",
       "      <td>0</td>\n",
       "      <td>0</td>\n",
       "      <td>1</td>\n",
       "      <td>0</td>\n",
       "      <td>-21</td>\n",
       "      <td>9.0</td>\n",
       "      <td>2008.0</td>\n",
       "    </tr>\n",
       "    <tr>\n",
       "      <th>1</th>\n",
       "      <td>2</td>\n",
       "      <td>5011</td>\n",
       "      <td>560</td>\n",
       "      <td>1</td>\n",
       "      <td>1</td>\n",
       "      <td>1</td>\n",
       "      <td>7</td>\n",
       "      <td>2015</td>\n",
       "      <td>28</td>\n",
       "      <td>1</td>\n",
       "      <td>...</td>\n",
       "      <td>0</td>\n",
       "      <td>NaN</td>\n",
       "      <td>NaN</td>\n",
       "      <td>0</td>\n",
       "      <td>0</td>\n",
       "      <td>1</td>\n",
       "      <td>0</td>\n",
       "      <td>-21</td>\n",
       "      <td>9.0</td>\n",
       "      <td>2008.0</td>\n",
       "    </tr>\n",
       "    <tr>\n",
       "      <th>1</th>\n",
       "      <td>1</td>\n",
       "      <td>6102</td>\n",
       "      <td>612</td>\n",
       "      <td>1</td>\n",
       "      <td>1</td>\n",
       "      <td>1</td>\n",
       "      <td>7</td>\n",
       "      <td>2015</td>\n",
       "      <td>27</td>\n",
       "      <td>1</td>\n",
       "      <td>...</td>\n",
       "      <td>0</td>\n",
       "      <td>NaN</td>\n",
       "      <td>NaN</td>\n",
       "      <td>0</td>\n",
       "      <td>0</td>\n",
       "      <td>1</td>\n",
       "      <td>0</td>\n",
       "      <td>-21</td>\n",
       "      <td>9.0</td>\n",
       "      <td>2008.0</td>\n",
       "    </tr>\n",
       "  </tbody>\n",
       "</table>\n",
       "<p>5 rows × 24 columns</p>\n",
       "</div>"
      ],
      "text/plain": [
       "       day_of_week  Sales  customers_count  store_open  promo  school_holiday  \\\n",
       "store                                                                           \n",
       "1                5   5263              555           1      1               1   \n",
       "1                4   5020              546           1      1               1   \n",
       "1                3   4782              523           1      1               1   \n",
       "1                2   5011              560           1      1               1   \n",
       "1                1   6102              612           1      1               1   \n",
       "\n",
       "       month  year  day  No Holiday  ...  promo2  promo2_since_week  \\\n",
       "store                                ...                              \n",
       "1          7  2015   31           1  ...       0                NaN   \n",
       "1          7  2015   30           1  ...       0                NaN   \n",
       "1          7  2015   29           1  ...       0                NaN   \n",
       "1          7  2015   28           1  ...       0                NaN   \n",
       "1          7  2015   27           1  ...       0                NaN   \n",
       "\n",
       "       Promo2_since_year  extended_assortment  store_a  store_c  store_d  \\\n",
       "store                                                                      \n",
       "1                    NaN                    0        0        1        0   \n",
       "1                    NaN                    0        0        1        0   \n",
       "1                    NaN                    0        0        1        0   \n",
       "1                    NaN                    0        0        1        0   \n",
       "1                    NaN                    0        0        1        0   \n",
       "\n",
       "       weeks_b_christ  competition_month  competition_year  \n",
       "store                                                       \n",
       "1                 -21                9.0            2008.0  \n",
       "1                 -21                9.0            2008.0  \n",
       "1                 -21                9.0            2008.0  \n",
       "1                 -21                9.0            2008.0  \n",
       "1                 -21                9.0            2008.0  \n",
       "\n",
       "[5 rows x 24 columns]"
      ]
     },
     "execution_count": 117,
     "metadata": {},
     "output_type": "execute_result"
    }
   ],
   "source": [
    "#checkign datatypes,in64 is okay, float64 indicates NULL values in columns, need to fix it\n",
    "master_sales.head()"
   ]
  },
  {
   "cell_type": "markdown",
   "metadata": {
    "id": "e5e4d410-9451-46a3-80fb-b9d3f3839c15"
   },
   "source": [
    "# TRAIN TEST SPLIT "
   ]
  },
  {
   "cell_type": "code",
   "execution_count": 118,
   "metadata": {
    "id": "7eee5860-72cc-4d18-9bbb-2caa5223620f",
    "tags": []
   },
   "outputs": [],
   "source": [
    "#set target varialble \"Sales\" and predictors\n",
    "y = master_sales['Sales'] #target variable\n",
    "X = master_sales.drop(['Sales'],axis=1)"
   ]
  },
  {
   "cell_type": "code",
   "execution_count": 119,
   "metadata": {
    "id": "05976134-d39c-42c7-bf30-4601018fdf19",
    "tags": []
   },
   "outputs": [],
   "source": [
    "#split data to train and test\n",
    "from sklearn.model_selection import train_test_split\n",
    "\n",
    "X_train, X_test, y_train, y_test = train_test_split(X,y,test_size=0.2, random_state=101)\n"
   ]
  },
  {
   "cell_type": "markdown",
   "metadata": {
    "id": "0ce9e9d0-56e9-4a97-8366-e26229a432e6"
   },
   "source": [
    "# NA HANDLING"
   ]
  },
  {
   "cell_type": "code",
   "execution_count": 120,
   "metadata": {
    "id": "e2e1629c-1f42-4b17-9fcd-426b725fbb4a",
    "tags": []
   },
   "outputs": [
    {
     "data": {
      "text/plain": [
       "<matplotlib.axes._subplots.AxesSubplot at 0x7f995fc98890>"
      ]
     },
     "execution_count": 120,
     "metadata": {},
     "output_type": "execute_result"
    },
    {
     "data": {
      "image/png": "[encoded data removed]",
      "text/plain": [
       "<Figure size 640x480 with 1 Axes>"
      ]
     },
     "metadata": {},
     "output_type": "display_data"
    }
   ],
   "source": [
    "#see the number of null values\n",
    "sns.heatmap(X_train.isnull(),yticklabels=False,cbar=False,cmap='viridis')"
   ]
  },
  {
   "cell_type": "code",
   "execution_count": 121,
   "metadata": {
    "id": "dc3aef56-9da6-4250-9c5f-98db0892a635",
    "tags": []
   },
   "outputs": [],
   "source": [
    "from sklearn.base import BaseEstimator, TransformerMixin\n",
    "#definition of columns with NA values\n",
    "NA_columns=['competition_distance','promo2_since_week','Promo2_since_year','competition_month','competition_year']\n",
    "\n",
    "class Null_Transform(BaseEstimator, TransformerMixin):\n",
    "    def __init__(self, df,list_of_columns): # no *args or *kargs\n",
    "        self.df = df\n",
    "    def NA_to_MEAN(df,list_of_columns):\n",
    "        # fill null values with mean of the values in column\n",
    "        for col in list_of_columns:\n",
    "            df[col] = df[col].fillna((int(df[col].mean())))\n",
    "        \n",
    "\n",
    "nls = Null_Transform\n",
    "nls.NA_to_MEAN(X_train,NA_columns)"
   ]
  },
  {
   "cell_type": "markdown",
   "metadata": {
    "id": "ad854add-ca13-42b2-8257-103fe895af40"
   },
   "source": [
    "# SCALER"
   ]
  },
  {
   "cell_type": "code",
   "execution_count": 122,
   "metadata": {
    "id": "3086bac0-011a-4481-a615-923916111636",
    "tags": []
   },
   "outputs": [],
   "source": [
    "#import of scaler which scale features using statistics that are robust to outliers\n",
    "from sklearn.preprocessing import RobustScaler\n",
    "scaler = RobustScaler()\n",
    "\n",
    "\n",
    "#classical process\n",
    "#scaler = RobustScaler()\n",
    "#X_train = scaler.fit_transform(X_train)\n",
    "#X_test = scaler.transform(X_test)\n",
    "#scaled_features=scaler.transform(X_train)\n",
    "#features=pd.DataFrame(scaled_features,columns=X_train.columns)"
   ]
  },
  {
   "cell_type": "markdown",
   "metadata": {
    "id": "cbcdcbf6-aa62-434c-ba06-9a97e87bbd7f"
   },
   "source": [
    "#  MODEL TRAINING"
   ]
  },
  {
   "cell_type": "markdown",
   "metadata": {
    "id": "fcabb0a6-97f4-41c1-90cc-0552fbbe7423"
   },
   "source": [
    "A random forest is a meta estimator that fits a number of classifying decision trees on various sub-samples of the dataset and uses averaging to improve the predictive accuracy and control over-fitting. "
   ]
  },
  {
   "cell_type": "code",
   "execution_count": 123,
   "metadata": {
    "id": "2910202b-f707-48ed-9c86-7ffad4602836",
    "tags": []
   },
   "outputs": [
    {
     "data": {
      "text/plain": [
       "('criterion',\n",
       " 'max_depth',\n",
       " 'min_samples_split',\n",
       " 'min_samples_leaf',\n",
       " 'min_weight_fraction_leaf',\n",
       " 'max_features',\n",
       " 'max_leaf_nodes',\n",
       " 'min_impurity_decrease',\n",
       " 'min_impurity_split',\n",
       " 'random_state',\n",
       " 'ccp_alpha')"
      ]
     },
     "execution_count": 123,
     "metadata": {},
     "output_type": "execute_result"
    }
   ],
   "source": [
    "from sklearn.ensemble import RandomForestRegressor\n",
    "from sklearn.pipeline import Pipeline\n",
    "\n",
    "rf = RandomForestRegressor()\n",
    "\n",
    "rf.estimator_params"
   ]
  },
  {
   "cell_type": "markdown",
   "metadata": {
    "id": "c7b4a48c-9464-48f8-9c21-72085555e103"
   },
   "source": [
    "### Pipeline of scaler and ML model "
   ]
  },
  {
   "cell_type": "code",
   "execution_count": 124,
   "metadata": {
    "id": "6cf44858-83fc-4035-b50d-38e7710507be",
    "tags": []
   },
   "outputs": [
    {
     "data": {
      "text/plain": [
       "Pipeline(steps=[('scaler', RobustScaler()), ('rf', RandomForestRegressor())])"
      ]
     },
     "execution_count": 124,
     "metadata": {},
     "output_type": "execute_result"
    }
   ],
   "source": [
    "pipeline = Pipeline(steps = [('scaler', scaler),\n",
    "                             ('rf', rf)])\n",
    "pipeline.fit(X_train, y_train)"
   ]
  },
  {
   "cell_type": "markdown",
   "metadata": {
    "id": "b7ab3dd9-858c-44fe-8ed0-7db910722094"
   },
   "source": [
    "from pprint import pprint\n",
    "import numpy as np\n",
    "from sklearn.model_selection import RandomizedSearchCV# Random Search with Cross Validation"
   ]
  },
  {
   "cell_type": "code",
   "execution_count": 125,
   "metadata": {
    "id": "6a7d137b-421c-40d1-acc0-d9a656cda3e6",
    "tags": []
   },
   "outputs": [],
   "source": [
    "from pprint import pprint\n",
    "import numpy as np\n",
    "from sklearn.model_selection import RandomizedSearchCV"
   ]
  },
  {
   "cell_type": "markdown",
   "metadata": {
    "id": "f71a2b23-4174-4eff-baa9-263cfb83f7b4"
   },
   "source": [
    "### Paramter tuning "
   ]
  },
  {
   "cell_type": "code",
   "execution_count": 35,
   "metadata": {
    "id": "9c3091f1-b18e-43a6-ad97-d5e381c4c868",
    "tags": []
   },
   "outputs": [
    {
     "name": "stdout",
     "output_type": "stream",
     "text": [
      "{'rf__max_depth': [60, 65, 70, 75, 80, 85, 90, 95, 100, 105, 110, None],\n",
      " 'rf__max_features': ['auto', 'sqrt'],\n",
      " 'rf__min_samples_leaf': [1, 2],\n",
      " 'rf__min_samples_split': [2, 5]}\n",
      "Fitting 3 folds for each of 96 candidates, totalling 288 fits\n",
      "[CV] rf__min_samples_split=2, rf__min_samples_leaf=1, rf__max_features=auto, rf__max_depth=60 \n"
     ]
    },
    {
     "name": "stderr",
     "output_type": "stream",
     "text": [
      "/opt/conda/envs/Python-3.7-OpenCE/lib/python3.7/site-packages/sklearn/model_selection/_search.py:282: UserWarning:\n",
      "\n",
      "The total space of parameters 96 is smaller than n_iter=100. Running 96 iterations. For exhaustive searches, use GridSearchCV.\n",
      "\n",
      "[Parallel(n_jobs=-1)]: Using backend SequentialBackend with 1 concurrent workers.\n"
     ]
    },
    {
     "name": "stdout",
     "output_type": "stream",
     "text": [
      "[CV]  rf__min_samples_split=2, rf__min_samples_leaf=1, rf__max_features=auto, rf__max_depth=60, total=  10.1s\n",
      "[CV] rf__min_samples_split=2, rf__min_samples_leaf=1, rf__max_features=auto, rf__max_depth=60 \n"
     ]
    },
    {
     "name": "stderr",
     "output_type": "stream",
     "text": [
      "[Parallel(n_jobs=-1)]: Done   1 out of   1 | elapsed:   10.1s remaining:    0.0s\n"
     ]
    },
    {
     "name": "stdout",
     "output_type": "stream",
     "text": [
      "[CV]  rf__min_samples_split=2, rf__min_samples_leaf=1, rf__max_features=auto, rf__max_depth=60, total=   9.8s\n",
      "[CV] rf__min_samples_split=2, rf__min_samples_leaf=1, rf__max_features=auto, rf__max_depth=60 \n",
      "[CV]  rf__min_samples_split=2, rf__min_samples_leaf=1, rf__max_features=auto, rf__max_depth=60, total=   9.9s\n",
      "[CV] rf__min_samples_split=5, rf__min_samples_leaf=1, rf__max_features=auto, rf__max_depth=60 \n",
      "[CV]  rf__min_samples_split=5, rf__min_samples_leaf=1, rf__max_features=auto, rf__max_depth=60, total=   8.4s\n",
      "[CV] rf__min_samples_split=5, rf__min_samples_leaf=1, rf__max_features=auto, rf__max_depth=60 \n",
      "[CV]  rf__min_samples_split=5, rf__min_samples_leaf=1, rf__max_features=auto, rf__max_depth=60, total=   8.5s\n",
      "[CV] rf__min_samples_split=5, rf__min_samples_leaf=1, rf__max_features=auto, rf__max_depth=60 \n",
      "[CV]  rf__min_samples_split=5, rf__min_samples_leaf=1, rf__max_features=auto, rf__max_depth=60, total=   8.4s\n",
      "[CV] rf__min_samples_split=2, rf__min_samples_leaf=2, rf__max_features=auto, rf__max_depth=60 \n",
      "[CV]  rf__min_samples_split=2, rf__min_samples_leaf=2, rf__max_features=auto, rf__max_depth=60, total=   8.9s\n",
      "[CV] rf__min_samples_split=2, rf__min_samples_leaf=2, rf__max_features=auto, rf__max_depth=60 \n",
      "[CV]  rf__min_samples_split=2, rf__min_samples_leaf=2, rf__max_features=auto, rf__max_depth=60, total=   8.3s\n",
      "[CV] rf__min_samples_split=2, rf__min_samples_leaf=2, rf__max_features=auto, rf__max_depth=60 \n",
      "[CV]  rf__min_samples_split=2, rf__min_samples_leaf=2, rf__max_features=auto, rf__max_depth=60, total=   8.1s\n",
      "[CV] rf__min_samples_split=5, rf__min_samples_leaf=2, rf__max_features=auto, rf__max_depth=60 \n",
      "[CV]  rf__min_samples_split=5, rf__min_samples_leaf=2, rf__max_features=auto, rf__max_depth=60, total=   8.1s\n",
      "[CV] rf__min_samples_split=5, rf__min_samples_leaf=2, rf__max_features=auto, rf__max_depth=60 \n",
      "[CV]  rf__min_samples_split=5, rf__min_samples_leaf=2, rf__max_features=auto, rf__max_depth=60, total=   7.9s\n",
      "[CV] rf__min_samples_split=5, rf__min_samples_leaf=2, rf__max_features=auto, rf__max_depth=60 \n",
      "[CV]  rf__min_samples_split=5, rf__min_samples_leaf=2, rf__max_features=auto, rf__max_depth=60, total=   7.9s\n",
      "[CV] rf__min_samples_split=2, rf__min_samples_leaf=1, rf__max_features=sqrt, rf__max_depth=60 \n",
      "[CV]  rf__min_samples_split=2, rf__min_samples_leaf=1, rf__max_features=sqrt, rf__max_depth=60, total=   2.8s\n",
      "[CV] rf__min_samples_split=2, rf__min_samples_leaf=1, rf__max_features=sqrt, rf__max_depth=60 \n",
      "[CV]  rf__min_samples_split=2, rf__min_samples_leaf=1, rf__max_features=sqrt, rf__max_depth=60, total=   2.9s\n",
      "[CV] rf__min_samples_split=2, rf__min_samples_leaf=1, rf__max_features=sqrt, rf__max_depth=60 \n",
      "[CV]  rf__min_samples_split=2, rf__min_samples_leaf=1, rf__max_features=sqrt, rf__max_depth=60, total=   2.8s\n",
      "[CV] rf__min_samples_split=5, rf__min_samples_leaf=1, rf__max_features=sqrt, rf__max_depth=60 \n",
      "[CV]  rf__min_samples_split=5, rf__min_samples_leaf=1, rf__max_features=sqrt, rf__max_depth=60, total=   2.3s\n",
      "[CV] rf__min_samples_split=5, rf__min_samples_leaf=1, rf__max_features=sqrt, rf__max_depth=60 \n",
      "[CV]  rf__min_samples_split=5, rf__min_samples_leaf=1, rf__max_features=sqrt, rf__max_depth=60, total=   2.3s\n",
      "[CV] rf__min_samples_split=5, rf__min_samples_leaf=1, rf__max_features=sqrt, rf__max_depth=60 \n",
      "[CV]  rf__min_samples_split=5, rf__min_samples_leaf=1, rf__max_features=sqrt, rf__max_depth=60, total=   2.6s\n",
      "[CV] rf__min_samples_split=2, rf__min_samples_leaf=2, rf__max_features=sqrt, rf__max_depth=60 \n",
      "[CV]  rf__min_samples_split=2, rf__min_samples_leaf=2, rf__max_features=sqrt, rf__max_depth=60, total=   2.4s\n",
      "[CV] rf__min_samples_split=2, rf__min_samples_leaf=2, rf__max_features=sqrt, rf__max_depth=60 \n",
      "[CV]  rf__min_samples_split=2, rf__min_samples_leaf=2, rf__max_features=sqrt, rf__max_depth=60, total=   2.6s\n",
      "[CV] rf__min_samples_split=2, rf__min_samples_leaf=2, rf__max_features=sqrt, rf__max_depth=60 \n",
      "[CV]  rf__min_samples_split=2, rf__min_samples_leaf=2, rf__max_features=sqrt, rf__max_depth=60, total=   2.2s\n",
      "[CV] rf__min_samples_split=5, rf__min_samples_leaf=2, rf__max_features=sqrt, rf__max_depth=60 \n",
      "[CV]  rf__min_samples_split=5, rf__min_samples_leaf=2, rf__max_features=sqrt, rf__max_depth=60, total=   2.3s\n",
      "[CV] rf__min_samples_split=5, rf__min_samples_leaf=2, rf__max_features=sqrt, rf__max_depth=60 \n",
      "[CV]  rf__min_samples_split=5, rf__min_samples_leaf=2, rf__max_features=sqrt, rf__max_depth=60, total=   2.2s\n",
      "[CV] rf__min_samples_split=5, rf__min_samples_leaf=2, rf__max_features=sqrt, rf__max_depth=60 \n",
      "[CV]  rf__min_samples_split=5, rf__min_samples_leaf=2, rf__max_features=sqrt, rf__max_depth=60, total=   2.1s\n",
      "[CV] rf__min_samples_split=2, rf__min_samples_leaf=1, rf__max_features=auto, rf__max_depth=65 \n",
      "[CV]  rf__min_samples_split=2, rf__min_samples_leaf=1, rf__max_features=auto, rf__max_depth=65, total=   9.5s\n",
      "[CV] rf__min_samples_split=2, rf__min_samples_leaf=1, rf__max_features=auto, rf__max_depth=65 \n",
      "[CV]  rf__min_samples_split=2, rf__min_samples_leaf=1, rf__max_features=auto, rf__max_depth=65, total=  10.2s\n",
      "[CV] rf__min_samples_split=2, rf__min_samples_leaf=1, rf__max_features=auto, rf__max_depth=65 \n",
      "[CV]  rf__min_samples_split=2, rf__min_samples_leaf=1, rf__max_features=auto, rf__max_depth=65, total=  10.4s\n",
      "[CV] rf__min_samples_split=5, rf__min_samples_leaf=1, rf__max_features=auto, rf__max_depth=65 \n",
      "[CV]  rf__min_samples_split=5, rf__min_samples_leaf=1, rf__max_features=auto, rf__max_depth=65, total=   8.3s\n",
      "[CV] rf__min_samples_split=5, rf__min_samples_leaf=1, rf__max_features=auto, rf__max_depth=65 \n",
      "[CV]  rf__min_samples_split=5, rf__min_samples_leaf=1, rf__max_features=auto, rf__max_depth=65, total=   9.2s\n",
      "[CV] rf__min_samples_split=5, rf__min_samples_leaf=1, rf__max_features=auto, rf__max_depth=65 \n",
      "[CV]  rf__min_samples_split=5, rf__min_samples_leaf=1, rf__max_features=auto, rf__max_depth=65, total=   8.8s\n",
      "[CV] rf__min_samples_split=2, rf__min_samples_leaf=2, rf__max_features=auto, rf__max_depth=65 \n",
      "[CV]  rf__min_samples_split=2, rf__min_samples_leaf=2, rf__max_features=auto, rf__max_depth=65, total=   9.0s\n",
      "[CV] rf__min_samples_split=2, rf__min_samples_leaf=2, rf__max_features=auto, rf__max_depth=65 \n",
      "[CV]  rf__min_samples_split=2, rf__min_samples_leaf=2, rf__max_features=auto, rf__max_depth=65, total=   8.9s\n",
      "[CV] rf__min_samples_split=2, rf__min_samples_leaf=2, rf__max_features=auto, rf__max_depth=65 \n",
      "[CV]  rf__min_samples_split=2, rf__min_samples_leaf=2, rf__max_features=auto, rf__max_depth=65, total=   8.6s\n",
      "[CV] rf__min_samples_split=5, rf__min_samples_leaf=2, rf__max_features=auto, rf__max_depth=65 \n",
      "[CV]  rf__min_samples_split=5, rf__min_samples_leaf=2, rf__max_features=auto, rf__max_depth=65, total=   8.0s\n",
      "[CV] rf__min_samples_split=5, rf__min_samples_leaf=2, rf__max_features=auto, rf__max_depth=65 \n",
      "[CV]  rf__min_samples_split=5, rf__min_samples_leaf=2, rf__max_features=auto, rf__max_depth=65, total=   7.9s\n",
      "[CV] rf__min_samples_split=5, rf__min_samples_leaf=2, rf__max_features=auto, rf__max_depth=65 \n",
      "[CV]  rf__min_samples_split=5, rf__min_samples_leaf=2, rf__max_features=auto, rf__max_depth=65, total=   8.1s\n",
      "[CV] rf__min_samples_split=2, rf__min_samples_leaf=1, rf__max_features=sqrt, rf__max_depth=65 \n",
      "[CV]  rf__min_samples_split=2, rf__min_samples_leaf=1, rf__max_features=sqrt, rf__max_depth=65, total=   3.0s\n",
      "[CV] rf__min_samples_split=2, rf__min_samples_leaf=1, rf__max_features=sqrt, rf__max_depth=65 \n",
      "[CV]  rf__min_samples_split=2, rf__min_samples_leaf=1, rf__max_features=sqrt, rf__max_depth=65, total=   3.1s\n",
      "[CV] rf__min_samples_split=2, rf__min_samples_leaf=1, rf__max_features=sqrt, rf__max_depth=65 \n",
      "[CV]  rf__min_samples_split=2, rf__min_samples_leaf=1, rf__max_features=sqrt, rf__max_depth=65, total=   3.3s\n",
      "[CV] rf__min_samples_split=5, rf__min_samples_leaf=1, rf__max_features=sqrt, rf__max_depth=65 \n",
      "[CV]  rf__min_samples_split=5, rf__min_samples_leaf=1, rf__max_features=sqrt, rf__max_depth=65, total=   2.5s\n",
      "[CV] rf__min_samples_split=5, rf__min_samples_leaf=1, rf__max_features=sqrt, rf__max_depth=65 \n",
      "[CV]  rf__min_samples_split=5, rf__min_samples_leaf=1, rf__max_features=sqrt, rf__max_depth=65, total=   2.6s\n",
      "[CV] rf__min_samples_split=5, rf__min_samples_leaf=1, rf__max_features=sqrt, rf__max_depth=65 \n",
      "[CV]  rf__min_samples_split=5, rf__min_samples_leaf=1, rf__max_features=sqrt, rf__max_depth=65, total=   2.3s\n",
      "[CV] rf__min_samples_split=2, rf__min_samples_leaf=2, rf__max_features=sqrt, rf__max_depth=65 \n",
      "[CV]  rf__min_samples_split=2, rf__min_samples_leaf=2, rf__max_features=sqrt, rf__max_depth=65, total=   2.6s\n",
      "[CV] rf__min_samples_split=2, rf__min_samples_leaf=2, rf__max_features=sqrt, rf__max_depth=65 \n",
      "[CV]  rf__min_samples_split=2, rf__min_samples_leaf=2, rf__max_features=sqrt, rf__max_depth=65, total=   2.5s\n",
      "[CV] rf__min_samples_split=2, rf__min_samples_leaf=2, rf__max_features=sqrt, rf__max_depth=65 \n",
      "[CV]  rf__min_samples_split=2, rf__min_samples_leaf=2, rf__max_features=sqrt, rf__max_depth=65, total=   2.5s\n",
      "[CV] rf__min_samples_split=5, rf__min_samples_leaf=2, rf__max_features=sqrt, rf__max_depth=65 \n",
      "[CV]  rf__min_samples_split=5, rf__min_samples_leaf=2, rf__max_features=sqrt, rf__max_depth=65, total=   2.2s\n",
      "[CV] rf__min_samples_split=5, rf__min_samples_leaf=2, rf__max_features=sqrt, rf__max_depth=65 \n",
      "[CV]  rf__min_samples_split=5, rf__min_samples_leaf=2, rf__max_features=sqrt, rf__max_depth=65, total=   2.2s\n",
      "[CV] rf__min_samples_split=5, rf__min_samples_leaf=2, rf__max_features=sqrt, rf__max_depth=65 \n",
      "[CV]  rf__min_samples_split=5, rf__min_samples_leaf=2, rf__max_features=sqrt, rf__max_depth=65, total=   2.3s\n",
      "[CV] rf__min_samples_split=2, rf__min_samples_leaf=1, rf__max_features=auto, rf__max_depth=70 \n",
      "[CV]  rf__min_samples_split=2, rf__min_samples_leaf=1, rf__max_features=auto, rf__max_depth=70, total=   9.7s\n",
      "[CV] rf__min_samples_split=2, rf__min_samples_leaf=1, rf__max_features=auto, rf__max_depth=70 \n",
      "[CV]  rf__min_samples_split=2, rf__min_samples_leaf=1, rf__max_features=auto, rf__max_depth=70, total=  10.1s\n",
      "[CV] rf__min_samples_split=2, rf__min_samples_leaf=1, rf__max_features=auto, rf__max_depth=70 \n",
      "[CV]  rf__min_samples_split=2, rf__min_samples_leaf=1, rf__max_features=auto, rf__max_depth=70, total=   9.8s\n",
      "[CV] rf__min_samples_split=5, rf__min_samples_leaf=1, rf__max_features=auto, rf__max_depth=70 \n",
      "[CV]  rf__min_samples_split=5, rf__min_samples_leaf=1, rf__max_features=auto, rf__max_depth=70, total=   8.6s\n",
      "[CV] rf__min_samples_split=5, rf__min_samples_leaf=1, rf__max_features=auto, rf__max_depth=70 \n",
      "[CV]  rf__min_samples_split=5, rf__min_samples_leaf=1, rf__max_features=auto, rf__max_depth=70, total=   8.7s\n",
      "[CV] rf__min_samples_split=5, rf__min_samples_leaf=1, rf__max_features=auto, rf__max_depth=70 \n",
      "[CV]  rf__min_samples_split=5, rf__min_samples_leaf=1, rf__max_features=auto, rf__max_depth=70, total=   8.7s\n",
      "[CV] rf__min_samples_split=2, rf__min_samples_leaf=2, rf__max_features=auto, rf__max_depth=70 \n",
      "[CV]  rf__min_samples_split=2, rf__min_samples_leaf=2, rf__max_features=auto, rf__max_depth=70, total=   8.5s\n",
      "[CV] rf__min_samples_split=2, rf__min_samples_leaf=2, rf__max_features=auto, rf__max_depth=70 \n",
      "[CV]  rf__min_samples_split=2, rf__min_samples_leaf=2, rf__max_features=auto, rf__max_depth=70, total=   8.2s\n",
      "[CV] rf__min_samples_split=2, rf__min_samples_leaf=2, rf__max_features=auto, rf__max_depth=70 \n",
      "[CV]  rf__min_samples_split=2, rf__min_samples_leaf=2, rf__max_features=auto, rf__max_depth=70, total=   8.5s\n",
      "[CV] rf__min_samples_split=5, rf__min_samples_leaf=2, rf__max_features=auto, rf__max_depth=70 \n",
      "[CV]  rf__min_samples_split=5, rf__min_samples_leaf=2, rf__max_features=auto, rf__max_depth=70, total=   7.9s\n",
      "[CV] rf__min_samples_split=5, rf__min_samples_leaf=2, rf__max_features=auto, rf__max_depth=70 \n",
      "[CV]  rf__min_samples_split=5, rf__min_samples_leaf=2, rf__max_features=auto, rf__max_depth=70, total=   8.1s\n",
      "[CV] rf__min_samples_split=5, rf__min_samples_leaf=2, rf__max_features=auto, rf__max_depth=70 \n",
      "[CV]  rf__min_samples_split=5, rf__min_samples_leaf=2, rf__max_features=auto, rf__max_depth=70, total=   8.2s\n",
      "[CV] rf__min_samples_split=2, rf__min_samples_leaf=1, rf__max_features=sqrt, rf__max_depth=70 \n",
      "[CV]  rf__min_samples_split=2, rf__min_samples_leaf=1, rf__max_features=sqrt, rf__max_depth=70, total=   2.8s\n",
      "[CV] rf__min_samples_split=2, rf__min_samples_leaf=1, rf__max_features=sqrt, rf__max_depth=70 \n",
      "[CV]  rf__min_samples_split=2, rf__min_samples_leaf=1, rf__max_features=sqrt, rf__max_depth=70, total=   3.1s\n",
      "[CV] rf__min_samples_split=2, rf__min_samples_leaf=1, rf__max_features=sqrt, rf__max_depth=70 \n",
      "[CV]  rf__min_samples_split=2, rf__min_samples_leaf=1, rf__max_features=sqrt, rf__max_depth=70, total=   3.3s\n",
      "[CV] rf__min_samples_split=5, rf__min_samples_leaf=1, rf__max_features=sqrt, rf__max_depth=70 \n",
      "[CV]  rf__min_samples_split=5, rf__min_samples_leaf=1, rf__max_features=sqrt, rf__max_depth=70, total=   2.6s\n",
      "[CV] rf__min_samples_split=5, rf__min_samples_leaf=1, rf__max_features=sqrt, rf__max_depth=70 \n",
      "[CV]  rf__min_samples_split=5, rf__min_samples_leaf=1, rf__max_features=sqrt, rf__max_depth=70, total=   2.4s\n",
      "[CV] rf__min_samples_split=5, rf__min_samples_leaf=1, rf__max_features=sqrt, rf__max_depth=70 \n",
      "[CV]  rf__min_samples_split=5, rf__min_samples_leaf=1, rf__max_features=sqrt, rf__max_depth=70, total=   2.3s\n",
      "[CV] rf__min_samples_split=2, rf__min_samples_leaf=2, rf__max_features=sqrt, rf__max_depth=70 \n",
      "[CV]  rf__min_samples_split=2, rf__min_samples_leaf=2, rf__max_features=sqrt, rf__max_depth=70, total=   2.3s\n",
      "[CV] rf__min_samples_split=2, rf__min_samples_leaf=2, rf__max_features=sqrt, rf__max_depth=70 \n",
      "[CV]  rf__min_samples_split=2, rf__min_samples_leaf=2, rf__max_features=sqrt, rf__max_depth=70, total=   2.4s\n",
      "[CV] rf__min_samples_split=2, rf__min_samples_leaf=2, rf__max_features=sqrt, rf__max_depth=70 \n",
      "[CV]  rf__min_samples_split=2, rf__min_samples_leaf=2, rf__max_features=sqrt, rf__max_depth=70, total=   2.2s\n",
      "[CV] rf__min_samples_split=5, rf__min_samples_leaf=2, rf__max_features=sqrt, rf__max_depth=70 \n",
      "[CV]  rf__min_samples_split=5, rf__min_samples_leaf=2, rf__max_features=sqrt, rf__max_depth=70, total=   2.3s\n",
      "[CV] rf__min_samples_split=5, rf__min_samples_leaf=2, rf__max_features=sqrt, rf__max_depth=70 \n",
      "[CV]  rf__min_samples_split=5, rf__min_samples_leaf=2, rf__max_features=sqrt, rf__max_depth=70, total=   2.3s\n",
      "[CV] rf__min_samples_split=5, rf__min_samples_leaf=2, rf__max_features=sqrt, rf__max_depth=70 \n",
      "[CV]  rf__min_samples_split=5, rf__min_samples_leaf=2, rf__max_features=sqrt, rf__max_depth=70, total=   2.7s\n",
      "[CV] rf__min_samples_split=2, rf__min_samples_leaf=1, rf__max_features=auto, rf__max_depth=75 \n"
     ]
    },
    {
     "ename": "KeyboardInterrupt",
     "evalue": "",
     "output_type": "error",
     "traceback": [
      "\u001b[0;31m---------------------------------------------------------------------------\u001b[0m",
      "\u001b[0;31mKeyboardInterrupt\u001b[0m                         Traceback (most recent call last)",
      "\u001b[0;32m<ipython-input-35-f641983a54ce>\u001b[0m in \u001b[0;36m<module>\u001b[0;34m\u001b[0m\n\u001b[1;32m     23\u001b[0m \u001b[0mrf_random\u001b[0m \u001b[0;34m=\u001b[0m \u001b[0mRandomizedSearchCV\u001b[0m\u001b[0;34m(\u001b[0m\u001b[0mestimator\u001b[0m \u001b[0;34m=\u001b[0m \u001b[0mpipeline\u001b[0m\u001b[0;34m,\u001b[0m \u001b[0mparam_distributions\u001b[0m \u001b[0;34m=\u001b[0m \u001b[0mrandom_grid\u001b[0m\u001b[0;34m,\u001b[0m \u001b[0mn_iter\u001b[0m \u001b[0;34m=\u001b[0m \u001b[0;36m100\u001b[0m\u001b[0;34m,\u001b[0m \u001b[0mcv\u001b[0m \u001b[0;34m=\u001b[0m \u001b[0;36m3\u001b[0m\u001b[0;34m,\u001b[0m \u001b[0mverbose\u001b[0m\u001b[0;34m=\u001b[0m\u001b[0;36m2\u001b[0m\u001b[0;34m,\u001b[0m \u001b[0mrandom_state\u001b[0m\u001b[0;34m=\u001b[0m\u001b[0;36m42\u001b[0m\u001b[0;34m,\u001b[0m \u001b[0mn_jobs\u001b[0m \u001b[0;34m=\u001b[0m \u001b[0;34m-\u001b[0m\u001b[0;36m1\u001b[0m\u001b[0;34m)\u001b[0m\u001b[0;34m\u001b[0m\u001b[0;34m\u001b[0m\u001b[0m\n\u001b[1;32m     24\u001b[0m \u001b[0;31m# Fit the random search model\u001b[0m\u001b[0;34m\u001b[0m\u001b[0;34m\u001b[0m\u001b[0;34m\u001b[0m\u001b[0m\n\u001b[0;32m---> 25\u001b[0;31m \u001b[0mrf_random\u001b[0m\u001b[0;34m.\u001b[0m\u001b[0mfit\u001b[0m\u001b[0;34m(\u001b[0m\u001b[0mX_train\u001b[0m\u001b[0;34m,\u001b[0m \u001b[0my_train\u001b[0m\u001b[0;34m)\u001b[0m\u001b[0;34m\u001b[0m\u001b[0;34m\u001b[0m\u001b[0m\n\u001b[0m",
      "\u001b[0;32m/opt/conda/envs/Python-3.7-OpenCE/lib/python3.7/site-packages/sklearn/utils/validation.py\u001b[0m in \u001b[0;36minner_f\u001b[0;34m(*args, **kwargs)\u001b[0m\n\u001b[1;32m     70\u001b[0m                           FutureWarning)\n\u001b[1;32m     71\u001b[0m         \u001b[0mkwargs\u001b[0m\u001b[0;34m.\u001b[0m\u001b[0mupdate\u001b[0m\u001b[0;34m(\u001b[0m\u001b[0;34m{\u001b[0m\u001b[0mk\u001b[0m\u001b[0;34m:\u001b[0m \u001b[0marg\u001b[0m \u001b[0;32mfor\u001b[0m \u001b[0mk\u001b[0m\u001b[0;34m,\u001b[0m \u001b[0marg\u001b[0m \u001b[0;32min\u001b[0m \u001b[0mzip\u001b[0m\u001b[0;34m(\u001b[0m\u001b[0msig\u001b[0m\u001b[0;34m.\u001b[0m\u001b[0mparameters\u001b[0m\u001b[0;34m,\u001b[0m \u001b[0margs\u001b[0m\u001b[0;34m)\u001b[0m\u001b[0;34m}\u001b[0m\u001b[0;34m)\u001b[0m\u001b[0;34m\u001b[0m\u001b[0;34m\u001b[0m\u001b[0m\n\u001b[0;32m---> 72\u001b[0;31m         \u001b[0;32mreturn\u001b[0m \u001b[0mf\u001b[0m\u001b[0;34m(\u001b[0m\u001b[0;34m**\u001b[0m\u001b[0mkwargs\u001b[0m\u001b[0;34m)\u001b[0m\u001b[0;34m\u001b[0m\u001b[0;34m\u001b[0m\u001b[0m\n\u001b[0m\u001b[1;32m     73\u001b[0m     \u001b[0;32mreturn\u001b[0m \u001b[0minner_f\u001b[0m\u001b[0;34m\u001b[0m\u001b[0;34m\u001b[0m\u001b[0m\n\u001b[1;32m     74\u001b[0m \u001b[0;34m\u001b[0m\u001b[0m\n",
      "\u001b[0;32m/opt/conda/envs/Python-3.7-OpenCE/lib/python3.7/site-packages/sklearn/model_selection/_search.py\u001b[0m in \u001b[0;36mfit\u001b[0;34m(self, X, y, groups, **fit_params)\u001b[0m\n\u001b[1;32m    734\u001b[0m                 \u001b[0;32mreturn\u001b[0m \u001b[0mresults\u001b[0m\u001b[0;34m\u001b[0m\u001b[0;34m\u001b[0m\u001b[0m\n\u001b[1;32m    735\u001b[0m \u001b[0;34m\u001b[0m\u001b[0m\n\u001b[0;32m--> 736\u001b[0;31m             \u001b[0mself\u001b[0m\u001b[0;34m.\u001b[0m\u001b[0m_run_search\u001b[0m\u001b[0;34m(\u001b[0m\u001b[0mevaluate_candidates\u001b[0m\u001b[0;34m)\u001b[0m\u001b[0;34m\u001b[0m\u001b[0;34m\u001b[0m\u001b[0m\n\u001b[0m\u001b[1;32m    737\u001b[0m \u001b[0;34m\u001b[0m\u001b[0m\n\u001b[1;32m    738\u001b[0m         \u001b[0;31m# For multi-metric evaluation, store the best_index_, best_params_ and\u001b[0m\u001b[0;34m\u001b[0m\u001b[0;34m\u001b[0m\u001b[0;34m\u001b[0m\u001b[0m\n",
      "\u001b[0;32m/opt/conda/envs/Python-3.7-OpenCE/lib/python3.7/site-packages/sklearn/model_selection/_search.py\u001b[0m in \u001b[0;36m_run_search\u001b[0;34m(self, evaluate_candidates)\u001b[0m\n\u001b[1;32m   1529\u001b[0m         evaluate_candidates(ParameterSampler(\n\u001b[1;32m   1530\u001b[0m             \u001b[0mself\u001b[0m\u001b[0;34m.\u001b[0m\u001b[0mparam_distributions\u001b[0m\u001b[0;34m,\u001b[0m \u001b[0mself\u001b[0m\u001b[0;34m.\u001b[0m\u001b[0mn_iter\u001b[0m\u001b[0;34m,\u001b[0m\u001b[0;34m\u001b[0m\u001b[0;34m\u001b[0m\u001b[0m\n\u001b[0;32m-> 1531\u001b[0;31m             random_state=self.random_state))\n\u001b[0m",
      "\u001b[0;32m/opt/conda/envs/Python-3.7-OpenCE/lib/python3.7/site-packages/sklearn/model_selection/_search.py\u001b[0m in \u001b[0;36mevaluate_candidates\u001b[0;34m(candidate_params)\u001b[0m\n\u001b[1;32m    713\u001b[0m                                \u001b[0;32mfor\u001b[0m \u001b[0mparameters\u001b[0m\u001b[0;34m,\u001b[0m \u001b[0;34m(\u001b[0m\u001b[0mtrain\u001b[0m\u001b[0;34m,\u001b[0m \u001b[0mtest\u001b[0m\u001b[0;34m)\u001b[0m\u001b[0;34m\u001b[0m\u001b[0;34m\u001b[0m\u001b[0m\n\u001b[1;32m    714\u001b[0m                                in product(candidate_params,\n\u001b[0;32m--> 715\u001b[0;31m                                           cv.split(X, y, groups)))\n\u001b[0m\u001b[1;32m    716\u001b[0m \u001b[0;34m\u001b[0m\u001b[0m\n\u001b[1;32m    717\u001b[0m                 \u001b[0;32mif\u001b[0m \u001b[0mlen\u001b[0m\u001b[0;34m(\u001b[0m\u001b[0mout\u001b[0m\u001b[0;34m)\u001b[0m \u001b[0;34m<\u001b[0m \u001b[0;36m1\u001b[0m\u001b[0;34m:\u001b[0m\u001b[0;34m\u001b[0m\u001b[0;34m\u001b[0m\u001b[0m\n",
      "\u001b[0;32m/opt/conda/envs/Python-3.7-OpenCE/lib/python3.7/site-packages/joblib/parallel.py\u001b[0m in \u001b[0;36m__call__\u001b[0;34m(self, iterable)\u001b[0m\n\u001b[1;32m   1049\u001b[0m                 \u001b[0mself\u001b[0m\u001b[0;34m.\u001b[0m\u001b[0m_iterating\u001b[0m \u001b[0;34m=\u001b[0m \u001b[0mself\u001b[0m\u001b[0;34m.\u001b[0m\u001b[0m_original_iterator\u001b[0m \u001b[0;32mis\u001b[0m \u001b[0;32mnot\u001b[0m \u001b[0;32mNone\u001b[0m\u001b[0;34m\u001b[0m\u001b[0;34m\u001b[0m\u001b[0m\n\u001b[1;32m   1050\u001b[0m \u001b[0;34m\u001b[0m\u001b[0m\n\u001b[0;32m-> 1051\u001b[0;31m             \u001b[0;32mwhile\u001b[0m \u001b[0mself\u001b[0m\u001b[0;34m.\u001b[0m\u001b[0mdispatch_one_batch\u001b[0m\u001b[0;34m(\u001b[0m\u001b[0miterator\u001b[0m\u001b[0;34m)\u001b[0m\u001b[0;34m:\u001b[0m\u001b[0;34m\u001b[0m\u001b[0;34m\u001b[0m\u001b[0m\n\u001b[0m\u001b[1;32m   1052\u001b[0m                 \u001b[0;32mpass\u001b[0m\u001b[0;34m\u001b[0m\u001b[0;34m\u001b[0m\u001b[0m\n\u001b[1;32m   1053\u001b[0m \u001b[0;34m\u001b[0m\u001b[0m\n",
      "\u001b[0;32m/opt/conda/envs/Python-3.7-OpenCE/lib/python3.7/site-packages/joblib/parallel.py\u001b[0m in \u001b[0;36mdispatch_one_batch\u001b[0;34m(self, iterator)\u001b[0m\n\u001b[1;32m    864\u001b[0m                 \u001b[0;32mreturn\u001b[0m \u001b[0;32mFalse\u001b[0m\u001b[0;34m\u001b[0m\u001b[0;34m\u001b[0m\u001b[0m\n\u001b[1;32m    865\u001b[0m             \u001b[0;32melse\u001b[0m\u001b[0;34m:\u001b[0m\u001b[0;34m\u001b[0m\u001b[0;34m\u001b[0m\u001b[0m\n\u001b[0;32m--> 866\u001b[0;31m                 \u001b[0mself\u001b[0m\u001b[0;34m.\u001b[0m\u001b[0m_dispatch\u001b[0m\u001b[0;34m(\u001b[0m\u001b[0mtasks\u001b[0m\u001b[0;34m)\u001b[0m\u001b[0;34m\u001b[0m\u001b[0;34m\u001b[0m\u001b[0m\n\u001b[0m\u001b[1;32m    867\u001b[0m                 \u001b[0;32mreturn\u001b[0m \u001b[0;32mTrue\u001b[0m\u001b[0;34m\u001b[0m\u001b[0;34m\u001b[0m\u001b[0m\n\u001b[1;32m    868\u001b[0m \u001b[0;34m\u001b[0m\u001b[0m\n",
      "\u001b[0;32m/opt/conda/envs/Python-3.7-OpenCE/lib/python3.7/site-packages/joblib/parallel.py\u001b[0m in \u001b[0;36m_dispatch\u001b[0;34m(self, batch)\u001b[0m\n\u001b[1;32m    782\u001b[0m         \u001b[0;32mwith\u001b[0m \u001b[0mself\u001b[0m\u001b[0;34m.\u001b[0m\u001b[0m_lock\u001b[0m\u001b[0;34m:\u001b[0m\u001b[0;34m\u001b[0m\u001b[0;34m\u001b[0m\u001b[0m\n\u001b[1;32m    783\u001b[0m             \u001b[0mjob_idx\u001b[0m \u001b[0;34m=\u001b[0m \u001b[0mlen\u001b[0m\u001b[0;34m(\u001b[0m\u001b[0mself\u001b[0m\u001b[0;34m.\u001b[0m\u001b[0m_jobs\u001b[0m\u001b[0;34m)\u001b[0m\u001b[0;34m\u001b[0m\u001b[0;34m\u001b[0m\u001b[0m\n\u001b[0;32m--> 784\u001b[0;31m             \u001b[0mjob\u001b[0m \u001b[0;34m=\u001b[0m \u001b[0mself\u001b[0m\u001b[0;34m.\u001b[0m\u001b[0m_backend\u001b[0m\u001b[0;34m.\u001b[0m\u001b[0mapply_async\u001b[0m\u001b[0;34m(\u001b[0m\u001b[0mbatch\u001b[0m\u001b[0;34m,\u001b[0m \u001b[0mcallback\u001b[0m\u001b[0;34m=\u001b[0m\u001b[0mcb\u001b[0m\u001b[0;34m)\u001b[0m\u001b[0;34m\u001b[0m\u001b[0;34m\u001b[0m\u001b[0m\n\u001b[0m\u001b[1;32m    785\u001b[0m             \u001b[0;31m# A job can complete so quickly than its callback is\u001b[0m\u001b[0;34m\u001b[0m\u001b[0;34m\u001b[0m\u001b[0;34m\u001b[0m\u001b[0m\n\u001b[1;32m    786\u001b[0m             \u001b[0;31m# called before we get here, causing self._jobs to\u001b[0m\u001b[0;34m\u001b[0m\u001b[0;34m\u001b[0m\u001b[0;34m\u001b[0m\u001b[0m\n",
      "\u001b[0;32m/opt/conda/envs/Python-3.7-OpenCE/lib/python3.7/site-packages/joblib/_parallel_backends.py\u001b[0m in \u001b[0;36mapply_async\u001b[0;34m(self, func, callback)\u001b[0m\n\u001b[1;32m    206\u001b[0m     \u001b[0;32mdef\u001b[0m \u001b[0mapply_async\u001b[0m\u001b[0;34m(\u001b[0m\u001b[0mself\u001b[0m\u001b[0;34m,\u001b[0m \u001b[0mfunc\u001b[0m\u001b[0;34m,\u001b[0m \u001b[0mcallback\u001b[0m\u001b[0;34m=\u001b[0m\u001b[0;32mNone\u001b[0m\u001b[0;34m)\u001b[0m\u001b[0;34m:\u001b[0m\u001b[0;34m\u001b[0m\u001b[0;34m\u001b[0m\u001b[0m\n\u001b[1;32m    207\u001b[0m         \u001b[0;34m\"\"\"Schedule a func to be run\"\"\"\u001b[0m\u001b[0;34m\u001b[0m\u001b[0;34m\u001b[0m\u001b[0m\n\u001b[0;32m--> 208\u001b[0;31m         \u001b[0mresult\u001b[0m \u001b[0;34m=\u001b[0m \u001b[0mImmediateResult\u001b[0m\u001b[0;34m(\u001b[0m\u001b[0mfunc\u001b[0m\u001b[0;34m)\u001b[0m\u001b[0;34m\u001b[0m\u001b[0;34m\u001b[0m\u001b[0m\n\u001b[0m\u001b[1;32m    209\u001b[0m         \u001b[0;32mif\u001b[0m \u001b[0mcallback\u001b[0m\u001b[0;34m:\u001b[0m\u001b[0;34m\u001b[0m\u001b[0;34m\u001b[0m\u001b[0m\n\u001b[1;32m    210\u001b[0m             \u001b[0mcallback\u001b[0m\u001b[0;34m(\u001b[0m\u001b[0mresult\u001b[0m\u001b[0;34m)\u001b[0m\u001b[0;34m\u001b[0m\u001b[0;34m\u001b[0m\u001b[0m\n",
      "\u001b[0;32m/opt/conda/envs/Python-3.7-OpenCE/lib/python3.7/site-packages/joblib/_parallel_backends.py\u001b[0m in \u001b[0;36m__init__\u001b[0;34m(self, batch)\u001b[0m\n\u001b[1;32m    570\u001b[0m         \u001b[0;31m# Don't delay the application, to avoid keeping the input\u001b[0m\u001b[0;34m\u001b[0m\u001b[0;34m\u001b[0m\u001b[0;34m\u001b[0m\u001b[0m\n\u001b[1;32m    571\u001b[0m         \u001b[0;31m# arguments in memory\u001b[0m\u001b[0;34m\u001b[0m\u001b[0;34m\u001b[0m\u001b[0;34m\u001b[0m\u001b[0m\n\u001b[0;32m--> 572\u001b[0;31m         \u001b[0mself\u001b[0m\u001b[0;34m.\u001b[0m\u001b[0mresults\u001b[0m \u001b[0;34m=\u001b[0m \u001b[0mbatch\u001b[0m\u001b[0;34m(\u001b[0m\u001b[0;34m)\u001b[0m\u001b[0;34m\u001b[0m\u001b[0;34m\u001b[0m\u001b[0m\n\u001b[0m\u001b[1;32m    573\u001b[0m \u001b[0;34m\u001b[0m\u001b[0m\n\u001b[1;32m    574\u001b[0m     \u001b[0;32mdef\u001b[0m \u001b[0mget\u001b[0m\u001b[0;34m(\u001b[0m\u001b[0mself\u001b[0m\u001b[0;34m)\u001b[0m\u001b[0;34m:\u001b[0m\u001b[0;34m\u001b[0m\u001b[0;34m\u001b[0m\u001b[0m\n",
      "\u001b[0;32m/opt/conda/envs/Python-3.7-OpenCE/lib/python3.7/site-packages/joblib/parallel.py\u001b[0m in \u001b[0;36m__call__\u001b[0;34m(self)\u001b[0m\n\u001b[1;32m    261\u001b[0m         \u001b[0;32mwith\u001b[0m \u001b[0mparallel_backend\u001b[0m\u001b[0;34m(\u001b[0m\u001b[0mself\u001b[0m\u001b[0;34m.\u001b[0m\u001b[0m_backend\u001b[0m\u001b[0;34m,\u001b[0m \u001b[0mn_jobs\u001b[0m\u001b[0;34m=\u001b[0m\u001b[0mself\u001b[0m\u001b[0;34m.\u001b[0m\u001b[0m_n_jobs\u001b[0m\u001b[0;34m)\u001b[0m\u001b[0;34m:\u001b[0m\u001b[0;34m\u001b[0m\u001b[0;34m\u001b[0m\u001b[0m\n\u001b[1;32m    262\u001b[0m             return [func(*args, **kwargs)\n\u001b[0;32m--> 263\u001b[0;31m                     for func, args, kwargs in self.items]\n\u001b[0m\u001b[1;32m    264\u001b[0m \u001b[0;34m\u001b[0m\u001b[0m\n\u001b[1;32m    265\u001b[0m     \u001b[0;32mdef\u001b[0m \u001b[0m__reduce__\u001b[0m\u001b[0;34m(\u001b[0m\u001b[0mself\u001b[0m\u001b[0;34m)\u001b[0m\u001b[0;34m:\u001b[0m\u001b[0;34m\u001b[0m\u001b[0;34m\u001b[0m\u001b[0m\n",
      "\u001b[0;32m/opt/conda/envs/Python-3.7-OpenCE/lib/python3.7/site-packages/joblib/parallel.py\u001b[0m in \u001b[0;36m<listcomp>\u001b[0;34m(.0)\u001b[0m\n\u001b[1;32m    261\u001b[0m         \u001b[0;32mwith\u001b[0m \u001b[0mparallel_backend\u001b[0m\u001b[0;34m(\u001b[0m\u001b[0mself\u001b[0m\u001b[0;34m.\u001b[0m\u001b[0m_backend\u001b[0m\u001b[0;34m,\u001b[0m \u001b[0mn_jobs\u001b[0m\u001b[0;34m=\u001b[0m\u001b[0mself\u001b[0m\u001b[0;34m.\u001b[0m\u001b[0m_n_jobs\u001b[0m\u001b[0;34m)\u001b[0m\u001b[0;34m:\u001b[0m\u001b[0;34m\u001b[0m\u001b[0;34m\u001b[0m\u001b[0m\n\u001b[1;32m    262\u001b[0m             return [func(*args, **kwargs)\n\u001b[0;32m--> 263\u001b[0;31m                     for func, args, kwargs in self.items]\n\u001b[0m\u001b[1;32m    264\u001b[0m \u001b[0;34m\u001b[0m\u001b[0m\n\u001b[1;32m    265\u001b[0m     \u001b[0;32mdef\u001b[0m \u001b[0m__reduce__\u001b[0m\u001b[0;34m(\u001b[0m\u001b[0mself\u001b[0m\u001b[0;34m)\u001b[0m\u001b[0;34m:\u001b[0m\u001b[0;34m\u001b[0m\u001b[0;34m\u001b[0m\u001b[0m\n",
      "\u001b[0;32m/opt/conda/envs/Python-3.7-OpenCE/lib/python3.7/site-packages/sklearn/model_selection/_validation.py\u001b[0m in \u001b[0;36m_fit_and_score\u001b[0;34m(estimator, X, y, scorer, train, test, verbose, parameters, fit_params, return_train_score, return_parameters, return_n_test_samples, return_times, return_estimator, error_score)\u001b[0m\n\u001b[1;32m    529\u001b[0m             \u001b[0mestimator\u001b[0m\u001b[0;34m.\u001b[0m\u001b[0mfit\u001b[0m\u001b[0;34m(\u001b[0m\u001b[0mX_train\u001b[0m\u001b[0;34m,\u001b[0m \u001b[0;34m**\u001b[0m\u001b[0mfit_params\u001b[0m\u001b[0;34m)\u001b[0m\u001b[0;34m\u001b[0m\u001b[0;34m\u001b[0m\u001b[0m\n\u001b[1;32m    530\u001b[0m         \u001b[0;32melse\u001b[0m\u001b[0;34m:\u001b[0m\u001b[0;34m\u001b[0m\u001b[0;34m\u001b[0m\u001b[0m\n\u001b[0;32m--> 531\u001b[0;31m             \u001b[0mestimator\u001b[0m\u001b[0;34m.\u001b[0m\u001b[0mfit\u001b[0m\u001b[0;34m(\u001b[0m\u001b[0mX_train\u001b[0m\u001b[0;34m,\u001b[0m \u001b[0my_train\u001b[0m\u001b[0;34m,\u001b[0m \u001b[0;34m**\u001b[0m\u001b[0mfit_params\u001b[0m\u001b[0;34m)\u001b[0m\u001b[0;34m\u001b[0m\u001b[0;34m\u001b[0m\u001b[0m\n\u001b[0m\u001b[1;32m    532\u001b[0m \u001b[0;34m\u001b[0m\u001b[0m\n\u001b[1;32m    533\u001b[0m     \u001b[0;32mexcept\u001b[0m \u001b[0mException\u001b[0m \u001b[0;32mas\u001b[0m \u001b[0me\u001b[0m\u001b[0;34m:\u001b[0m\u001b[0;34m\u001b[0m\u001b[0;34m\u001b[0m\u001b[0m\n",
      "\u001b[0;32m/opt/conda/envs/Python-3.7-OpenCE/lib/python3.7/site-packages/sklearn/pipeline.py\u001b[0m in \u001b[0;36mfit\u001b[0;34m(self, X, y, **fit_params)\u001b[0m\n\u001b[1;32m    333\u001b[0m             \u001b[0;32mif\u001b[0m \u001b[0mself\u001b[0m\u001b[0;34m.\u001b[0m\u001b[0m_final_estimator\u001b[0m \u001b[0;34m!=\u001b[0m \u001b[0;34m'passthrough'\u001b[0m\u001b[0;34m:\u001b[0m\u001b[0;34m\u001b[0m\u001b[0;34m\u001b[0m\u001b[0m\n\u001b[1;32m    334\u001b[0m                 \u001b[0mfit_params_last_step\u001b[0m \u001b[0;34m=\u001b[0m \u001b[0mfit_params_steps\u001b[0m\u001b[0;34m[\u001b[0m\u001b[0mself\u001b[0m\u001b[0;34m.\u001b[0m\u001b[0msteps\u001b[0m\u001b[0;34m[\u001b[0m\u001b[0;34m-\u001b[0m\u001b[0;36m1\u001b[0m\u001b[0;34m]\u001b[0m\u001b[0;34m[\u001b[0m\u001b[0;36m0\u001b[0m\u001b[0;34m]\u001b[0m\u001b[0;34m]\u001b[0m\u001b[0;34m\u001b[0m\u001b[0;34m\u001b[0m\u001b[0m\n\u001b[0;32m--> 335\u001b[0;31m                 \u001b[0mself\u001b[0m\u001b[0;34m.\u001b[0m\u001b[0m_final_estimator\u001b[0m\u001b[0;34m.\u001b[0m\u001b[0mfit\u001b[0m\u001b[0;34m(\u001b[0m\u001b[0mXt\u001b[0m\u001b[0;34m,\u001b[0m \u001b[0my\u001b[0m\u001b[0;34m,\u001b[0m \u001b[0;34m**\u001b[0m\u001b[0mfit_params_last_step\u001b[0m\u001b[0;34m)\u001b[0m\u001b[0;34m\u001b[0m\u001b[0;34m\u001b[0m\u001b[0m\n\u001b[0m\u001b[1;32m    336\u001b[0m \u001b[0;34m\u001b[0m\u001b[0m\n\u001b[1;32m    337\u001b[0m         \u001b[0;32mreturn\u001b[0m \u001b[0mself\u001b[0m\u001b[0;34m\u001b[0m\u001b[0;34m\u001b[0m\u001b[0m\n",
      "\u001b[0;32m/opt/conda/envs/Python-3.7-OpenCE/lib/python3.7/site-packages/sklearn/ensemble/_forest.py\u001b[0m in \u001b[0;36mfit\u001b[0;34m(self, X, y, sample_weight)\u001b[0m\n\u001b[1;32m    390\u001b[0m                     \u001b[0mverbose\u001b[0m\u001b[0;34m=\u001b[0m\u001b[0mself\u001b[0m\u001b[0;34m.\u001b[0m\u001b[0mverbose\u001b[0m\u001b[0;34m,\u001b[0m \u001b[0mclass_weight\u001b[0m\u001b[0;34m=\u001b[0m\u001b[0mself\u001b[0m\u001b[0;34m.\u001b[0m\u001b[0mclass_weight\u001b[0m\u001b[0;34m,\u001b[0m\u001b[0;34m\u001b[0m\u001b[0;34m\u001b[0m\u001b[0m\n\u001b[1;32m    391\u001b[0m                     n_samples_bootstrap=n_samples_bootstrap)\n\u001b[0;32m--> 392\u001b[0;31m                 for i, t in enumerate(trees))\n\u001b[0m\u001b[1;32m    393\u001b[0m \u001b[0;34m\u001b[0m\u001b[0m\n\u001b[1;32m    394\u001b[0m             \u001b[0;31m# Collect newly grown trees\u001b[0m\u001b[0;34m\u001b[0m\u001b[0;34m\u001b[0m\u001b[0;34m\u001b[0m\u001b[0m\n",
      "\u001b[0;32m/opt/conda/envs/Python-3.7-OpenCE/lib/python3.7/site-packages/joblib/parallel.py\u001b[0m in \u001b[0;36m__call__\u001b[0;34m(self, iterable)\u001b[0m\n\u001b[1;32m   1049\u001b[0m                 \u001b[0mself\u001b[0m\u001b[0;34m.\u001b[0m\u001b[0m_iterating\u001b[0m \u001b[0;34m=\u001b[0m \u001b[0mself\u001b[0m\u001b[0;34m.\u001b[0m\u001b[0m_original_iterator\u001b[0m \u001b[0;32mis\u001b[0m \u001b[0;32mnot\u001b[0m \u001b[0;32mNone\u001b[0m\u001b[0;34m\u001b[0m\u001b[0;34m\u001b[0m\u001b[0m\n\u001b[1;32m   1050\u001b[0m \u001b[0;34m\u001b[0m\u001b[0m\n\u001b[0;32m-> 1051\u001b[0;31m             \u001b[0;32mwhile\u001b[0m \u001b[0mself\u001b[0m\u001b[0;34m.\u001b[0m\u001b[0mdispatch_one_batch\u001b[0m\u001b[0;34m(\u001b[0m\u001b[0miterator\u001b[0m\u001b[0;34m)\u001b[0m\u001b[0;34m:\u001b[0m\u001b[0;34m\u001b[0m\u001b[0;34m\u001b[0m\u001b[0m\n\u001b[0m\u001b[1;32m   1052\u001b[0m                 \u001b[0;32mpass\u001b[0m\u001b[0;34m\u001b[0m\u001b[0;34m\u001b[0m\u001b[0m\n\u001b[1;32m   1053\u001b[0m \u001b[0;34m\u001b[0m\u001b[0m\n",
      "\u001b[0;32m/opt/conda/envs/Python-3.7-OpenCE/lib/python3.7/site-packages/joblib/parallel.py\u001b[0m in \u001b[0;36mdispatch_one_batch\u001b[0;34m(self, iterator)\u001b[0m\n\u001b[1;32m    864\u001b[0m                 \u001b[0;32mreturn\u001b[0m \u001b[0;32mFalse\u001b[0m\u001b[0;34m\u001b[0m\u001b[0;34m\u001b[0m\u001b[0m\n\u001b[1;32m    865\u001b[0m             \u001b[0;32melse\u001b[0m\u001b[0;34m:\u001b[0m\u001b[0;34m\u001b[0m\u001b[0;34m\u001b[0m\u001b[0m\n\u001b[0;32m--> 866\u001b[0;31m                 \u001b[0mself\u001b[0m\u001b[0;34m.\u001b[0m\u001b[0m_dispatch\u001b[0m\u001b[0;34m(\u001b[0m\u001b[0mtasks\u001b[0m\u001b[0;34m)\u001b[0m\u001b[0;34m\u001b[0m\u001b[0;34m\u001b[0m\u001b[0m\n\u001b[0m\u001b[1;32m    867\u001b[0m                 \u001b[0;32mreturn\u001b[0m \u001b[0;32mTrue\u001b[0m\u001b[0;34m\u001b[0m\u001b[0;34m\u001b[0m\u001b[0m\n\u001b[1;32m    868\u001b[0m \u001b[0;34m\u001b[0m\u001b[0m\n",
      "\u001b[0;32m/opt/conda/envs/Python-3.7-OpenCE/lib/python3.7/site-packages/joblib/parallel.py\u001b[0m in \u001b[0;36m_dispatch\u001b[0;34m(self, batch)\u001b[0m\n\u001b[1;32m    782\u001b[0m         \u001b[0;32mwith\u001b[0m \u001b[0mself\u001b[0m\u001b[0;34m.\u001b[0m\u001b[0m_lock\u001b[0m\u001b[0;34m:\u001b[0m\u001b[0;34m\u001b[0m\u001b[0;34m\u001b[0m\u001b[0m\n\u001b[1;32m    783\u001b[0m             \u001b[0mjob_idx\u001b[0m \u001b[0;34m=\u001b[0m \u001b[0mlen\u001b[0m\u001b[0;34m(\u001b[0m\u001b[0mself\u001b[0m\u001b[0;34m.\u001b[0m\u001b[0m_jobs\u001b[0m\u001b[0;34m)\u001b[0m\u001b[0;34m\u001b[0m\u001b[0;34m\u001b[0m\u001b[0m\n\u001b[0;32m--> 784\u001b[0;31m             \u001b[0mjob\u001b[0m \u001b[0;34m=\u001b[0m \u001b[0mself\u001b[0m\u001b[0;34m.\u001b[0m\u001b[0m_backend\u001b[0m\u001b[0;34m.\u001b[0m\u001b[0mapply_async\u001b[0m\u001b[0;34m(\u001b[0m\u001b[0mbatch\u001b[0m\u001b[0;34m,\u001b[0m \u001b[0mcallback\u001b[0m\u001b[0;34m=\u001b[0m\u001b[0mcb\u001b[0m\u001b[0;34m)\u001b[0m\u001b[0;34m\u001b[0m\u001b[0;34m\u001b[0m\u001b[0m\n\u001b[0m\u001b[1;32m    785\u001b[0m             \u001b[0;31m# A job can complete so quickly than its callback is\u001b[0m\u001b[0;34m\u001b[0m\u001b[0;34m\u001b[0m\u001b[0;34m\u001b[0m\u001b[0m\n\u001b[1;32m    786\u001b[0m             \u001b[0;31m# called before we get here, causing self._jobs to\u001b[0m\u001b[0;34m\u001b[0m\u001b[0;34m\u001b[0m\u001b[0;34m\u001b[0m\u001b[0m\n",
      "\u001b[0;32m/opt/conda/envs/Python-3.7-OpenCE/lib/python3.7/site-packages/joblib/_parallel_backends.py\u001b[0m in \u001b[0;36mapply_async\u001b[0;34m(self, func, callback)\u001b[0m\n\u001b[1;32m    206\u001b[0m     \u001b[0;32mdef\u001b[0m \u001b[0mapply_async\u001b[0m\u001b[0;34m(\u001b[0m\u001b[0mself\u001b[0m\u001b[0;34m,\u001b[0m \u001b[0mfunc\u001b[0m\u001b[0;34m,\u001b[0m \u001b[0mcallback\u001b[0m\u001b[0;34m=\u001b[0m\u001b[0;32mNone\u001b[0m\u001b[0;34m)\u001b[0m\u001b[0;34m:\u001b[0m\u001b[0;34m\u001b[0m\u001b[0;34m\u001b[0m\u001b[0m\n\u001b[1;32m    207\u001b[0m         \u001b[0;34m\"\"\"Schedule a func to be run\"\"\"\u001b[0m\u001b[0;34m\u001b[0m\u001b[0;34m\u001b[0m\u001b[0m\n\u001b[0;32m--> 208\u001b[0;31m         \u001b[0mresult\u001b[0m \u001b[0;34m=\u001b[0m \u001b[0mImmediateResult\u001b[0m\u001b[0;34m(\u001b[0m\u001b[0mfunc\u001b[0m\u001b[0;34m)\u001b[0m\u001b[0;34m\u001b[0m\u001b[0;34m\u001b[0m\u001b[0m\n\u001b[0m\u001b[1;32m    209\u001b[0m         \u001b[0;32mif\u001b[0m \u001b[0mcallback\u001b[0m\u001b[0;34m:\u001b[0m\u001b[0;34m\u001b[0m\u001b[0;34m\u001b[0m\u001b[0m\n\u001b[1;32m    210\u001b[0m             \u001b[0mcallback\u001b[0m\u001b[0;34m(\u001b[0m\u001b[0mresult\u001b[0m\u001b[0;34m)\u001b[0m\u001b[0;34m\u001b[0m\u001b[0;34m\u001b[0m\u001b[0m\n",
      "\u001b[0;32m/opt/conda/envs/Python-3.7-OpenCE/lib/python3.7/site-packages/joblib/_parallel_backends.py\u001b[0m in \u001b[0;36m__init__\u001b[0;34m(self, batch)\u001b[0m\n\u001b[1;32m    570\u001b[0m         \u001b[0;31m# Don't delay the application, to avoid keeping the input\u001b[0m\u001b[0;34m\u001b[0m\u001b[0;34m\u001b[0m\u001b[0;34m\u001b[0m\u001b[0m\n\u001b[1;32m    571\u001b[0m         \u001b[0;31m# arguments in memory\u001b[0m\u001b[0;34m\u001b[0m\u001b[0;34m\u001b[0m\u001b[0;34m\u001b[0m\u001b[0m\n\u001b[0;32m--> 572\u001b[0;31m         \u001b[0mself\u001b[0m\u001b[0;34m.\u001b[0m\u001b[0mresults\u001b[0m \u001b[0;34m=\u001b[0m \u001b[0mbatch\u001b[0m\u001b[0;34m(\u001b[0m\u001b[0;34m)\u001b[0m\u001b[0;34m\u001b[0m\u001b[0;34m\u001b[0m\u001b[0m\n\u001b[0m\u001b[1;32m    573\u001b[0m \u001b[0;34m\u001b[0m\u001b[0m\n\u001b[1;32m    574\u001b[0m     \u001b[0;32mdef\u001b[0m \u001b[0mget\u001b[0m\u001b[0;34m(\u001b[0m\u001b[0mself\u001b[0m\u001b[0;34m)\u001b[0m\u001b[0;34m:\u001b[0m\u001b[0;34m\u001b[0m\u001b[0;34m\u001b[0m\u001b[0m\n",
      "\u001b[0;32m/opt/conda/envs/Python-3.7-OpenCE/lib/python3.7/site-packages/joblib/parallel.py\u001b[0m in \u001b[0;36m__call__\u001b[0;34m(self)\u001b[0m\n\u001b[1;32m    261\u001b[0m         \u001b[0;32mwith\u001b[0m \u001b[0mparallel_backend\u001b[0m\u001b[0;34m(\u001b[0m\u001b[0mself\u001b[0m\u001b[0;34m.\u001b[0m\u001b[0m_backend\u001b[0m\u001b[0;34m,\u001b[0m \u001b[0mn_jobs\u001b[0m\u001b[0;34m=\u001b[0m\u001b[0mself\u001b[0m\u001b[0;34m.\u001b[0m\u001b[0m_n_jobs\u001b[0m\u001b[0;34m)\u001b[0m\u001b[0;34m:\u001b[0m\u001b[0;34m\u001b[0m\u001b[0;34m\u001b[0m\u001b[0m\n\u001b[1;32m    262\u001b[0m             return [func(*args, **kwargs)\n\u001b[0;32m--> 263\u001b[0;31m                     for func, args, kwargs in self.items]\n\u001b[0m\u001b[1;32m    264\u001b[0m \u001b[0;34m\u001b[0m\u001b[0m\n\u001b[1;32m    265\u001b[0m     \u001b[0;32mdef\u001b[0m \u001b[0m__reduce__\u001b[0m\u001b[0;34m(\u001b[0m\u001b[0mself\u001b[0m\u001b[0;34m)\u001b[0m\u001b[0;34m:\u001b[0m\u001b[0;34m\u001b[0m\u001b[0;34m\u001b[0m\u001b[0m\n",
      "\u001b[0;32m/opt/conda/envs/Python-3.7-OpenCE/lib/python3.7/site-packages/joblib/parallel.py\u001b[0m in \u001b[0;36m<listcomp>\u001b[0;34m(.0)\u001b[0m\n\u001b[1;32m    261\u001b[0m         \u001b[0;32mwith\u001b[0m \u001b[0mparallel_backend\u001b[0m\u001b[0;34m(\u001b[0m\u001b[0mself\u001b[0m\u001b[0;34m.\u001b[0m\u001b[0m_backend\u001b[0m\u001b[0;34m,\u001b[0m \u001b[0mn_jobs\u001b[0m\u001b[0;34m=\u001b[0m\u001b[0mself\u001b[0m\u001b[0;34m.\u001b[0m\u001b[0m_n_jobs\u001b[0m\u001b[0;34m)\u001b[0m\u001b[0;34m:\u001b[0m\u001b[0;34m\u001b[0m\u001b[0;34m\u001b[0m\u001b[0m\n\u001b[1;32m    262\u001b[0m             return [func(*args, **kwargs)\n\u001b[0;32m--> 263\u001b[0;31m                     for func, args, kwargs in self.items]\n\u001b[0m\u001b[1;32m    264\u001b[0m \u001b[0;34m\u001b[0m\u001b[0m\n\u001b[1;32m    265\u001b[0m     \u001b[0;32mdef\u001b[0m \u001b[0m__reduce__\u001b[0m\u001b[0;34m(\u001b[0m\u001b[0mself\u001b[0m\u001b[0;34m)\u001b[0m\u001b[0;34m:\u001b[0m\u001b[0;34m\u001b[0m\u001b[0;34m\u001b[0m\u001b[0m\n",
      "\u001b[0;32m/opt/conda/envs/Python-3.7-OpenCE/lib/python3.7/site-packages/sklearn/ensemble/_forest.py\u001b[0m in \u001b[0;36m_parallel_build_trees\u001b[0;34m(tree, forest, X, y, sample_weight, tree_idx, n_trees, verbose, class_weight, n_samples_bootstrap)\u001b[0m\n\u001b[1;32m    166\u001b[0m                                                         indices=indices)\n\u001b[1;32m    167\u001b[0m \u001b[0;34m\u001b[0m\u001b[0m\n\u001b[0;32m--> 168\u001b[0;31m         \u001b[0mtree\u001b[0m\u001b[0;34m.\u001b[0m\u001b[0mfit\u001b[0m\u001b[0;34m(\u001b[0m\u001b[0mX\u001b[0m\u001b[0;34m,\u001b[0m \u001b[0my\u001b[0m\u001b[0;34m,\u001b[0m \u001b[0msample_weight\u001b[0m\u001b[0;34m=\u001b[0m\u001b[0mcurr_sample_weight\u001b[0m\u001b[0;34m,\u001b[0m \u001b[0mcheck_input\u001b[0m\u001b[0;34m=\u001b[0m\u001b[0;32mFalse\u001b[0m\u001b[0;34m)\u001b[0m\u001b[0;34m\u001b[0m\u001b[0;34m\u001b[0m\u001b[0m\n\u001b[0m\u001b[1;32m    169\u001b[0m     \u001b[0;32melse\u001b[0m\u001b[0;34m:\u001b[0m\u001b[0;34m\u001b[0m\u001b[0;34m\u001b[0m\u001b[0m\n\u001b[1;32m    170\u001b[0m         \u001b[0mtree\u001b[0m\u001b[0;34m.\u001b[0m\u001b[0mfit\u001b[0m\u001b[0;34m(\u001b[0m\u001b[0mX\u001b[0m\u001b[0;34m,\u001b[0m \u001b[0my\u001b[0m\u001b[0;34m,\u001b[0m \u001b[0msample_weight\u001b[0m\u001b[0;34m=\u001b[0m\u001b[0msample_weight\u001b[0m\u001b[0;34m,\u001b[0m \u001b[0mcheck_input\u001b[0m\u001b[0;34m=\u001b[0m\u001b[0;32mFalse\u001b[0m\u001b[0;34m)\u001b[0m\u001b[0;34m\u001b[0m\u001b[0;34m\u001b[0m\u001b[0m\n",
      "\u001b[0;32m/opt/conda/envs/Python-3.7-OpenCE/lib/python3.7/site-packages/sklearn/tree/_classes.py\u001b[0m in \u001b[0;36mfit\u001b[0;34m(self, X, y, sample_weight, check_input, X_idx_sorted)\u001b[0m\n\u001b[1;32m   1244\u001b[0m             \u001b[0msample_weight\u001b[0m\u001b[0;34m=\u001b[0m\u001b[0msample_weight\u001b[0m\u001b[0;34m,\u001b[0m\u001b[0;34m\u001b[0m\u001b[0;34m\u001b[0m\u001b[0m\n\u001b[1;32m   1245\u001b[0m             \u001b[0mcheck_input\u001b[0m\u001b[0;34m=\u001b[0m\u001b[0mcheck_input\u001b[0m\u001b[0;34m,\u001b[0m\u001b[0;34m\u001b[0m\u001b[0;34m\u001b[0m\u001b[0m\n\u001b[0;32m-> 1246\u001b[0;31m             X_idx_sorted=X_idx_sorted)\n\u001b[0m\u001b[1;32m   1247\u001b[0m         \u001b[0;32mreturn\u001b[0m \u001b[0mself\u001b[0m\u001b[0;34m\u001b[0m\u001b[0;34m\u001b[0m\u001b[0m\n\u001b[1;32m   1248\u001b[0m \u001b[0;34m\u001b[0m\u001b[0m\n",
      "\u001b[0;32m/opt/conda/envs/Python-3.7-OpenCE/lib/python3.7/site-packages/sklearn/tree/_classes.py\u001b[0m in \u001b[0;36mfit\u001b[0;34m(self, X, y, sample_weight, check_input, X_idx_sorted)\u001b[0m\n\u001b[1;32m    373\u001b[0m                                            min_impurity_split)\n\u001b[1;32m    374\u001b[0m \u001b[0;34m\u001b[0m\u001b[0m\n\u001b[0;32m--> 375\u001b[0;31m         \u001b[0mbuilder\u001b[0m\u001b[0;34m.\u001b[0m\u001b[0mbuild\u001b[0m\u001b[0;34m(\u001b[0m\u001b[0mself\u001b[0m\u001b[0;34m.\u001b[0m\u001b[0mtree_\u001b[0m\u001b[0;34m,\u001b[0m \u001b[0mX\u001b[0m\u001b[0;34m,\u001b[0m \u001b[0my\u001b[0m\u001b[0;34m,\u001b[0m \u001b[0msample_weight\u001b[0m\u001b[0;34m,\u001b[0m \u001b[0mX_idx_sorted\u001b[0m\u001b[0;34m)\u001b[0m\u001b[0;34m\u001b[0m\u001b[0;34m\u001b[0m\u001b[0m\n\u001b[0m\u001b[1;32m    376\u001b[0m \u001b[0;34m\u001b[0m\u001b[0m\n\u001b[1;32m    377\u001b[0m         \u001b[0;32mif\u001b[0m \u001b[0mself\u001b[0m\u001b[0;34m.\u001b[0m\u001b[0mn_outputs_\u001b[0m \u001b[0;34m==\u001b[0m \u001b[0;36m1\u001b[0m \u001b[0;32mand\u001b[0m \u001b[0mis_classifier\u001b[0m\u001b[0;34m(\u001b[0m\u001b[0mself\u001b[0m\u001b[0;34m)\u001b[0m\u001b[0;34m:\u001b[0m\u001b[0;34m\u001b[0m\u001b[0;34m\u001b[0m\u001b[0m\n",
      "\u001b[0;31mKeyboardInterrupt\u001b[0m: "
     ]
    }
   ],
   "source": [
    "\n",
    "# Number of features to consider at every split\n",
    "max_features = ['auto', 'sqrt']\n",
    "# Maximum number of levels in tree\n",
    "max_depth = [int(x) for x in np.linspace(60, 110, num = 11)]\n",
    "max_depth.append(None)\n",
    "# Minimum number of samples required to split a node\n",
    "min_samples_split = [2, 5]\n",
    "# Minimum number of samples required at each leaf node\n",
    "min_samples_leaf = [1, 2]\n",
    "# Create the random grid\n",
    "random_grid = {\n",
    "               'rf__max_features': max_features,\n",
    "               'rf__max_depth': max_depth,\n",
    "               'rf__min_samples_split': min_samples_split,\n",
    "               'rf__min_samples_leaf': min_samples_leaf}\n",
    "pprint(random_grid)\n",
    "\n",
    "# Random search of parameters, using 3 fold cross validation, \n",
    "# search across 100 different combinations, and use all available cores\n",
    "rf_random = RandomizedSearchCV(estimator = pipeline, param_distributions = random_grid, n_iter = 100, cv = 3, verbose=2, random_state=42, n_jobs = -1)\n",
    "# Fit the random search model\n",
    "rf_random.fit(X_train, y_train)"
   ]
  },
  {
   "cell_type": "code",
   "execution_count": null,
   "metadata": {
    "id": "8655611e-faba-4110-b69d-3521aea4275a",
    "tags": []
   },
   "outputs": [],
   "source": [
    "#find best params of fit\n",
    "rf_random.best_params_\n"
   ]
  },
  {
   "cell_type": "markdown",
   "metadata": {
    "id": "a26df1fe-3caa-4de2-a1c7-c6dd3121ab68"
   },
   "source": [
    "# Grid Search"
   ]
  },
  {
   "cell_type": "code",
   "execution_count": 126,
   "metadata": {
    "id": "0e9fda6e-986f-4788-88e0-fe37c956f5c9",
    "tags": []
   },
   "outputs": [],
   "source": [
    "from sklearn.model_selection import GridSearchCV"
   ]
  },
  {
   "cell_type": "markdown",
   "metadata": {
    "id": "c3673686-4a46-4031-9b8e-d219eef88d90"
   },
   "source": [
    "### Paramter tuning"
   ]
  },
  {
   "cell_type": "code",
   "execution_count": 36,
   "metadata": {
    "id": "d6982162-a62f-4c51-a908-fe0a7a6084a3",
    "tags": []
   },
   "outputs": [
    {
     "name": "stdout",
     "output_type": "stream",
     "text": [
      "Fitting 3 folds for each of 72 candidates, totalling 216 fits\n",
      "[CV] rf__max_depth=80, rf__max_features=2, rf__min_samples_leaf=3, rf__min_samples_split=8 \n"
     ]
    },
    {
     "name": "stderr",
     "output_type": "stream",
     "text": [
      "[Parallel(n_jobs=-1)]: Using backend SequentialBackend with 1 concurrent workers.\n"
     ]
    },
    {
     "name": "stdout",
     "output_type": "stream",
     "text": [
      "[CV]  rf__max_depth=80, rf__max_features=2, rf__min_samples_leaf=3, rf__min_samples_split=8, total=   1.5s\n",
      "[CV] rf__max_depth=80, rf__max_features=2, rf__min_samples_leaf=3, rf__min_samples_split=8 \n"
     ]
    },
    {
     "name": "stderr",
     "output_type": "stream",
     "text": [
      "[Parallel(n_jobs=-1)]: Done   1 out of   1 | elapsed:    1.9s remaining:    0.0s\n"
     ]
    },
    {
     "name": "stdout",
     "output_type": "stream",
     "text": [
      "[CV]  rf__max_depth=80, rf__max_features=2, rf__min_samples_leaf=3, rf__min_samples_split=8, total=   1.5s\n",
      "[CV] rf__max_depth=80, rf__max_features=2, rf__min_samples_leaf=3, rf__min_samples_split=8 \n",
      "[CV]  rf__max_depth=80, rf__max_features=2, rf__min_samples_leaf=3, rf__min_samples_split=8, total=   1.4s\n",
      "[CV] rf__max_depth=80, rf__max_features=2, rf__min_samples_leaf=3, rf__min_samples_split=10 \n",
      "[CV]  rf__max_depth=80, rf__max_features=2, rf__min_samples_leaf=3, rf__min_samples_split=10, total=   1.4s\n",
      "[CV] rf__max_depth=80, rf__max_features=2, rf__min_samples_leaf=3, rf__min_samples_split=10 \n",
      "[CV]  rf__max_depth=80, rf__max_features=2, rf__min_samples_leaf=3, rf__min_samples_split=10, total=   1.3s\n",
      "[CV] rf__max_depth=80, rf__max_features=2, rf__min_samples_leaf=3, rf__min_samples_split=10 \n",
      "[CV]  rf__max_depth=80, rf__max_features=2, rf__min_samples_leaf=3, rf__min_samples_split=10, total=   1.5s\n",
      "[CV] rf__max_depth=80, rf__max_features=2, rf__min_samples_leaf=3, rf__min_samples_split=12 \n",
      "[CV]  rf__max_depth=80, rf__max_features=2, rf__min_samples_leaf=3, rf__min_samples_split=12, total=   1.3s\n",
      "[CV] rf__max_depth=80, rf__max_features=2, rf__min_samples_leaf=3, rf__min_samples_split=12 \n",
      "[CV]  rf__max_depth=80, rf__max_features=2, rf__min_samples_leaf=3, rf__min_samples_split=12, total=   1.5s\n",
      "[CV] rf__max_depth=80, rf__max_features=2, rf__min_samples_leaf=3, rf__min_samples_split=12 \n",
      "[CV]  rf__max_depth=80, rf__max_features=2, rf__min_samples_leaf=3, rf__min_samples_split=12, total=   1.7s\n",
      "[CV] rf__max_depth=80, rf__max_features=2, rf__min_samples_leaf=4, rf__min_samples_split=8 \n",
      "[CV]  rf__max_depth=80, rf__max_features=2, rf__min_samples_leaf=4, rf__min_samples_split=8, total=   1.4s\n",
      "[CV] rf__max_depth=80, rf__max_features=2, rf__min_samples_leaf=4, rf__min_samples_split=8 \n",
      "[CV]  rf__max_depth=80, rf__max_features=2, rf__min_samples_leaf=4, rf__min_samples_split=8, total=   1.4s\n",
      "[CV] rf__max_depth=80, rf__max_features=2, rf__min_samples_leaf=4, rf__min_samples_split=8 \n",
      "[CV]  rf__max_depth=80, rf__max_features=2, rf__min_samples_leaf=4, rf__min_samples_split=8, total=   1.6s\n",
      "[CV] rf__max_depth=80, rf__max_features=2, rf__min_samples_leaf=4, rf__min_samples_split=10 \n",
      "[CV]  rf__max_depth=80, rf__max_features=2, rf__min_samples_leaf=4, rf__min_samples_split=10, total=   1.3s\n",
      "[CV] rf__max_depth=80, rf__max_features=2, rf__min_samples_leaf=4, rf__min_samples_split=10 \n",
      "[CV]  rf__max_depth=80, rf__max_features=2, rf__min_samples_leaf=4, rf__min_samples_split=10, total=   1.4s\n",
      "[CV] rf__max_depth=80, rf__max_features=2, rf__min_samples_leaf=4, rf__min_samples_split=10 \n",
      "[CV]  rf__max_depth=80, rf__max_features=2, rf__min_samples_leaf=4, rf__min_samples_split=10, total=   1.4s\n",
      "[CV] rf__max_depth=80, rf__max_features=2, rf__min_samples_leaf=4, rf__min_samples_split=12 \n",
      "[CV]  rf__max_depth=80, rf__max_features=2, rf__min_samples_leaf=4, rf__min_samples_split=12, total=   1.5s\n",
      "[CV] rf__max_depth=80, rf__max_features=2, rf__min_samples_leaf=4, rf__min_samples_split=12 \n",
      "[CV]  rf__max_depth=80, rf__max_features=2, rf__min_samples_leaf=4, rf__min_samples_split=12, total=   1.3s\n",
      "[CV] rf__max_depth=80, rf__max_features=2, rf__min_samples_leaf=4, rf__min_samples_split=12 \n",
      "[CV]  rf__max_depth=80, rf__max_features=2, rf__min_samples_leaf=4, rf__min_samples_split=12, total=   1.3s\n",
      "[CV] rf__max_depth=80, rf__max_features=2, rf__min_samples_leaf=5, rf__min_samples_split=8 \n",
      "[CV]  rf__max_depth=80, rf__max_features=2, rf__min_samples_leaf=5, rf__min_samples_split=8, total=   1.4s\n",
      "[CV] rf__max_depth=80, rf__max_features=2, rf__min_samples_leaf=5, rf__min_samples_split=8 \n",
      "[CV]  rf__max_depth=80, rf__max_features=2, rf__min_samples_leaf=5, rf__min_samples_split=8, total=   1.3s\n",
      "[CV] rf__max_depth=80, rf__max_features=2, rf__min_samples_leaf=5, rf__min_samples_split=8 \n",
      "[CV]  rf__max_depth=80, rf__max_features=2, rf__min_samples_leaf=5, rf__min_samples_split=8, total=   1.3s\n",
      "[CV] rf__max_depth=80, rf__max_features=2, rf__min_samples_leaf=5, rf__min_samples_split=10 \n",
      "[CV]  rf__max_depth=80, rf__max_features=2, rf__min_samples_leaf=5, rf__min_samples_split=10, total=   1.3s\n",
      "[CV] rf__max_depth=80, rf__max_features=2, rf__min_samples_leaf=5, rf__min_samples_split=10 \n",
      "[CV]  rf__max_depth=80, rf__max_features=2, rf__min_samples_leaf=5, rf__min_samples_split=10, total=   1.4s\n",
      "[CV] rf__max_depth=80, rf__max_features=2, rf__min_samples_leaf=5, rf__min_samples_split=10 \n",
      "[CV]  rf__max_depth=80, rf__max_features=2, rf__min_samples_leaf=5, rf__min_samples_split=10, total=   1.4s\n",
      "[CV] rf__max_depth=80, rf__max_features=2, rf__min_samples_leaf=5, rf__min_samples_split=12 \n",
      "[CV]  rf__max_depth=80, rf__max_features=2, rf__min_samples_leaf=5, rf__min_samples_split=12, total=   1.3s\n",
      "[CV] rf__max_depth=80, rf__max_features=2, rf__min_samples_leaf=5, rf__min_samples_split=12 \n",
      "[CV]  rf__max_depth=80, rf__max_features=2, rf__min_samples_leaf=5, rf__min_samples_split=12, total=   1.2s\n",
      "[CV] rf__max_depth=80, rf__max_features=2, rf__min_samples_leaf=5, rf__min_samples_split=12 \n",
      "[CV]  rf__max_depth=80, rf__max_features=2, rf__min_samples_leaf=5, rf__min_samples_split=12, total=   1.4s\n",
      "[CV] rf__max_depth=80, rf__max_features=3, rf__min_samples_leaf=3, rf__min_samples_split=8 \n",
      "[CV]  rf__max_depth=80, rf__max_features=3, rf__min_samples_leaf=3, rf__min_samples_split=8, total=   1.7s\n",
      "[CV] rf__max_depth=80, rf__max_features=3, rf__min_samples_leaf=3, rf__min_samples_split=8 \n",
      "[CV]  rf__max_depth=80, rf__max_features=3, rf__min_samples_leaf=3, rf__min_samples_split=8, total=   1.7s\n",
      "[CV] rf__max_depth=80, rf__max_features=3, rf__min_samples_leaf=3, rf__min_samples_split=8 \n",
      "[CV]  rf__max_depth=80, rf__max_features=3, rf__min_samples_leaf=3, rf__min_samples_split=8, total=   1.8s\n",
      "[CV] rf__max_depth=80, rf__max_features=3, rf__min_samples_leaf=3, rf__min_samples_split=10 \n",
      "[CV]  rf__max_depth=80, rf__max_features=3, rf__min_samples_leaf=3, rf__min_samples_split=10, total=   1.6s\n",
      "[CV] rf__max_depth=80, rf__max_features=3, rf__min_samples_leaf=3, rf__min_samples_split=10 \n",
      "[CV]  rf__max_depth=80, rf__max_features=3, rf__min_samples_leaf=3, rf__min_samples_split=10, total=   1.8s\n",
      "[CV] rf__max_depth=80, rf__max_features=3, rf__min_samples_leaf=3, rf__min_samples_split=10 \n",
      "[CV]  rf__max_depth=80, rf__max_features=3, rf__min_samples_leaf=3, rf__min_samples_split=10, total=   1.6s\n",
      "[CV] rf__max_depth=80, rf__max_features=3, rf__min_samples_leaf=3, rf__min_samples_split=12 \n",
      "[CV]  rf__max_depth=80, rf__max_features=3, rf__min_samples_leaf=3, rf__min_samples_split=12, total=   1.7s\n",
      "[CV] rf__max_depth=80, rf__max_features=3, rf__min_samples_leaf=3, rf__min_samples_split=12 \n",
      "[CV]  rf__max_depth=80, rf__max_features=3, rf__min_samples_leaf=3, rf__min_samples_split=12, total=   1.7s\n",
      "[CV] rf__max_depth=80, rf__max_features=3, rf__min_samples_leaf=3, rf__min_samples_split=12 \n",
      "[CV]  rf__max_depth=80, rf__max_features=3, rf__min_samples_leaf=3, rf__min_samples_split=12, total=   1.6s\n",
      "[CV] rf__max_depth=80, rf__max_features=3, rf__min_samples_leaf=4, rf__min_samples_split=8 \n",
      "[CV]  rf__max_depth=80, rf__max_features=3, rf__min_samples_leaf=4, rf__min_samples_split=8, total=   1.8s\n",
      "[CV] rf__max_depth=80, rf__max_features=3, rf__min_samples_leaf=4, rf__min_samples_split=8 \n",
      "[CV]  rf__max_depth=80, rf__max_features=3, rf__min_samples_leaf=4, rf__min_samples_split=8, total=   1.7s\n",
      "[CV] rf__max_depth=80, rf__max_features=3, rf__min_samples_leaf=4, rf__min_samples_split=8 \n",
      "[CV]  rf__max_depth=80, rf__max_features=3, rf__min_samples_leaf=4, rf__min_samples_split=8, total=   1.6s\n",
      "[CV] rf__max_depth=80, rf__max_features=3, rf__min_samples_leaf=4, rf__min_samples_split=10 \n",
      "[CV]  rf__max_depth=80, rf__max_features=3, rf__min_samples_leaf=4, rf__min_samples_split=10, total=   1.7s\n",
      "[CV] rf__max_depth=80, rf__max_features=3, rf__min_samples_leaf=4, rf__min_samples_split=10 \n",
      "[CV]  rf__max_depth=80, rf__max_features=3, rf__min_samples_leaf=4, rf__min_samples_split=10, total=   1.7s\n",
      "[CV] rf__max_depth=80, rf__max_features=3, rf__min_samples_leaf=4, rf__min_samples_split=10 \n",
      "[CV]  rf__max_depth=80, rf__max_features=3, rf__min_samples_leaf=4, rf__min_samples_split=10, total=   1.6s\n",
      "[CV] rf__max_depth=80, rf__max_features=3, rf__min_samples_leaf=4, rf__min_samples_split=12 \n",
      "[CV]  rf__max_depth=80, rf__max_features=3, rf__min_samples_leaf=4, rf__min_samples_split=12, total=   1.6s\n",
      "[CV] rf__max_depth=80, rf__max_features=3, rf__min_samples_leaf=4, rf__min_samples_split=12 \n",
      "[CV]  rf__max_depth=80, rf__max_features=3, rf__min_samples_leaf=4, rf__min_samples_split=12, total=   1.6s\n",
      "[CV] rf__max_depth=80, rf__max_features=3, rf__min_samples_leaf=4, rf__min_samples_split=12 \n",
      "[CV]  rf__max_depth=80, rf__max_features=3, rf__min_samples_leaf=4, rf__min_samples_split=12, total=   1.5s\n",
      "[CV] rf__max_depth=80, rf__max_features=3, rf__min_samples_leaf=5, rf__min_samples_split=8 \n",
      "[CV]  rf__max_depth=80, rf__max_features=3, rf__min_samples_leaf=5, rf__min_samples_split=8, total=   1.8s\n",
      "[CV] rf__max_depth=80, rf__max_features=3, rf__min_samples_leaf=5, rf__min_samples_split=8 \n",
      "[CV]  rf__max_depth=80, rf__max_features=3, rf__min_samples_leaf=5, rf__min_samples_split=8, total=   1.6s\n",
      "[CV] rf__max_depth=80, rf__max_features=3, rf__min_samples_leaf=5, rf__min_samples_split=8 \n",
      "[CV]  rf__max_depth=80, rf__max_features=3, rf__min_samples_leaf=5, rf__min_samples_split=8, total=   1.6s\n",
      "[CV] rf__max_depth=80, rf__max_features=3, rf__min_samples_leaf=5, rf__min_samples_split=10 \n",
      "[CV]  rf__max_depth=80, rf__max_features=3, rf__min_samples_leaf=5, rf__min_samples_split=10, total=   1.6s\n",
      "[CV] rf__max_depth=80, rf__max_features=3, rf__min_samples_leaf=5, rf__min_samples_split=10 \n",
      "[CV]  rf__max_depth=80, rf__max_features=3, rf__min_samples_leaf=5, rf__min_samples_split=10, total=   1.7s\n",
      "[CV] rf__max_depth=80, rf__max_features=3, rf__min_samples_leaf=5, rf__min_samples_split=10 \n",
      "[CV]  rf__max_depth=80, rf__max_features=3, rf__min_samples_leaf=5, rf__min_samples_split=10, total=   1.6s\n",
      "[CV] rf__max_depth=80, rf__max_features=3, rf__min_samples_leaf=5, rf__min_samples_split=12 \n",
      "[CV]  rf__max_depth=80, rf__max_features=3, rf__min_samples_leaf=5, rf__min_samples_split=12, total=   1.9s\n",
      "[CV] rf__max_depth=80, rf__max_features=3, rf__min_samples_leaf=5, rf__min_samples_split=12 \n",
      "[CV]  rf__max_depth=80, rf__max_features=3, rf__min_samples_leaf=5, rf__min_samples_split=12, total=   1.6s\n",
      "[CV] rf__max_depth=80, rf__max_features=3, rf__min_samples_leaf=5, rf__min_samples_split=12 \n",
      "[CV]  rf__max_depth=80, rf__max_features=3, rf__min_samples_leaf=5, rf__min_samples_split=12, total=   1.7s\n",
      "[CV] rf__max_depth=90, rf__max_features=2, rf__min_samples_leaf=3, rf__min_samples_split=8 \n",
      "[CV]  rf__max_depth=90, rf__max_features=2, rf__min_samples_leaf=3, rf__min_samples_split=8, total=   1.7s\n",
      "[CV] rf__max_depth=90, rf__max_features=2, rf__min_samples_leaf=3, rf__min_samples_split=8 \n",
      "[CV]  rf__max_depth=90, rf__max_features=2, rf__min_samples_leaf=3, rf__min_samples_split=8, total=   1.6s\n",
      "[CV] rf__max_depth=90, rf__max_features=2, rf__min_samples_leaf=3, rf__min_samples_split=8 \n",
      "[CV]  rf__max_depth=90, rf__max_features=2, rf__min_samples_leaf=3, rf__min_samples_split=8, total=   1.4s\n",
      "[CV] rf__max_depth=90, rf__max_features=2, rf__min_samples_leaf=3, rf__min_samples_split=10 \n",
      "[CV]  rf__max_depth=90, rf__max_features=2, rf__min_samples_leaf=3, rf__min_samples_split=10, total=   1.6s\n",
      "[CV] rf__max_depth=90, rf__max_features=2, rf__min_samples_leaf=3, rf__min_samples_split=10 \n",
      "[CV]  rf__max_depth=90, rf__max_features=2, rf__min_samples_leaf=3, rf__min_samples_split=10, total=   1.4s\n",
      "[CV] rf__max_depth=90, rf__max_features=2, rf__min_samples_leaf=3, rf__min_samples_split=10 \n",
      "[CV]  rf__max_depth=90, rf__max_features=2, rf__min_samples_leaf=3, rf__min_samples_split=10, total=   1.4s\n",
      "[CV] rf__max_depth=90, rf__max_features=2, rf__min_samples_leaf=3, rf__min_samples_split=12 \n",
      "[CV]  rf__max_depth=90, rf__max_features=2, rf__min_samples_leaf=3, rf__min_samples_split=12, total=   1.3s\n",
      "[CV] rf__max_depth=90, rf__max_features=2, rf__min_samples_leaf=3, rf__min_samples_split=12 \n",
      "[CV]  rf__max_depth=90, rf__max_features=2, rf__min_samples_leaf=3, rf__min_samples_split=12, total=   1.6s\n",
      "[CV] rf__max_depth=90, rf__max_features=2, rf__min_samples_leaf=3, rf__min_samples_split=12 \n",
      "[CV]  rf__max_depth=90, rf__max_features=2, rf__min_samples_leaf=3, rf__min_samples_split=12, total=   1.3s\n",
      "[CV] rf__max_depth=90, rf__max_features=2, rf__min_samples_leaf=4, rf__min_samples_split=8 \n",
      "[CV]  rf__max_depth=90, rf__max_features=2, rf__min_samples_leaf=4, rf__min_samples_split=8, total=   1.4s\n",
      "[CV] rf__max_depth=90, rf__max_features=2, rf__min_samples_leaf=4, rf__min_samples_split=8 \n",
      "[CV]  rf__max_depth=90, rf__max_features=2, rf__min_samples_leaf=4, rf__min_samples_split=8, total=   1.3s\n",
      "[CV] rf__max_depth=90, rf__max_features=2, rf__min_samples_leaf=4, rf__min_samples_split=8 \n",
      "[CV]  rf__max_depth=90, rf__max_features=2, rf__min_samples_leaf=4, rf__min_samples_split=8, total=   1.3s\n",
      "[CV] rf__max_depth=90, rf__max_features=2, rf__min_samples_leaf=4, rf__min_samples_split=10 \n",
      "[CV]  rf__max_depth=90, rf__max_features=2, rf__min_samples_leaf=4, rf__min_samples_split=10, total=   1.3s\n",
      "[CV] rf__max_depth=90, rf__max_features=2, rf__min_samples_leaf=4, rf__min_samples_split=10 \n",
      "[CV]  rf__max_depth=90, rf__max_features=2, rf__min_samples_leaf=4, rf__min_samples_split=10, total=   1.3s\n",
      "[CV] rf__max_depth=90, rf__max_features=2, rf__min_samples_leaf=4, rf__min_samples_split=10 \n",
      "[CV]  rf__max_depth=90, rf__max_features=2, rf__min_samples_leaf=4, rf__min_samples_split=10, total=   1.3s\n",
      "[CV] rf__max_depth=90, rf__max_features=2, rf__min_samples_leaf=4, rf__min_samples_split=12 \n",
      "[CV]  rf__max_depth=90, rf__max_features=2, rf__min_samples_leaf=4, rf__min_samples_split=12, total=   1.3s\n",
      "[CV] rf__max_depth=90, rf__max_features=2, rf__min_samples_leaf=4, rf__min_samples_split=12 \n",
      "[CV]  rf__max_depth=90, rf__max_features=2, rf__min_samples_leaf=4, rf__min_samples_split=12, total=   1.3s\n",
      "[CV] rf__max_depth=90, rf__max_features=2, rf__min_samples_leaf=4, rf__min_samples_split=12 \n",
      "[CV]  rf__max_depth=90, rf__max_features=2, rf__min_samples_leaf=4, rf__min_samples_split=12, total=   1.3s\n",
      "[CV] rf__max_depth=90, rf__max_features=2, rf__min_samples_leaf=5, rf__min_samples_split=8 \n",
      "[CV]  rf__max_depth=90, rf__max_features=2, rf__min_samples_leaf=5, rf__min_samples_split=8, total=   1.3s\n",
      "[CV] rf__max_depth=90, rf__max_features=2, rf__min_samples_leaf=5, rf__min_samples_split=8 \n",
      "[CV]  rf__max_depth=90, rf__max_features=2, rf__min_samples_leaf=5, rf__min_samples_split=8, total=   1.2s\n",
      "[CV] rf__max_depth=90, rf__max_features=2, rf__min_samples_leaf=5, rf__min_samples_split=8 \n",
      "[CV]  rf__max_depth=90, rf__max_features=2, rf__min_samples_leaf=5, rf__min_samples_split=8, total=   1.4s\n",
      "[CV] rf__max_depth=90, rf__max_features=2, rf__min_samples_leaf=5, rf__min_samples_split=10 \n",
      "[CV]  rf__max_depth=90, rf__max_features=2, rf__min_samples_leaf=5, rf__min_samples_split=10, total=   1.2s\n",
      "[CV] rf__max_depth=90, rf__max_features=2, rf__min_samples_leaf=5, rf__min_samples_split=10 \n",
      "[CV]  rf__max_depth=90, rf__max_features=2, rf__min_samples_leaf=5, rf__min_samples_split=10, total=   1.3s\n",
      "[CV] rf__max_depth=90, rf__max_features=2, rf__min_samples_leaf=5, rf__min_samples_split=10 \n",
      "[CV]  rf__max_depth=90, rf__max_features=2, rf__min_samples_leaf=5, rf__min_samples_split=10, total=   1.3s\n",
      "[CV] rf__max_depth=90, rf__max_features=2, rf__min_samples_leaf=5, rf__min_samples_split=12 \n",
      "[CV]  rf__max_depth=90, rf__max_features=2, rf__min_samples_leaf=5, rf__min_samples_split=12, total=   1.3s\n",
      "[CV] rf__max_depth=90, rf__max_features=2, rf__min_samples_leaf=5, rf__min_samples_split=12 \n",
      "[CV]  rf__max_depth=90, rf__max_features=2, rf__min_samples_leaf=5, rf__min_samples_split=12, total=   1.3s\n",
      "[CV] rf__max_depth=90, rf__max_features=2, rf__min_samples_leaf=5, rf__min_samples_split=12 \n",
      "[CV]  rf__max_depth=90, rf__max_features=2, rf__min_samples_leaf=5, rf__min_samples_split=12, total=   1.5s\n",
      "[CV] rf__max_depth=90, rf__max_features=3, rf__min_samples_leaf=3, rf__min_samples_split=8 \n",
      "[CV]  rf__max_depth=90, rf__max_features=3, rf__min_samples_leaf=3, rf__min_samples_split=8, total=   1.7s\n",
      "[CV] rf__max_depth=90, rf__max_features=3, rf__min_samples_leaf=3, rf__min_samples_split=8 \n",
      "[CV]  rf__max_depth=90, rf__max_features=3, rf__min_samples_leaf=3, rf__min_samples_split=8, total=   1.9s\n",
      "[CV] rf__max_depth=90, rf__max_features=3, rf__min_samples_leaf=3, rf__min_samples_split=8 \n",
      "[CV]  rf__max_depth=90, rf__max_features=3, rf__min_samples_leaf=3, rf__min_samples_split=8, total=   1.7s\n",
      "[CV] rf__max_depth=90, rf__max_features=3, rf__min_samples_leaf=3, rf__min_samples_split=10 \n",
      "[CV]  rf__max_depth=90, rf__max_features=3, rf__min_samples_leaf=3, rf__min_samples_split=10, total=   1.8s\n",
      "[CV] rf__max_depth=90, rf__max_features=3, rf__min_samples_leaf=3, rf__min_samples_split=10 \n",
      "[CV]  rf__max_depth=90, rf__max_features=3, rf__min_samples_leaf=3, rf__min_samples_split=10, total=   1.6s\n",
      "[CV] rf__max_depth=90, rf__max_features=3, rf__min_samples_leaf=3, rf__min_samples_split=10 \n",
      "[CV]  rf__max_depth=90, rf__max_features=3, rf__min_samples_leaf=3, rf__min_samples_split=10, total=   1.6s\n",
      "[CV] rf__max_depth=90, rf__max_features=3, rf__min_samples_leaf=3, rf__min_samples_split=12 \n",
      "[CV]  rf__max_depth=90, rf__max_features=3, rf__min_samples_leaf=3, rf__min_samples_split=12, total=   1.6s\n",
      "[CV] rf__max_depth=90, rf__max_features=3, rf__min_samples_leaf=3, rf__min_samples_split=12 \n",
      "[CV]  rf__max_depth=90, rf__max_features=3, rf__min_samples_leaf=3, rf__min_samples_split=12, total=   1.6s\n",
      "[CV] rf__max_depth=90, rf__max_features=3, rf__min_samples_leaf=3, rf__min_samples_split=12 \n",
      "[CV]  rf__max_depth=90, rf__max_features=3, rf__min_samples_leaf=3, rf__min_samples_split=12, total=   1.8s\n",
      "[CV] rf__max_depth=90, rf__max_features=3, rf__min_samples_leaf=4, rf__min_samples_split=8 \n",
      "[CV]  rf__max_depth=90, rf__max_features=3, rf__min_samples_leaf=4, rf__min_samples_split=8, total=   1.8s\n",
      "[CV] rf__max_depth=90, rf__max_features=3, rf__min_samples_leaf=4, rf__min_samples_split=8 \n",
      "[CV]  rf__max_depth=90, rf__max_features=3, rf__min_samples_leaf=4, rf__min_samples_split=8, total=   1.7s\n",
      "[CV] rf__max_depth=90, rf__max_features=3, rf__min_samples_leaf=4, rf__min_samples_split=8 \n",
      "[CV]  rf__max_depth=90, rf__max_features=3, rf__min_samples_leaf=4, rf__min_samples_split=8, total=   1.6s\n",
      "[CV] rf__max_depth=90, rf__max_features=3, rf__min_samples_leaf=4, rf__min_samples_split=10 \n",
      "[CV]  rf__max_depth=90, rf__max_features=3, rf__min_samples_leaf=4, rf__min_samples_split=10, total=   1.7s\n",
      "[CV] rf__max_depth=90, rf__max_features=3, rf__min_samples_leaf=4, rf__min_samples_split=10 \n",
      "[CV]  rf__max_depth=90, rf__max_features=3, rf__min_samples_leaf=4, rf__min_samples_split=10, total=   1.6s\n",
      "[CV] rf__max_depth=90, rf__max_features=3, rf__min_samples_leaf=4, rf__min_samples_split=10 \n",
      "[CV]  rf__max_depth=90, rf__max_features=3, rf__min_samples_leaf=4, rf__min_samples_split=10, total=   1.9s\n",
      "[CV] rf__max_depth=90, rf__max_features=3, rf__min_samples_leaf=4, rf__min_samples_split=12 \n",
      "[CV]  rf__max_depth=90, rf__max_features=3, rf__min_samples_leaf=4, rf__min_samples_split=12, total=   1.6s\n",
      "[CV] rf__max_depth=90, rf__max_features=3, rf__min_samples_leaf=4, rf__min_samples_split=12 \n",
      "[CV]  rf__max_depth=90, rf__max_features=3, rf__min_samples_leaf=4, rf__min_samples_split=12, total=   1.6s\n",
      "[CV] rf__max_depth=90, rf__max_features=3, rf__min_samples_leaf=4, rf__min_samples_split=12 \n",
      "[CV]  rf__max_depth=90, rf__max_features=3, rf__min_samples_leaf=4, rf__min_samples_split=12, total=   1.6s\n",
      "[CV] rf__max_depth=90, rf__max_features=3, rf__min_samples_leaf=5, rf__min_samples_split=8 \n",
      "[CV]  rf__max_depth=90, rf__max_features=3, rf__min_samples_leaf=5, rf__min_samples_split=8, total=   1.7s\n",
      "[CV] rf__max_depth=90, rf__max_features=3, rf__min_samples_leaf=5, rf__min_samples_split=8 \n",
      "[CV]  rf__max_depth=90, rf__max_features=3, rf__min_samples_leaf=5, rf__min_samples_split=8, total=   1.7s\n",
      "[CV] rf__max_depth=90, rf__max_features=3, rf__min_samples_leaf=5, rf__min_samples_split=8 \n",
      "[CV]  rf__max_depth=90, rf__max_features=3, rf__min_samples_leaf=5, rf__min_samples_split=8, total=   1.6s\n",
      "[CV] rf__max_depth=90, rf__max_features=3, rf__min_samples_leaf=5, rf__min_samples_split=10 \n",
      "[CV]  rf__max_depth=90, rf__max_features=3, rf__min_samples_leaf=5, rf__min_samples_split=10, total=   1.6s\n",
      "[CV] rf__max_depth=90, rf__max_features=3, rf__min_samples_leaf=5, rf__min_samples_split=10 \n",
      "[CV]  rf__max_depth=90, rf__max_features=3, rf__min_samples_leaf=5, rf__min_samples_split=10, total=   1.8s\n",
      "[CV] rf__max_depth=90, rf__max_features=3, rf__min_samples_leaf=5, rf__min_samples_split=10 \n",
      "[CV]  rf__max_depth=90, rf__max_features=3, rf__min_samples_leaf=5, rf__min_samples_split=10, total=   1.6s\n",
      "[CV] rf__max_depth=90, rf__max_features=3, rf__min_samples_leaf=5, rf__min_samples_split=12 \n",
      "[CV]  rf__max_depth=90, rf__max_features=3, rf__min_samples_leaf=5, rf__min_samples_split=12, total=   1.5s\n",
      "[CV] rf__max_depth=90, rf__max_features=3, rf__min_samples_leaf=5, rf__min_samples_split=12 \n",
      "[CV]  rf__max_depth=90, rf__max_features=3, rf__min_samples_leaf=5, rf__min_samples_split=12, total=   1.6s\n",
      "[CV] rf__max_depth=90, rf__max_features=3, rf__min_samples_leaf=5, rf__min_samples_split=12 \n",
      "[CV]  rf__max_depth=90, rf__max_features=3, rf__min_samples_leaf=5, rf__min_samples_split=12, total=   2.1s\n",
      "[CV] rf__max_depth=100, rf__max_features=2, rf__min_samples_leaf=3, rf__min_samples_split=8 \n",
      "[CV]  rf__max_depth=100, rf__max_features=2, rf__min_samples_leaf=3, rf__min_samples_split=8, total=   1.5s\n",
      "[CV] rf__max_depth=100, rf__max_features=2, rf__min_samples_leaf=3, rf__min_samples_split=8 \n",
      "[CV]  rf__max_depth=100, rf__max_features=2, rf__min_samples_leaf=3, rf__min_samples_split=8, total=   1.5s\n",
      "[CV] rf__max_depth=100, rf__max_features=2, rf__min_samples_leaf=3, rf__min_samples_split=8 \n",
      "[CV]  rf__max_depth=100, rf__max_features=2, rf__min_samples_leaf=3, rf__min_samples_split=8, total=   1.4s\n",
      "[CV] rf__max_depth=100, rf__max_features=2, rf__min_samples_leaf=3, rf__min_samples_split=10 \n",
      "[CV]  rf__max_depth=100, rf__max_features=2, rf__min_samples_leaf=3, rf__min_samples_split=10, total=   1.4s\n",
      "[CV] rf__max_depth=100, rf__max_features=2, rf__min_samples_leaf=3, rf__min_samples_split=10 \n",
      "[CV]  rf__max_depth=100, rf__max_features=2, rf__min_samples_leaf=3, rf__min_samples_split=10, total=   1.3s\n",
      "[CV] rf__max_depth=100, rf__max_features=2, rf__min_samples_leaf=3, rf__min_samples_split=10 \n",
      "[CV]  rf__max_depth=100, rf__max_features=2, rf__min_samples_leaf=3, rf__min_samples_split=10, total=   1.4s\n",
      "[CV] rf__max_depth=100, rf__max_features=2, rf__min_samples_leaf=3, rf__min_samples_split=12 \n",
      "[CV]  rf__max_depth=100, rf__max_features=2, rf__min_samples_leaf=3, rf__min_samples_split=12, total=   1.3s\n",
      "[CV] rf__max_depth=100, rf__max_features=2, rf__min_samples_leaf=3, rf__min_samples_split=12 \n",
      "[CV]  rf__max_depth=100, rf__max_features=2, rf__min_samples_leaf=3, rf__min_samples_split=12, total=   1.3s\n",
      "[CV] rf__max_depth=100, rf__max_features=2, rf__min_samples_leaf=3, rf__min_samples_split=12 \n",
      "[CV]  rf__max_depth=100, rf__max_features=2, rf__min_samples_leaf=3, rf__min_samples_split=12, total=   1.3s\n",
      "[CV] rf__max_depth=100, rf__max_features=2, rf__min_samples_leaf=4, rf__min_samples_split=8 \n",
      "[CV]  rf__max_depth=100, rf__max_features=2, rf__min_samples_leaf=4, rf__min_samples_split=8, total=   1.5s\n",
      "[CV] rf__max_depth=100, rf__max_features=2, rf__min_samples_leaf=4, rf__min_samples_split=8 \n",
      "[CV]  rf__max_depth=100, rf__max_features=2, rf__min_samples_leaf=4, rf__min_samples_split=8, total=   1.3s\n",
      "[CV] rf__max_depth=100, rf__max_features=2, rf__min_samples_leaf=4, rf__min_samples_split=8 \n",
      "[CV]  rf__max_depth=100, rf__max_features=2, rf__min_samples_leaf=4, rf__min_samples_split=8, total=   1.3s\n",
      "[CV] rf__max_depth=100, rf__max_features=2, rf__min_samples_leaf=4, rf__min_samples_split=10 \n",
      "[CV]  rf__max_depth=100, rf__max_features=2, rf__min_samples_leaf=4, rf__min_samples_split=10, total=   1.5s\n",
      "[CV] rf__max_depth=100, rf__max_features=2, rf__min_samples_leaf=4, rf__min_samples_split=10 \n",
      "[CV]  rf__max_depth=100, rf__max_features=2, rf__min_samples_leaf=4, rf__min_samples_split=10, total=   1.3s\n",
      "[CV] rf__max_depth=100, rf__max_features=2, rf__min_samples_leaf=4, rf__min_samples_split=10 \n",
      "[CV]  rf__max_depth=100, rf__max_features=2, rf__min_samples_leaf=4, rf__min_samples_split=10, total=   1.3s\n",
      "[CV] rf__max_depth=100, rf__max_features=2, rf__min_samples_leaf=4, rf__min_samples_split=12 \n",
      "[CV]  rf__max_depth=100, rf__max_features=2, rf__min_samples_leaf=4, rf__min_samples_split=12, total=   1.4s\n",
      "[CV] rf__max_depth=100, rf__max_features=2, rf__min_samples_leaf=4, rf__min_samples_split=12 \n",
      "[CV]  rf__max_depth=100, rf__max_features=2, rf__min_samples_leaf=4, rf__min_samples_split=12, total=   1.3s\n",
      "[CV] rf__max_depth=100, rf__max_features=2, rf__min_samples_leaf=4, rf__min_samples_split=12 \n",
      "[CV]  rf__max_depth=100, rf__max_features=2, rf__min_samples_leaf=4, rf__min_samples_split=12, total=   1.4s\n",
      "[CV] rf__max_depth=100, rf__max_features=2, rf__min_samples_leaf=5, rf__min_samples_split=8 \n",
      "[CV]  rf__max_depth=100, rf__max_features=2, rf__min_samples_leaf=5, rf__min_samples_split=8, total=   1.4s\n",
      "[CV] rf__max_depth=100, rf__max_features=2, rf__min_samples_leaf=5, rf__min_samples_split=8 \n",
      "[CV]  rf__max_depth=100, rf__max_features=2, rf__min_samples_leaf=5, rf__min_samples_split=8, total=   1.3s\n",
      "[CV] rf__max_depth=100, rf__max_features=2, rf__min_samples_leaf=5, rf__min_samples_split=8 \n",
      "[CV]  rf__max_depth=100, rf__max_features=2, rf__min_samples_leaf=5, rf__min_samples_split=8, total=   1.4s\n",
      "[CV] rf__max_depth=100, rf__max_features=2, rf__min_samples_leaf=5, rf__min_samples_split=10 \n",
      "[CV]  rf__max_depth=100, rf__max_features=2, rf__min_samples_leaf=5, rf__min_samples_split=10, total=   1.3s\n",
      "[CV] rf__max_depth=100, rf__max_features=2, rf__min_samples_leaf=5, rf__min_samples_split=10 \n",
      "[CV]  rf__max_depth=100, rf__max_features=2, rf__min_samples_leaf=5, rf__min_samples_split=10, total=   1.3s\n",
      "[CV] rf__max_depth=100, rf__max_features=2, rf__min_samples_leaf=5, rf__min_samples_split=10 \n",
      "[CV]  rf__max_depth=100, rf__max_features=2, rf__min_samples_leaf=5, rf__min_samples_split=10, total=   1.3s\n",
      "[CV] rf__max_depth=100, rf__max_features=2, rf__min_samples_leaf=5, rf__min_samples_split=12 \n",
      "[CV]  rf__max_depth=100, rf__max_features=2, rf__min_samples_leaf=5, rf__min_samples_split=12, total=   1.3s\n",
      "[CV] rf__max_depth=100, rf__max_features=2, rf__min_samples_leaf=5, rf__min_samples_split=12 \n",
      "[CV]  rf__max_depth=100, rf__max_features=2, rf__min_samples_leaf=5, rf__min_samples_split=12, total=   1.3s\n",
      "[CV] rf__max_depth=100, rf__max_features=2, rf__min_samples_leaf=5, rf__min_samples_split=12 \n",
      "[CV]  rf__max_depth=100, rf__max_features=2, rf__min_samples_leaf=5, rf__min_samples_split=12, total=   1.3s\n",
      "[CV] rf__max_depth=100, rf__max_features=3, rf__min_samples_leaf=3, rf__min_samples_split=8 \n",
      "[CV]  rf__max_depth=100, rf__max_features=3, rf__min_samples_leaf=3, rf__min_samples_split=8, total=   2.0s\n",
      "[CV] rf__max_depth=100, rf__max_features=3, rf__min_samples_leaf=3, rf__min_samples_split=8 \n",
      "[CV]  rf__max_depth=100, rf__max_features=3, rf__min_samples_leaf=3, rf__min_samples_split=8, total=   1.7s\n",
      "[CV] rf__max_depth=100, rf__max_features=3, rf__min_samples_leaf=3, rf__min_samples_split=8 \n",
      "[CV]  rf__max_depth=100, rf__max_features=3, rf__min_samples_leaf=3, rf__min_samples_split=8, total=   1.7s\n",
      "[CV] rf__max_depth=100, rf__max_features=3, rf__min_samples_leaf=3, rf__min_samples_split=10 \n",
      "[CV]  rf__max_depth=100, rf__max_features=3, rf__min_samples_leaf=3, rf__min_samples_split=10, total=   1.6s\n",
      "[CV] rf__max_depth=100, rf__max_features=3, rf__min_samples_leaf=3, rf__min_samples_split=10 \n",
      "[CV]  rf__max_depth=100, rf__max_features=3, rf__min_samples_leaf=3, rf__min_samples_split=10, total=   1.6s\n",
      "[CV] rf__max_depth=100, rf__max_features=3, rf__min_samples_leaf=3, rf__min_samples_split=10 \n",
      "[CV]  rf__max_depth=100, rf__max_features=3, rf__min_samples_leaf=3, rf__min_samples_split=10, total=   1.6s\n",
      "[CV] rf__max_depth=100, rf__max_features=3, rf__min_samples_leaf=3, rf__min_samples_split=12 \n",
      "[CV]  rf__max_depth=100, rf__max_features=3, rf__min_samples_leaf=3, rf__min_samples_split=12, total=   1.7s\n",
      "[CV] rf__max_depth=100, rf__max_features=3, rf__min_samples_leaf=3, rf__min_samples_split=12 \n",
      "[CV]  rf__max_depth=100, rf__max_features=3, rf__min_samples_leaf=3, rf__min_samples_split=12, total=   1.6s\n",
      "[CV] rf__max_depth=100, rf__max_features=3, rf__min_samples_leaf=3, rf__min_samples_split=12 \n",
      "[CV]  rf__max_depth=100, rf__max_features=3, rf__min_samples_leaf=3, rf__min_samples_split=12, total=   1.7s\n",
      "[CV] rf__max_depth=100, rf__max_features=3, rf__min_samples_leaf=4, rf__min_samples_split=8 \n",
      "[CV]  rf__max_depth=100, rf__max_features=3, rf__min_samples_leaf=4, rf__min_samples_split=8, total=   1.8s\n",
      "[CV] rf__max_depth=100, rf__max_features=3, rf__min_samples_leaf=4, rf__min_samples_split=8 \n",
      "[CV]  rf__max_depth=100, rf__max_features=3, rf__min_samples_leaf=4, rf__min_samples_split=8, total=   1.7s\n",
      "[CV] rf__max_depth=100, rf__max_features=3, rf__min_samples_leaf=4, rf__min_samples_split=8 \n",
      "[CV]  rf__max_depth=100, rf__max_features=3, rf__min_samples_leaf=4, rf__min_samples_split=8, total=   1.6s\n",
      "[CV] rf__max_depth=100, rf__max_features=3, rf__min_samples_leaf=4, rf__min_samples_split=10 \n",
      "[CV]  rf__max_depth=100, rf__max_features=3, rf__min_samples_leaf=4, rf__min_samples_split=10, total=   1.6s\n",
      "[CV] rf__max_depth=100, rf__max_features=3, rf__min_samples_leaf=4, rf__min_samples_split=10 \n",
      "[CV]  rf__max_depth=100, rf__max_features=3, rf__min_samples_leaf=4, rf__min_samples_split=10, total=   1.8s\n",
      "[CV] rf__max_depth=100, rf__max_features=3, rf__min_samples_leaf=4, rf__min_samples_split=10 \n",
      "[CV]  rf__max_depth=100, rf__max_features=3, rf__min_samples_leaf=4, rf__min_samples_split=10, total=   1.7s\n",
      "[CV] rf__max_depth=100, rf__max_features=3, rf__min_samples_leaf=4, rf__min_samples_split=12 \n",
      "[CV]  rf__max_depth=100, rf__max_features=3, rf__min_samples_leaf=4, rf__min_samples_split=12, total=   1.5s\n",
      "[CV] rf__max_depth=100, rf__max_features=3, rf__min_samples_leaf=4, rf__min_samples_split=12 \n",
      "[CV]  rf__max_depth=100, rf__max_features=3, rf__min_samples_leaf=4, rf__min_samples_split=12, total=   1.6s\n",
      "[CV] rf__max_depth=100, rf__max_features=3, rf__min_samples_leaf=4, rf__min_samples_split=12 \n",
      "[CV]  rf__max_depth=100, rf__max_features=3, rf__min_samples_leaf=4, rf__min_samples_split=12, total=   1.7s\n",
      "[CV] rf__max_depth=100, rf__max_features=3, rf__min_samples_leaf=5, rf__min_samples_split=8 \n",
      "[CV]  rf__max_depth=100, rf__max_features=3, rf__min_samples_leaf=5, rf__min_samples_split=8, total=   1.5s\n",
      "[CV] rf__max_depth=100, rf__max_features=3, rf__min_samples_leaf=5, rf__min_samples_split=8 \n",
      "[CV]  rf__max_depth=100, rf__max_features=3, rf__min_samples_leaf=5, rf__min_samples_split=8, total=   1.6s\n",
      "[CV] rf__max_depth=100, rf__max_features=3, rf__min_samples_leaf=5, rf__min_samples_split=8 \n",
      "[CV]  rf__max_depth=100, rf__max_features=3, rf__min_samples_leaf=5, rf__min_samples_split=8, total=   1.6s\n",
      "[CV] rf__max_depth=100, rf__max_features=3, rf__min_samples_leaf=5, rf__min_samples_split=10 \n",
      "[CV]  rf__max_depth=100, rf__max_features=3, rf__min_samples_leaf=5, rf__min_samples_split=10, total=   1.6s\n",
      "[CV] rf__max_depth=100, rf__max_features=3, rf__min_samples_leaf=5, rf__min_samples_split=10 \n",
      "[CV]  rf__max_depth=100, rf__max_features=3, rf__min_samples_leaf=5, rf__min_samples_split=10, total=   1.6s\n",
      "[CV] rf__max_depth=100, rf__max_features=3, rf__min_samples_leaf=5, rf__min_samples_split=10 \n",
      "[CV]  rf__max_depth=100, rf__max_features=3, rf__min_samples_leaf=5, rf__min_samples_split=10, total=   1.7s\n",
      "[CV] rf__max_depth=100, rf__max_features=3, rf__min_samples_leaf=5, rf__min_samples_split=12 \n",
      "[CV]  rf__max_depth=100, rf__max_features=3, rf__min_samples_leaf=5, rf__min_samples_split=12, total=   1.7s\n",
      "[CV] rf__max_depth=100, rf__max_features=3, rf__min_samples_leaf=5, rf__min_samples_split=12 \n",
      "[CV]  rf__max_depth=100, rf__max_features=3, rf__min_samples_leaf=5, rf__min_samples_split=12, total=   1.5s\n",
      "[CV] rf__max_depth=100, rf__max_features=3, rf__min_samples_leaf=5, rf__min_samples_split=12 \n",
      "[CV]  rf__max_depth=100, rf__max_features=3, rf__min_samples_leaf=5, rf__min_samples_split=12, total=   1.8s\n",
      "[CV] rf__max_depth=110, rf__max_features=2, rf__min_samples_leaf=3, rf__min_samples_split=8 \n",
      "[CV]  rf__max_depth=110, rf__max_features=2, rf__min_samples_leaf=3, rf__min_samples_split=8, total=   1.5s\n",
      "[CV] rf__max_depth=110, rf__max_features=2, rf__min_samples_leaf=3, rf__min_samples_split=8 \n",
      "[CV]  rf__max_depth=110, rf__max_features=2, rf__min_samples_leaf=3, rf__min_samples_split=8, total=   1.7s\n",
      "[CV] rf__max_depth=110, rf__max_features=2, rf__min_samples_leaf=3, rf__min_samples_split=8 \n",
      "[CV]  rf__max_depth=110, rf__max_features=2, rf__min_samples_leaf=3, rf__min_samples_split=8, total=   1.6s\n",
      "[CV] rf__max_depth=110, rf__max_features=2, rf__min_samples_leaf=3, rf__min_samples_split=10 \n",
      "[CV]  rf__max_depth=110, rf__max_features=2, rf__min_samples_leaf=3, rf__min_samples_split=10, total=   1.4s\n",
      "[CV] rf__max_depth=110, rf__max_features=2, rf__min_samples_leaf=3, rf__min_samples_split=10 \n",
      "[CV]  rf__max_depth=110, rf__max_features=2, rf__min_samples_leaf=3, rf__min_samples_split=10, total=   1.3s\n",
      "[CV] rf__max_depth=110, rf__max_features=2, rf__min_samples_leaf=3, rf__min_samples_split=10 \n",
      "[CV]  rf__max_depth=110, rf__max_features=2, rf__min_samples_leaf=3, rf__min_samples_split=10, total=   1.3s\n",
      "[CV] rf__max_depth=110, rf__max_features=2, rf__min_samples_leaf=3, rf__min_samples_split=12 \n",
      "[CV]  rf__max_depth=110, rf__max_features=2, rf__min_samples_leaf=3, rf__min_samples_split=12, total=   1.3s\n",
      "[CV] rf__max_depth=110, rf__max_features=2, rf__min_samples_leaf=3, rf__min_samples_split=12 \n",
      "[CV]  rf__max_depth=110, rf__max_features=2, rf__min_samples_leaf=3, rf__min_samples_split=12, total=   1.5s\n",
      "[CV] rf__max_depth=110, rf__max_features=2, rf__min_samples_leaf=3, rf__min_samples_split=12 \n",
      "[CV]  rf__max_depth=110, rf__max_features=2, rf__min_samples_leaf=3, rf__min_samples_split=12, total=   1.4s\n",
      "[CV] rf__max_depth=110, rf__max_features=2, rf__min_samples_leaf=4, rf__min_samples_split=8 \n",
      "[CV]  rf__max_depth=110, rf__max_features=2, rf__min_samples_leaf=4, rf__min_samples_split=8, total=   1.4s\n",
      "[CV] rf__max_depth=110, rf__max_features=2, rf__min_samples_leaf=4, rf__min_samples_split=8 \n",
      "[CV]  rf__max_depth=110, rf__max_features=2, rf__min_samples_leaf=4, rf__min_samples_split=8, total=   1.5s\n",
      "[CV] rf__max_depth=110, rf__max_features=2, rf__min_samples_leaf=4, rf__min_samples_split=8 \n",
      "[CV]  rf__max_depth=110, rf__max_features=2, rf__min_samples_leaf=4, rf__min_samples_split=8, total=   1.4s\n",
      "[CV] rf__max_depth=110, rf__max_features=2, rf__min_samples_leaf=4, rf__min_samples_split=10 \n",
      "[CV]  rf__max_depth=110, rf__max_features=2, rf__min_samples_leaf=4, rf__min_samples_split=10, total=   1.7s\n",
      "[CV] rf__max_depth=110, rf__max_features=2, rf__min_samples_leaf=4, rf__min_samples_split=10 \n",
      "[CV]  rf__max_depth=110, rf__max_features=2, rf__min_samples_leaf=4, rf__min_samples_split=10, total=   1.2s\n",
      "[CV] rf__max_depth=110, rf__max_features=2, rf__min_samples_leaf=4, rf__min_samples_split=10 \n",
      "[CV]  rf__max_depth=110, rf__max_features=2, rf__min_samples_leaf=4, rf__min_samples_split=10, total=   1.4s\n",
      "[CV] rf__max_depth=110, rf__max_features=2, rf__min_samples_leaf=4, rf__min_samples_split=12 \n",
      "[CV]  rf__max_depth=110, rf__max_features=2, rf__min_samples_leaf=4, rf__min_samples_split=12, total=   1.3s\n",
      "[CV] rf__max_depth=110, rf__max_features=2, rf__min_samples_leaf=4, rf__min_samples_split=12 \n",
      "[CV]  rf__max_depth=110, rf__max_features=2, rf__min_samples_leaf=4, rf__min_samples_split=12, total=   1.3s\n",
      "[CV] rf__max_depth=110, rf__max_features=2, rf__min_samples_leaf=4, rf__min_samples_split=12 \n",
      "[CV]  rf__max_depth=110, rf__max_features=2, rf__min_samples_leaf=4, rf__min_samples_split=12, total=   1.4s\n",
      "[CV] rf__max_depth=110, rf__max_features=2, rf__min_samples_leaf=5, rf__min_samples_split=8 \n",
      "[CV]  rf__max_depth=110, rf__max_features=2, rf__min_samples_leaf=5, rf__min_samples_split=8, total=   1.3s\n",
      "[CV] rf__max_depth=110, rf__max_features=2, rf__min_samples_leaf=5, rf__min_samples_split=8 \n",
      "[CV]  rf__max_depth=110, rf__max_features=2, rf__min_samples_leaf=5, rf__min_samples_split=8, total=   1.3s\n",
      "[CV] rf__max_depth=110, rf__max_features=2, rf__min_samples_leaf=5, rf__min_samples_split=8 \n",
      "[CV]  rf__max_depth=110, rf__max_features=2, rf__min_samples_leaf=5, rf__min_samples_split=8, total=   1.3s\n",
      "[CV] rf__max_depth=110, rf__max_features=2, rf__min_samples_leaf=5, rf__min_samples_split=10 \n",
      "[CV]  rf__max_depth=110, rf__max_features=2, rf__min_samples_leaf=5, rf__min_samples_split=10, total=   1.3s\n",
      "[CV] rf__max_depth=110, rf__max_features=2, rf__min_samples_leaf=5, rf__min_samples_split=10 \n",
      "[CV]  rf__max_depth=110, rf__max_features=2, rf__min_samples_leaf=5, rf__min_samples_split=10, total=   1.2s\n",
      "[CV] rf__max_depth=110, rf__max_features=2, rf__min_samples_leaf=5, rf__min_samples_split=10 \n",
      "[CV]  rf__max_depth=110, rf__max_features=2, rf__min_samples_leaf=5, rf__min_samples_split=10, total=   1.2s\n",
      "[CV] rf__max_depth=110, rf__max_features=2, rf__min_samples_leaf=5, rf__min_samples_split=12 \n",
      "[CV]  rf__max_depth=110, rf__max_features=2, rf__min_samples_leaf=5, rf__min_samples_split=12, total=   1.4s\n",
      "[CV] rf__max_depth=110, rf__max_features=2, rf__min_samples_leaf=5, rf__min_samples_split=12 \n",
      "[CV]  rf__max_depth=110, rf__max_features=2, rf__min_samples_leaf=5, rf__min_samples_split=12, total=   1.2s\n",
      "[CV] rf__max_depth=110, rf__max_features=2, rf__min_samples_leaf=5, rf__min_samples_split=12 \n",
      "[CV]  rf__max_depth=110, rf__max_features=2, rf__min_samples_leaf=5, rf__min_samples_split=12, total=   1.5s\n",
      "[CV] rf__max_depth=110, rf__max_features=3, rf__min_samples_leaf=3, rf__min_samples_split=8 \n",
      "[CV]  rf__max_depth=110, rf__max_features=3, rf__min_samples_leaf=3, rf__min_samples_split=8, total=   1.9s\n",
      "[CV] rf__max_depth=110, rf__max_features=3, rf__min_samples_leaf=3, rf__min_samples_split=8 \n",
      "[CV]  rf__max_depth=110, rf__max_features=3, rf__min_samples_leaf=3, rf__min_samples_split=8, total=   1.8s\n",
      "[CV] rf__max_depth=110, rf__max_features=3, rf__min_samples_leaf=3, rf__min_samples_split=8 \n",
      "[CV]  rf__max_depth=110, rf__max_features=3, rf__min_samples_leaf=3, rf__min_samples_split=8, total=   1.7s\n",
      "[CV] rf__max_depth=110, rf__max_features=3, rf__min_samples_leaf=3, rf__min_samples_split=10 \n",
      "[CV]  rf__max_depth=110, rf__max_features=3, rf__min_samples_leaf=3, rf__min_samples_split=10, total=   1.6s\n",
      "[CV] rf__max_depth=110, rf__max_features=3, rf__min_samples_leaf=3, rf__min_samples_split=10 \n",
      "[CV]  rf__max_depth=110, rf__max_features=3, rf__min_samples_leaf=3, rf__min_samples_split=10, total=   1.7s\n",
      "[CV] rf__max_depth=110, rf__max_features=3, rf__min_samples_leaf=3, rf__min_samples_split=10 \n",
      "[CV]  rf__max_depth=110, rf__max_features=3, rf__min_samples_leaf=3, rf__min_samples_split=10, total=   1.6s\n",
      "[CV] rf__max_depth=110, rf__max_features=3, rf__min_samples_leaf=3, rf__min_samples_split=12 \n",
      "[CV]  rf__max_depth=110, rf__max_features=3, rf__min_samples_leaf=3, rf__min_samples_split=12, total=   1.7s\n",
      "[CV] rf__max_depth=110, rf__max_features=3, rf__min_samples_leaf=3, rf__min_samples_split=12 \n",
      "[CV]  rf__max_depth=110, rf__max_features=3, rf__min_samples_leaf=3, rf__min_samples_split=12, total=   1.8s\n",
      "[CV] rf__max_depth=110, rf__max_features=3, rf__min_samples_leaf=3, rf__min_samples_split=12 \n",
      "[CV]  rf__max_depth=110, rf__max_features=3, rf__min_samples_leaf=3, rf__min_samples_split=12, total=   1.6s\n",
      "[CV] rf__max_depth=110, rf__max_features=3, rf__min_samples_leaf=4, rf__min_samples_split=8 \n",
      "[CV]  rf__max_depth=110, rf__max_features=3, rf__min_samples_leaf=4, rf__min_samples_split=8, total=   1.7s\n",
      "[CV] rf__max_depth=110, rf__max_features=3, rf__min_samples_leaf=4, rf__min_samples_split=8 \n",
      "[CV]  rf__max_depth=110, rf__max_features=3, rf__min_samples_leaf=4, rf__min_samples_split=8, total=   1.6s\n",
      "[CV] rf__max_depth=110, rf__max_features=3, rf__min_samples_leaf=4, rf__min_samples_split=8 \n",
      "[CV]  rf__max_depth=110, rf__max_features=3, rf__min_samples_leaf=4, rf__min_samples_split=8, total=   1.7s\n",
      "[CV] rf__max_depth=110, rf__max_features=3, rf__min_samples_leaf=4, rf__min_samples_split=10 \n",
      "[CV]  rf__max_depth=110, rf__max_features=3, rf__min_samples_leaf=4, rf__min_samples_split=10, total=   1.7s\n",
      "[CV] rf__max_depth=110, rf__max_features=3, rf__min_samples_leaf=4, rf__min_samples_split=10 \n",
      "[CV]  rf__max_depth=110, rf__max_features=3, rf__min_samples_leaf=4, rf__min_samples_split=10, total=   1.7s\n",
      "[CV] rf__max_depth=110, rf__max_features=3, rf__min_samples_leaf=4, rf__min_samples_split=10 \n",
      "[CV]  rf__max_depth=110, rf__max_features=3, rf__min_samples_leaf=4, rf__min_samples_split=10, total=   1.6s\n",
      "[CV] rf__max_depth=110, rf__max_features=3, rf__min_samples_leaf=4, rf__min_samples_split=12 \n",
      "[CV]  rf__max_depth=110, rf__max_features=3, rf__min_samples_leaf=4, rf__min_samples_split=12, total=   1.6s\n",
      "[CV] rf__max_depth=110, rf__max_features=3, rf__min_samples_leaf=4, rf__min_samples_split=12 \n",
      "[CV]  rf__max_depth=110, rf__max_features=3, rf__min_samples_leaf=4, rf__min_samples_split=12, total=   1.8s\n",
      "[CV] rf__max_depth=110, rf__max_features=3, rf__min_samples_leaf=4, rf__min_samples_split=12 \n",
      "[CV]  rf__max_depth=110, rf__max_features=3, rf__min_samples_leaf=4, rf__min_samples_split=12, total=   1.6s\n",
      "[CV] rf__max_depth=110, rf__max_features=3, rf__min_samples_leaf=5, rf__min_samples_split=8 \n",
      "[CV]  rf__max_depth=110, rf__max_features=3, rf__min_samples_leaf=5, rf__min_samples_split=8, total=   1.6s\n",
      "[CV] rf__max_depth=110, rf__max_features=3, rf__min_samples_leaf=5, rf__min_samples_split=8 \n",
      "[CV]  rf__max_depth=110, rf__max_features=3, rf__min_samples_leaf=5, rf__min_samples_split=8, total=   1.6s\n",
      "[CV] rf__max_depth=110, rf__max_features=3, rf__min_samples_leaf=5, rf__min_samples_split=8 \n",
      "[CV]  rf__max_depth=110, rf__max_features=3, rf__min_samples_leaf=5, rf__min_samples_split=8, total=   1.7s\n",
      "[CV] rf__max_depth=110, rf__max_features=3, rf__min_samples_leaf=5, rf__min_samples_split=10 \n",
      "[CV]  rf__max_depth=110, rf__max_features=3, rf__min_samples_leaf=5, rf__min_samples_split=10, total=   1.9s\n",
      "[CV] rf__max_depth=110, rf__max_features=3, rf__min_samples_leaf=5, rf__min_samples_split=10 \n",
      "[CV]  rf__max_depth=110, rf__max_features=3, rf__min_samples_leaf=5, rf__min_samples_split=10, total=   1.5s\n",
      "[CV] rf__max_depth=110, rf__max_features=3, rf__min_samples_leaf=5, rf__min_samples_split=10 \n",
      "[CV]  rf__max_depth=110, rf__max_features=3, rf__min_samples_leaf=5, rf__min_samples_split=10, total=   1.6s\n",
      "[CV] rf__max_depth=110, rf__max_features=3, rf__min_samples_leaf=5, rf__min_samples_split=12 \n",
      "[CV]  rf__max_depth=110, rf__max_features=3, rf__min_samples_leaf=5, rf__min_samples_split=12, total=   1.9s\n",
      "[CV] rf__max_depth=110, rf__max_features=3, rf__min_samples_leaf=5, rf__min_samples_split=12 \n",
      "[CV]  rf__max_depth=110, rf__max_features=3, rf__min_samples_leaf=5, rf__min_samples_split=12, total=   1.5s\n",
      "[CV] rf__max_depth=110, rf__max_features=3, rf__min_samples_leaf=5, rf__min_samples_split=12 \n",
      "[CV]  rf__max_depth=110, rf__max_features=3, rf__min_samples_leaf=5, rf__min_samples_split=12, total=   1.7s\n"
     ]
    },
    {
     "name": "stderr",
     "output_type": "stream",
     "text": [
      "[Parallel(n_jobs=-1)]: Done 216 out of 216 | elapsed:  6.6min finished\n"
     ]
    },
    {
     "data": {
      "text/plain": [
       "GridSearchCV(cv=3,\n",
       "             estimator=Pipeline(steps=[('scaler', RobustScaler()),\n",
       "                                       ('rf', RandomForestRegressor())]),\n",
       "             n_jobs=-1,\n",
       "             param_grid={'rf__max_depth': [80, 90, 100, 110],\n",
       "                         'rf__max_features': [2, 3],\n",
       "                         'rf__min_samples_leaf': [3, 4, 5],\n",
       "                         'rf__min_samples_split': [8, 10, 12]},\n",
       "             return_train_score=True, verbose=2)"
      ]
     },
     "execution_count": 36,
     "metadata": {},
     "output_type": "execute_result"
    }
   ],
   "source": [
    "# Create the parameter grid based on the results of random search \n",
    "param_grid = {\n",
    "    'rf__max_depth': [80, 90, 100, 110],\n",
    "    'rf__max_features': [2, 3],\n",
    "    'rf__min_samples_leaf': [3, 4, 5],\n",
    "    'rf__min_samples_split': [8, 10, 12]\n",
    "}\n",
    "\n",
    "\n",
    "# Instantiate the grid search model\n",
    "grid_search = GridSearchCV(estimator = pipeline, param_grid = param_grid, \n",
    "                          cv = 3, n_jobs = -1, verbose = 2, return_train_score=True)\n",
    "\n",
    "# Fit the grid search to the data\n",
    "grid_search.fit(X_train, y_train)"
   ]
  },
  {
   "cell_type": "code",
   "execution_count": 37,
   "metadata": {
    "id": "bef5eaaf-ea4e-4e3d-96d2-414a2995d002",
    "tags": []
   },
   "outputs": [
    {
     "data": {
      "text/plain": [
       "{'rf__max_depth': 80,\n",
       " 'rf__max_features': 3,\n",
       " 'rf__min_samples_leaf': 3,\n",
       " 'rf__min_samples_split': 8}"
      ]
     },
     "execution_count": 37,
     "metadata": {},
     "output_type": "execute_result"
    }
   ],
   "source": [
    "grid_search.best_params_"
   ]
  },
  {
   "cell_type": "markdown",
   "metadata": {
    "id": "026aa90e-0ab3-4fc4-aacc-ac24c9643fbb"
   },
   "source": [
    "# TEST DATASET TRANSFORMATIONS"
   ]
  },
  {
   "cell_type": "markdown",
   "metadata": {
    "id": "ff17143a-bcd3-4150-95b3-94ecf8044632"
   },
   "source": [
    "Checking NULL values within X_test dataset"
   ]
  },
  {
   "cell_type": "code",
   "execution_count": 40,
   "metadata": {
    "id": "fddca546-d757-4fef-9812-962fb4e7b731",
    "tags": []
   },
   "outputs": [
    {
     "data": {
      "text/plain": [
       "<matplotlib.axes._subplots.AxesSubplot at 0x7f9967ff4210>"
      ]
     },
     "execution_count": 40,
     "metadata": {},
     "output_type": "execute_result"
    },
    {
     "data": {
      "image/png": "[encoded data removed]",
      "text/plain": [
       "<Figure size 640x480 with 1 Axes>"
      ]
     },
     "metadata": {},
     "output_type": "display_data"
    }
   ],
   "source": [
    "sns.heatmap(X_test.isnull(),yticklabels=False,cbar=False,cmap='viridis')"
   ]
  },
  {
   "cell_type": "markdown",
   "metadata": {
    "id": "dc7194af-0d8f-4dd2-b250-b2ac74420d4b"
   },
   "source": [
    "Apply Na to mean function on columns containg NA values"
   ]
  },
  {
   "cell_type": "code",
   "execution_count": 43,
   "metadata": {
    "id": "cdd6254c-3eeb-4807-ab1f-4ce1fa803aad",
    "tags": []
   },
   "outputs": [
    {
     "name": "stderr",
     "output_type": "stream",
     "text": [
      "/opt/conda/envs/Python-3.7-OpenCE/lib/python3.7/site-packages/ipykernel/__main__.py:11: SettingWithCopyWarning:\n",
      "\n",
      "\n",
      "A value is trying to be set on a copy of a slice from a DataFrame.\n",
      "Try using .loc[row_indexer,col_indexer] = value instead\n",
      "\n",
      "See the caveats in the documentation: https://pandas.pydata.org/pandas-docs/stable/user_guide/indexing.html#returning-a-view-versus-a-copy\n",
      "\n"
     ]
    }
   ],
   "source": [
    "nls.NA_to_MEAN(X_test, NA_columns)"
   ]
  },
  {
   "cell_type": "code",
   "execution_count": 44,
   "metadata": {
    "id": "7a505bb7-707a-4e77-b585-c86cd7592aa1",
    "tags": []
   },
   "outputs": [
    {
     "data": {
      "text/plain": [
       "<matplotlib.axes._subplots.AxesSubplot at 0x7f9967f83a10>"
      ]
     },
     "execution_count": 44,
     "metadata": {},
     "output_type": "execute_result"
    },
    {
     "data": {
      "image/png": "[encoded data removed]",
      "text/plain": [
       "<Figure size 640x480 with 1 Axes>"
      ]
     },
     "metadata": {},
     "output_type": "display_data"
    }
   ],
   "source": [
    "sns.heatmap(X_test.isnull(),yticklabels=False,cbar=False,cmap='viridis')"
   ]
  },
  {
   "cell_type": "markdown",
   "metadata": {
    "id": "166dff12-934f-46f2-afe2-66dd7a16b75a"
   },
   "source": [
    "# PERFORMANCE EVALUATION"
   ]
  },
  {
   "cell_type": "markdown",
   "metadata": {
    "id": "867e9188-b909-4319-b545-055f9e38f785"
   },
   "source": [
    "### Evaluation Function"
   ]
  },
  {
   "cell_type": "code",
   "execution_count": 895,
   "metadata": {
    "id": "ba5a801d-03ab-413a-bf31-32bd5a66062b"
   },
   "outputs": [],
   "source": [
    "def evaluate(model, test_features, test_labels):\n",
    "    predictions = model.predict(test_features)\n",
    "    errors = abs(predictions - test_labels)\n",
    "    mape = 100 * np.mean(errors / test_labels)\n",
    "    accuracy = 100 - mape\n",
    "    print('Model Performance')\n",
    "    print('Average Error: {:0.4f} degrees.'.format(np.mean(errors)))\n",
    "    print('Accuracy = {:0.2f}%.'.format(accuracy))\n",
    "    \n",
    "    return accuracy"
   ]
  },
  {
   "cell_type": "markdown",
   "metadata": {
    "id": "c2682b08-ac63-47c4-a4f6-6cf66414b107"
   },
   "source": [
    "### Default model "
   ]
  },
  {
   "cell_type": "code",
   "execution_count": 57,
   "metadata": {
    "id": "5b0fbbb7-0541-44a6-8a11-fec43c2e9354",
    "tags": []
   },
   "outputs": [
    {
     "data": {
      "text/plain": [
       "0.9774701308474605"
      ]
     },
     "execution_count": 57,
     "metadata": {},
     "output_type": "execute_result"
    }
   ],
   "source": [
    "rf_final = RandomForestRegressor(max_depth = 80, max_features = 3, min_samples_leaf = 3, min_samples_split = 8)\n",
    "rf_final.fit(X_train, y_train)\n",
    "pred = rf_final.predict((X_test))\n",
    "rf_final.score(X_test,y_test)"
   ]
  },
  {
   "cell_type": "code",
   "execution_count": 127,
   "metadata": {
    "id": "95791517-aae4-4492-a722-28feebe7ca75",
    "tags": []
   },
   "outputs": [
    {
     "name": "stdout",
     "output_type": "stream",
     "text": [
      "MAE :309.04355005711864\n",
      "MSE :268364.06305746484\n",
      "RMSE :518.0386694615228\n"
     ]
    }
   ],
   "source": [
    "#using metrincs of linear regression we can find error of the model\n",
    "from sklearn.metrics import mean_absolute_error, mean_squared_error\n",
    "import numpy as np\n",
    "\n",
    "print('MAE :' +str(mean_absolute_error(y_test,pred)))\n",
    "print('MSE :' +str(mean_squared_error(y_test,pred)))\n",
    "print('RMSE :' +str(np.sqrt(mean_squared_error(y_test,pred))))"
   ]
  },
  {
   "cell_type": "code",
   "execution_count": 128,
   "metadata": {
    "id": "360eea4a-541b-46b9-be82-b46f2a21fe59",
    "tags": []
   },
   "outputs": [
    {
     "name": "stdout",
     "output_type": "stream",
     "text": [
      "0.9433663683866812 307.70487336615605\n"
     ]
    },
    {
     "data": {
      "image/png": "[encoded data removed]",
      "text/plain": [
       "<Figure size 800x600 with 1 Axes>"
      ]
     },
     "metadata": {},
     "output_type": "display_data"
    }
   ],
   "source": [
    "from scipy import stats\n",
    "corr_coeff=stats.pearsonr(pred, y_test)[0]\n",
    "\n",
    "fig,ax =plt.subplots(figsize=(8,6))\n",
    "ax.scatter(y_test,pred)\n",
    "#compute fit\n",
    "m, b = np.polyfit(y_test, pred, 1)\n",
    "ax.plot(y_test, m*y_test+b, color='k', label='Regression model')\n",
    "ax.legend()\n",
    "plt.text(0.5, 0.3, 'Slope: ' +str(round(m,2)) , transform = ax.transAxes, fontsize = 10)\n",
    "plt.text(0.5, 0.2, 'Correlation coefficient: ' +str(round(corr_coeff,2)) , transform = ax.transAxes, fontsize = 10)\n",
    "\n",
    "print(m,b)"
   ]
  },
  {
   "cell_type": "markdown",
   "metadata": {
    "id": "ad8235ba-2ab8-454c-a6fe-08145e65b421"
   },
   "source": [
    "### Best Random Search Model "
   ]
  },
  {
   "cell_type": "code",
   "execution_count": 129,
   "metadata": {
    "id": "936c164f-c0fd-4ea6-a97a-6516c3e5b6fa",
    "tags": []
   },
   "outputs": [
    {
     "ename": "AttributeError",
     "evalue": "'RandomizedSearchCV' object has no attribute 'best_estimator_'",
     "output_type": "error",
     "traceback": [
      "\u001b[0;31m---------------------------------------------------------------------------\u001b[0m",
      "\u001b[0;31mAttributeError\u001b[0m                            Traceback (most recent call last)",
      "\u001b[0;32m<ipython-input-129-d40578409bcd>\u001b[0m in \u001b[0;36m<module>\u001b[0;34m\u001b[0m\n\u001b[0;32m----> 1\u001b[0;31m \u001b[0mbest_random\u001b[0m \u001b[0;34m=\u001b[0m \u001b[0mrf_random\u001b[0m\u001b[0;34m.\u001b[0m\u001b[0mbest_estimator_\u001b[0m\u001b[0;34m\u001b[0m\u001b[0;34m\u001b[0m\u001b[0m\n\u001b[0m\u001b[1;32m      2\u001b[0m \u001b[0mrandom_accuracy\u001b[0m \u001b[0;34m=\u001b[0m \u001b[0mevaluate\u001b[0m\u001b[0;34m(\u001b[0m\u001b[0mbest_random\u001b[0m\u001b[0;34m,\u001b[0m \u001b[0mX_test\u001b[0m\u001b[0;34m,\u001b[0m \u001b[0my_test\u001b[0m\u001b[0;34m)\u001b[0m\u001b[0;34m\u001b[0m\u001b[0;34m\u001b[0m\u001b[0m\n",
      "\u001b[0;31mAttributeError\u001b[0m: 'RandomizedSearchCV' object has no attribute 'best_estimator_'"
     ]
    }
   ],
   "source": [
    "best_random = rf_random.best_estimator_\n",
    "random_accuracy = evaluate(best_random, X_test, y_test)"
   ]
  },
  {
   "cell_type": "code",
   "execution_count": 62,
   "metadata": {
    "id": "6ba4bfa9-00f6-4174-9b6f-4c934e83c4bd",
    "tags": []
   },
   "outputs": [
    {
     "ename": "NameError",
     "evalue": "name 'random_accuracy' is not defined",
     "output_type": "error",
     "traceback": [
      "\u001b[0;31m---------------------------------------------------------------------------\u001b[0m",
      "\u001b[0;31mNameError\u001b[0m                                 Traceback (most recent call last)",
      "\u001b[0;32m<ipython-input-62-da0c2f15676e>\u001b[0m in \u001b[0;36m<module>\u001b[0;34m\u001b[0m\n\u001b[0;32m----> 1\u001b[0;31m \u001b[0mprint\u001b[0m\u001b[0;34m(\u001b[0m\u001b[0;34m'Improvement of {:0.4f}%.'\u001b[0m\u001b[0;34m.\u001b[0m\u001b[0mformat\u001b[0m\u001b[0;34m(\u001b[0m \u001b[0;36m100\u001b[0m \u001b[0;34m*\u001b[0m \u001b[0;34m(\u001b[0m\u001b[0mrandom_accuracy\u001b[0m \u001b[0;34m-\u001b[0m \u001b[0mbase_accuracy\u001b[0m\u001b[0;34m)\u001b[0m \u001b[0;34m/\u001b[0m \u001b[0mbase_accuracy\u001b[0m\u001b[0;34m)\u001b[0m\u001b[0;34m)\u001b[0m\u001b[0;34m\u001b[0m\u001b[0;34m\u001b[0m\u001b[0m\n\u001b[0m",
      "\u001b[0;31mNameError\u001b[0m: name 'random_accuracy' is not defined"
     ]
    }
   ],
   "source": [
    "print('Improvement of {:0.4f}%.'.format( 100 * (random_accuracy - base_accuracy) / base_accuracy))"
   ]
  },
  {
   "cell_type": "markdown",
   "metadata": {
    "id": "901b00d5-50da-4cf5-8cad-bff8b150f6df"
   },
   "source": [
    "### Grid Search Model "
   ]
  },
  {
   "cell_type": "code",
   "execution_count": 63,
   "metadata": {
    "id": "00b02c48-2dd4-44c3-9c54-20ddf66acef8",
    "tags": []
   },
   "outputs": [
    {
     "ename": "NameError",
     "evalue": "name 'evaluate' is not defined",
     "output_type": "error",
     "traceback": [
      "\u001b[0;31m---------------------------------------------------------------------------\u001b[0m",
      "\u001b[0;31mNameError\u001b[0m                                 Traceback (most recent call last)",
      "\u001b[0;32m<ipython-input-63-b89341e9f631>\u001b[0m in \u001b[0;36m<module>\u001b[0;34m\u001b[0m\n\u001b[1;32m      1\u001b[0m \u001b[0mbest_grid\u001b[0m \u001b[0;34m=\u001b[0m \u001b[0mgrid_search\u001b[0m\u001b[0;34m.\u001b[0m\u001b[0mbest_estimator_\u001b[0m\u001b[0;34m\u001b[0m\u001b[0;34m\u001b[0m\u001b[0m\n\u001b[0;32m----> 2\u001b[0;31m \u001b[0mgrid_accuracy\u001b[0m \u001b[0;34m=\u001b[0m \u001b[0mevaluate\u001b[0m\u001b[0;34m(\u001b[0m\u001b[0mbest_grid\u001b[0m\u001b[0;34m,\u001b[0m \u001b[0mX_test\u001b[0m\u001b[0;34m,\u001b[0m \u001b[0my_test\u001b[0m\u001b[0;34m)\u001b[0m\u001b[0;34m\u001b[0m\u001b[0;34m\u001b[0m\u001b[0m\n\u001b[0m",
      "\u001b[0;31mNameError\u001b[0m: name 'evaluate' is not defined"
     ]
    }
   ],
   "source": [
    "best_grid = grid_search.best_estimator_\n",
    "grid_accuracy = evaluate(best_grid, X_test, y_test)"
   ]
  },
  {
   "cell_type": "code",
   "execution_count": 64,
   "metadata": {
    "id": "ddb5765f-ba94-4639-a4d5-bc060d19b620",
    "tags": []
   },
   "outputs": [
    {
     "ename": "NameError",
     "evalue": "name 'grid_accuracy' is not defined",
     "output_type": "error",
     "traceback": [
      "\u001b[0;31m---------------------------------------------------------------------------\u001b[0m",
      "\u001b[0;31mNameError\u001b[0m                                 Traceback (most recent call last)",
      "\u001b[0;32m<ipython-input-64-7b37e9ec86bc>\u001b[0m in \u001b[0;36m<module>\u001b[0;34m\u001b[0m\n\u001b[0;32m----> 1\u001b[0;31m \u001b[0mprint\u001b[0m\u001b[0;34m(\u001b[0m\u001b[0;34m'Improvement of {:0.4f}%.'\u001b[0m\u001b[0;34m.\u001b[0m\u001b[0mformat\u001b[0m\u001b[0;34m(\u001b[0m \u001b[0;36m100\u001b[0m \u001b[0;34m*\u001b[0m \u001b[0;34m(\u001b[0m\u001b[0mgrid_accuracy\u001b[0m \u001b[0;34m-\u001b[0m \u001b[0mbase_accuracy\u001b[0m\u001b[0;34m)\u001b[0m \u001b[0;34m/\u001b[0m \u001b[0mbase_accuracy\u001b[0m\u001b[0;34m)\u001b[0m\u001b[0;34m)\u001b[0m\u001b[0;34m\u001b[0m\u001b[0;34m\u001b[0m\u001b[0m\n\u001b[0m",
      "\u001b[0;31mNameError\u001b[0m: name 'grid_accuracy' is not defined"
     ]
    }
   ],
   "source": [
    "print('Improvement of {:0.4f}%.'.format( 100 * (grid_accuracy - base_accuracy) / base_accuracy))"
   ]
  },
  {
   "cell_type": "markdown",
   "metadata": {
    "id": "21912d30-6828-4e2a-9fe5-b5397ebc1974"
   },
   "source": [
    "# OUTPUT"
   ]
  },
  {
   "cell_type": "code",
   "execution_count": 65,
   "metadata": {
    "id": "755f2984-963c-43b0-a306-eac8257907c2",
    "tags": []
   },
   "outputs": [],
   "source": [
    "np.savetxt('predictions.csv',pred)"
   ]
  },
  {
   "cell_type": "markdown",
   "metadata": {
    "id": "34920a77-d76e-4a1f-99cd-09f19404d22b"
   },
   "source": [
    "# Importance of variables\n"
   ]
  },
  {
   "cell_type": "code",
   "execution_count": 66,
   "metadata": {
    "id": "9c327570-f083-45ac-a24d-052d9831e137",
    "tags": []
   },
   "outputs": [],
   "source": [
    "#apply transformation on data so we can plot them correctly \n",
    "nls.NA_to_MEAN(master_sales,NA_columns)\n",
    "sales_transformed = pd.DataFrame(scaler.fit_transform(master_sales), index = master_sales.index, columns = master_sales.columns)\n",
    "\n",
    "#list of feature columns except target column Sales\n",
    "cl_list = sales_transformed.drop('Sales', axis=1).columns.values\n",
    "\n",
    "#compute correlation coef of Sales with other columns\n",
    "sales_corr=[]\n",
    "for i in cl_list:\n",
    "     sales_corr.append(stats.pearsonr(sales_transformed['Sales'], sales_transformed[i])[0])\n",
    "\n"
   ]
  },
  {
   "cell_type": "code",
   "execution_count": 67,
   "metadata": {
    "id": "af052905-f957-473c-8322-1176c2762e46",
    "tags": []
   },
   "outputs": [
    {
     "data": {
      "image/png": "[encoded data removed]",
      "text/plain": [
       "<Figure size 640x480 with 1 Axes>"
      ]
     },
     "metadata": {},
     "output_type": "display_data"
    }
   ],
   "source": [
    "#plot corr coef against features\n",
    "import plotly.express as px\n",
    "\n",
    "plt.plot(sales_transformed.drop('Sales',axis=1).columns,sales_corr,'o:r',mec='k')\n",
    "plt.ylabel('Correlation coefficient')\n",
    "plt.xticks(rotation=80)\n",
    "plt.show()"
   ]
  },
  {
   "cell_type": "markdown",
   "metadata": {
    "id": "a47937cf-f907-4826-a156-17ae3a2501b3"
   },
   "source": [
    "We can see from graph that the feature that has the highest impact on Sales prediction are:  \n",
    "- customer_count\n",
    "- store_open\n",
    "- promo\n"
   ]
  },
  {
   "cell_type": "markdown",
   "metadata": {
    "id": "6f43b4f2-7c10-4e79-8c27-6696cb0f88fe"
   },
   "source": [
    "# BUSINESS IMPLICATIONS"
   ]
  },
  {
   "cell_type": "markdown",
   "metadata": {
    "id": "fcff0df0-1c87-45ea-a489-8bc6bb93aec5"
   },
   "source": [
    "We used RandomForestRegressor model:\n",
    "- comes from random foreast family -> uses several decision trees on various combination of paramters and uses averaging to improve accuracy of predictions \n",
    "- reduces overfitting in decision trees\n",
    "- good in predicting of customer eligibility"
   ]
  }
 ],
 "metadata": {
  "kernelspec": {
   "display_name": "Python 3.7",
   "language": "python",
   "name": "python3"
  },
  "language_info": {
   "codemirror_mode": {
    "name": "ipython",
    "version": 3
   },
   "file_extension": ".py",
   "mimetype": "text/x-python",
   "name": "python",
   "nbconvert_exporter": "python",
   "pygments_lexer": "ipython3",
   "version": "3.7.11"
  }
 },
 "nbformat": 4,
 "nbformat_minor": 4
}
